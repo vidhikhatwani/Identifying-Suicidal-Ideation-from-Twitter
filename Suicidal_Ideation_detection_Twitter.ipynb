{
  "nbformat": 4,
  "nbformat_minor": 0,
  "metadata": {
    "colab": {
      "provenance": [],
      "collapsed_sections": [],
      "include_colab_link": true
    },
    "kernelspec": {
      "name": "python3",
      "display_name": "Python 3"
    },
    "language_info": {
      "name": "python"
    },
    "gpuClass": "standard"
  },
  "cells": [
    {
      "cell_type": "markdown",
      "metadata": {
        "id": "view-in-github",
        "colab_type": "text"
      },
      "source": [
        "<a href=\"https://colab.research.google.com/github/vidhikhatwani/Identifying-Suicidal-Ideation-from-Twitter/blob/main/Suicidal_Ideation_detection_Twitter.ipynb\" target=\"_parent\"><img src=\"https://colab.research.google.com/assets/colab-badge.svg\" alt=\"Open In Colab\"/></a>"
      ]
    },
    {
      "cell_type": "code",
      "execution_count": null,
      "metadata": {
        "id": "JWDoqnc0Lmqr"
      },
      "outputs": [],
      "source": [
        "import pandas as pd\n",
        "import numpy as np\n",
        "import nltk\n",
        "from nltk.tokenize import TweetTokenizer\n",
        "import sklearn"
      ]
    },
    {
      "cell_type": "code",
      "source": [
        "pip install git+https://github.com/laxmimerit/preprocess_kgptalkie.git"
      ],
      "metadata": {
        "colab": {
          "base_uri": "https://localhost:8080/"
        },
        "id": "3Xw8YtZiL4X1",
        "outputId": "84a30abf-0a8e-42e9-9f9b-5eef0045b74f"
      },
      "execution_count": null,
      "outputs": [
        {
          "output_type": "stream",
          "name": "stdout",
          "text": [
            "Looking in indexes: https://pypi.org/simple, https://us-python.pkg.dev/colab-wheels/public/simple/\n",
            "Collecting git+https://github.com/laxmimerit/preprocess_kgptalkie.git\n",
            "  Cloning https://github.com/laxmimerit/preprocess_kgptalkie.git to /tmp/pip-req-build-87mrn7f9\n",
            "  Running command git clone -q https://github.com/laxmimerit/preprocess_kgptalkie.git /tmp/pip-req-build-87mrn7f9\n",
            "Building wheels for collected packages: preprocess-kgptalkie\n",
            "  Building wheel for preprocess-kgptalkie (setup.py) ... \u001b[?25l\u001b[?25hdone\n",
            "  Created wheel for preprocess-kgptalkie: filename=preprocess_kgptalkie-0.1.3-py3-none-any.whl size=11756 sha256=9a78c49810ed94b05fa86b7cc966353056973210391c00611f7256993d57b599\n",
            "  Stored in directory: /tmp/pip-ephem-wheel-cache-s1o0_ami/wheels/0d/b3/29/bfe3deffda68980088d17b81331be6667e837ffb4a071bae82\n",
            "Successfully built preprocess-kgptalkie\n",
            "Installing collected packages: preprocess-kgptalkie\n",
            "Successfully installed preprocess-kgptalkie-0.1.3\n"
          ]
        }
      ]
    },
    {
      "cell_type": "code",
      "source": [
        "import preprocess_kgptalkie as ps\n",
        "import re"
      ],
      "metadata": {
        "id": "WPGDNz4pL5rw",
        "colab": {
          "base_uri": "https://localhost:8080/"
        },
        "outputId": "27401807-a383-49ea-e0c3-11cae569258a"
      },
      "execution_count": null,
      "outputs": [
        {
          "output_type": "stream",
          "name": "stderr",
          "text": [
            "/usr/local/lib/python3.7/dist-packages/spacy/language.py:1899: UserWarning: [W123] Argument disable with value [] is used instead of ['senter'] as specified in the config. Be aware that this might affect other components in your pipeline.\n",
            "  config_value=config[\"nlp\"][key],\n"
          ]
        }
      ]
    },
    {
      "cell_type": "code",
      "source": [
        "data = pd.read_csv(r'tweets.csv')"
      ],
      "metadata": {
        "id": "sft-Wq8zL9EP"
      },
      "execution_count": null,
      "outputs": []
    },
    {
      "cell_type": "code",
      "source": [
        "data"
      ],
      "metadata": {
        "colab": {
          "base_uri": "https://localhost:8080/",
          "height": 1000
        },
        "id": "mYnUmZWYza1V",
        "outputId": "d6916063-567d-49f8-980f-fa24d23b51bf"
      },
      "execution_count": null,
      "outputs": [
        {
          "output_type": "execute_result",
          "data": {
            "text/plain": [
              "       Target          ID                      DateTime         Username  \\\n",
              "0           1  1467810369  Mon Apr 06 22:19:45 PDT 2009  _TheSpecialOne_   \n",
              "1           1  1467810672  Mon Apr 06 22:19:49 PDT 2009    scotthamilton   \n",
              "2           1  1467810917  Mon Apr 06 22:19:53 PDT 2009         mattycus   \n",
              "3           1  1467811184  Mon Apr 06 22:19:57 PDT 2009          ElleCTF   \n",
              "4           1  1467811193  Mon Apr 06 22:19:57 PDT 2009           Karoli   \n",
              "...       ...         ...                           ...              ...   \n",
              "19996       0  1960186342  Fri May 29 07:33:44 PDT 2009  Madelinedugganx   \n",
              "19997       0  1960186409  Fri May 29 07:33:43 PDT 2009     OffRoad_Dude   \n",
              "19998       0  1960186429  Fri May 29 07:33:44 PDT 2009         Falchion   \n",
              "19999       0  1960186445  Fri May 29 07:33:44 PDT 2009   jonasobsessedx   \n",
              "20000       0  1960186607  Fri May 29 07:33:45 PDT 2009        sugababez   \n",
              "\n",
              "                                                   Tweet Unnamed: 5  \\\n",
              "0      @switchfoot http://twitpic.com/2y1zl - Awww, t...        NaN   \n",
              "1      is upset that he can't update his Facebook by ...        NaN   \n",
              "2      @Kenichan I dived many times for the ball. Man...        NaN   \n",
              "3        my whole body feels itchy and like its on fire         NaN   \n",
              "4      @nationwideclass no, it's not behaving at all....        NaN   \n",
              "...                                                  ...        ...   \n",
              "19996           My GrandMa is making Dinenr with my Mum         NaN   \n",
              "19997  Mid-morning snack time... A bowl of cheese noo...        NaN   \n",
              "19998  @ShaDeLa same here  say it like from the Termi...        NaN   \n",
              "19999             @DestinyHope92 im great thaanks  wbuu?        NaN   \n",
              "20000               cant wait til her date this weekend         NaN   \n",
              "\n",
              "      Unnamed: 6 Unnamed: 7 Unnamed: 8 Unnamed: 9 Unnamed: 10 Unnamed: 11  \\\n",
              "0            NaN        NaN        NaN        NaN         NaN         NaN   \n",
              "1            NaN        NaN        NaN        NaN         NaN         NaN   \n",
              "2            NaN        NaN        NaN        NaN         NaN         NaN   \n",
              "3            NaN        NaN        NaN        NaN         NaN         NaN   \n",
              "4            NaN        NaN        NaN        NaN         NaN         NaN   \n",
              "...          ...        ...        ...        ...         ...         ...   \n",
              "19996        NaN        NaN        NaN        NaN         NaN         NaN   \n",
              "19997        NaN        NaN        NaN        NaN         NaN         NaN   \n",
              "19998        NaN        NaN        NaN        NaN         NaN         NaN   \n",
              "19999        NaN        NaN        NaN        NaN         NaN         NaN   \n",
              "20000        NaN        NaN        NaN        NaN         NaN         NaN   \n",
              "\n",
              "      Unnamed: 12 Unnamed: 13  \n",
              "0             NaN         NaN  \n",
              "1             NaN         NaN  \n",
              "2             NaN         NaN  \n",
              "3             NaN         NaN  \n",
              "4             NaN         NaN  \n",
              "...           ...         ...  \n",
              "19996         NaN         NaN  \n",
              "19997         NaN         NaN  \n",
              "19998         NaN         NaN  \n",
              "19999         NaN         NaN  \n",
              "20000         NaN         NaN  \n",
              "\n",
              "[20001 rows x 14 columns]"
            ],
            "text/html": [
              "\n",
              "  <div id=\"df-7d5ba8eb-5bdb-47e0-9f4a-2cf01010feeb\">\n",
              "    <div class=\"colab-df-container\">\n",
              "      <div>\n",
              "<style scoped>\n",
              "    .dataframe tbody tr th:only-of-type {\n",
              "        vertical-align: middle;\n",
              "    }\n",
              "\n",
              "    .dataframe tbody tr th {\n",
              "        vertical-align: top;\n",
              "    }\n",
              "\n",
              "    .dataframe thead th {\n",
              "        text-align: right;\n",
              "    }\n",
              "</style>\n",
              "<table border=\"1\" class=\"dataframe\">\n",
              "  <thead>\n",
              "    <tr style=\"text-align: right;\">\n",
              "      <th></th>\n",
              "      <th>Target</th>\n",
              "      <th>ID</th>\n",
              "      <th>DateTime</th>\n",
              "      <th>Username</th>\n",
              "      <th>Tweet</th>\n",
              "      <th>Unnamed: 5</th>\n",
              "      <th>Unnamed: 6</th>\n",
              "      <th>Unnamed: 7</th>\n",
              "      <th>Unnamed: 8</th>\n",
              "      <th>Unnamed: 9</th>\n",
              "      <th>Unnamed: 10</th>\n",
              "      <th>Unnamed: 11</th>\n",
              "      <th>Unnamed: 12</th>\n",
              "      <th>Unnamed: 13</th>\n",
              "    </tr>\n",
              "  </thead>\n",
              "  <tbody>\n",
              "    <tr>\n",
              "      <th>0</th>\n",
              "      <td>1</td>\n",
              "      <td>1467810369</td>\n",
              "      <td>Mon Apr 06 22:19:45 PDT 2009</td>\n",
              "      <td>_TheSpecialOne_</td>\n",
              "      <td>@switchfoot http://twitpic.com/2y1zl - Awww, t...</td>\n",
              "      <td>NaN</td>\n",
              "      <td>NaN</td>\n",
              "      <td>NaN</td>\n",
              "      <td>NaN</td>\n",
              "      <td>NaN</td>\n",
              "      <td>NaN</td>\n",
              "      <td>NaN</td>\n",
              "      <td>NaN</td>\n",
              "      <td>NaN</td>\n",
              "    </tr>\n",
              "    <tr>\n",
              "      <th>1</th>\n",
              "      <td>1</td>\n",
              "      <td>1467810672</td>\n",
              "      <td>Mon Apr 06 22:19:49 PDT 2009</td>\n",
              "      <td>scotthamilton</td>\n",
              "      <td>is upset that he can't update his Facebook by ...</td>\n",
              "      <td>NaN</td>\n",
              "      <td>NaN</td>\n",
              "      <td>NaN</td>\n",
              "      <td>NaN</td>\n",
              "      <td>NaN</td>\n",
              "      <td>NaN</td>\n",
              "      <td>NaN</td>\n",
              "      <td>NaN</td>\n",
              "      <td>NaN</td>\n",
              "    </tr>\n",
              "    <tr>\n",
              "      <th>2</th>\n",
              "      <td>1</td>\n",
              "      <td>1467810917</td>\n",
              "      <td>Mon Apr 06 22:19:53 PDT 2009</td>\n",
              "      <td>mattycus</td>\n",
              "      <td>@Kenichan I dived many times for the ball. Man...</td>\n",
              "      <td>NaN</td>\n",
              "      <td>NaN</td>\n",
              "      <td>NaN</td>\n",
              "      <td>NaN</td>\n",
              "      <td>NaN</td>\n",
              "      <td>NaN</td>\n",
              "      <td>NaN</td>\n",
              "      <td>NaN</td>\n",
              "      <td>NaN</td>\n",
              "    </tr>\n",
              "    <tr>\n",
              "      <th>3</th>\n",
              "      <td>1</td>\n",
              "      <td>1467811184</td>\n",
              "      <td>Mon Apr 06 22:19:57 PDT 2009</td>\n",
              "      <td>ElleCTF</td>\n",
              "      <td>my whole body feels itchy and like its on fire</td>\n",
              "      <td>NaN</td>\n",
              "      <td>NaN</td>\n",
              "      <td>NaN</td>\n",
              "      <td>NaN</td>\n",
              "      <td>NaN</td>\n",
              "      <td>NaN</td>\n",
              "      <td>NaN</td>\n",
              "      <td>NaN</td>\n",
              "      <td>NaN</td>\n",
              "    </tr>\n",
              "    <tr>\n",
              "      <th>4</th>\n",
              "      <td>1</td>\n",
              "      <td>1467811193</td>\n",
              "      <td>Mon Apr 06 22:19:57 PDT 2009</td>\n",
              "      <td>Karoli</td>\n",
              "      <td>@nationwideclass no, it's not behaving at all....</td>\n",
              "      <td>NaN</td>\n",
              "      <td>NaN</td>\n",
              "      <td>NaN</td>\n",
              "      <td>NaN</td>\n",
              "      <td>NaN</td>\n",
              "      <td>NaN</td>\n",
              "      <td>NaN</td>\n",
              "      <td>NaN</td>\n",
              "      <td>NaN</td>\n",
              "    </tr>\n",
              "    <tr>\n",
              "      <th>...</th>\n",
              "      <td>...</td>\n",
              "      <td>...</td>\n",
              "      <td>...</td>\n",
              "      <td>...</td>\n",
              "      <td>...</td>\n",
              "      <td>...</td>\n",
              "      <td>...</td>\n",
              "      <td>...</td>\n",
              "      <td>...</td>\n",
              "      <td>...</td>\n",
              "      <td>...</td>\n",
              "      <td>...</td>\n",
              "      <td>...</td>\n",
              "      <td>...</td>\n",
              "    </tr>\n",
              "    <tr>\n",
              "      <th>19996</th>\n",
              "      <td>0</td>\n",
              "      <td>1960186342</td>\n",
              "      <td>Fri May 29 07:33:44 PDT 2009</td>\n",
              "      <td>Madelinedugganx</td>\n",
              "      <td>My GrandMa is making Dinenr with my Mum</td>\n",
              "      <td>NaN</td>\n",
              "      <td>NaN</td>\n",
              "      <td>NaN</td>\n",
              "      <td>NaN</td>\n",
              "      <td>NaN</td>\n",
              "      <td>NaN</td>\n",
              "      <td>NaN</td>\n",
              "      <td>NaN</td>\n",
              "      <td>NaN</td>\n",
              "    </tr>\n",
              "    <tr>\n",
              "      <th>19997</th>\n",
              "      <td>0</td>\n",
              "      <td>1960186409</td>\n",
              "      <td>Fri May 29 07:33:43 PDT 2009</td>\n",
              "      <td>OffRoad_Dude</td>\n",
              "      <td>Mid-morning snack time... A bowl of cheese noo...</td>\n",
              "      <td>NaN</td>\n",
              "      <td>NaN</td>\n",
              "      <td>NaN</td>\n",
              "      <td>NaN</td>\n",
              "      <td>NaN</td>\n",
              "      <td>NaN</td>\n",
              "      <td>NaN</td>\n",
              "      <td>NaN</td>\n",
              "      <td>NaN</td>\n",
              "    </tr>\n",
              "    <tr>\n",
              "      <th>19998</th>\n",
              "      <td>0</td>\n",
              "      <td>1960186429</td>\n",
              "      <td>Fri May 29 07:33:44 PDT 2009</td>\n",
              "      <td>Falchion</td>\n",
              "      <td>@ShaDeLa same here  say it like from the Termi...</td>\n",
              "      <td>NaN</td>\n",
              "      <td>NaN</td>\n",
              "      <td>NaN</td>\n",
              "      <td>NaN</td>\n",
              "      <td>NaN</td>\n",
              "      <td>NaN</td>\n",
              "      <td>NaN</td>\n",
              "      <td>NaN</td>\n",
              "      <td>NaN</td>\n",
              "    </tr>\n",
              "    <tr>\n",
              "      <th>19999</th>\n",
              "      <td>0</td>\n",
              "      <td>1960186445</td>\n",
              "      <td>Fri May 29 07:33:44 PDT 2009</td>\n",
              "      <td>jonasobsessedx</td>\n",
              "      <td>@DestinyHope92 im great thaanks  wbuu?</td>\n",
              "      <td>NaN</td>\n",
              "      <td>NaN</td>\n",
              "      <td>NaN</td>\n",
              "      <td>NaN</td>\n",
              "      <td>NaN</td>\n",
              "      <td>NaN</td>\n",
              "      <td>NaN</td>\n",
              "      <td>NaN</td>\n",
              "      <td>NaN</td>\n",
              "    </tr>\n",
              "    <tr>\n",
              "      <th>20000</th>\n",
              "      <td>0</td>\n",
              "      <td>1960186607</td>\n",
              "      <td>Fri May 29 07:33:45 PDT 2009</td>\n",
              "      <td>sugababez</td>\n",
              "      <td>cant wait til her date this weekend</td>\n",
              "      <td>NaN</td>\n",
              "      <td>NaN</td>\n",
              "      <td>NaN</td>\n",
              "      <td>NaN</td>\n",
              "      <td>NaN</td>\n",
              "      <td>NaN</td>\n",
              "      <td>NaN</td>\n",
              "      <td>NaN</td>\n",
              "      <td>NaN</td>\n",
              "    </tr>\n",
              "  </tbody>\n",
              "</table>\n",
              "<p>20001 rows × 14 columns</p>\n",
              "</div>\n",
              "      <button class=\"colab-df-convert\" onclick=\"convertToInteractive('df-7d5ba8eb-5bdb-47e0-9f4a-2cf01010feeb')\"\n",
              "              title=\"Convert this dataframe to an interactive table.\"\n",
              "              style=\"display:none;\">\n",
              "        \n",
              "  <svg xmlns=\"http://www.w3.org/2000/svg\" height=\"24px\"viewBox=\"0 0 24 24\"\n",
              "       width=\"24px\">\n",
              "    <path d=\"M0 0h24v24H0V0z\" fill=\"none\"/>\n",
              "    <path d=\"M18.56 5.44l.94 2.06.94-2.06 2.06-.94-2.06-.94-.94-2.06-.94 2.06-2.06.94zm-11 1L8.5 8.5l.94-2.06 2.06-.94-2.06-.94L8.5 2.5l-.94 2.06-2.06.94zm10 10l.94 2.06.94-2.06 2.06-.94-2.06-.94-.94-2.06-.94 2.06-2.06.94z\"/><path d=\"M17.41 7.96l-1.37-1.37c-.4-.4-.92-.59-1.43-.59-.52 0-1.04.2-1.43.59L10.3 9.45l-7.72 7.72c-.78.78-.78 2.05 0 2.83L4 21.41c.39.39.9.59 1.41.59.51 0 1.02-.2 1.41-.59l7.78-7.78 2.81-2.81c.8-.78.8-2.07 0-2.86zM5.41 20L4 18.59l7.72-7.72 1.47 1.35L5.41 20z\"/>\n",
              "  </svg>\n",
              "      </button>\n",
              "      \n",
              "  <style>\n",
              "    .colab-df-container {\n",
              "      display:flex;\n",
              "      flex-wrap:wrap;\n",
              "      gap: 12px;\n",
              "    }\n",
              "\n",
              "    .colab-df-convert {\n",
              "      background-color: #E8F0FE;\n",
              "      border: none;\n",
              "      border-radius: 50%;\n",
              "      cursor: pointer;\n",
              "      display: none;\n",
              "      fill: #1967D2;\n",
              "      height: 32px;\n",
              "      padding: 0 0 0 0;\n",
              "      width: 32px;\n",
              "    }\n",
              "\n",
              "    .colab-df-convert:hover {\n",
              "      background-color: #E2EBFA;\n",
              "      box-shadow: 0px 1px 2px rgba(60, 64, 67, 0.3), 0px 1px 3px 1px rgba(60, 64, 67, 0.15);\n",
              "      fill: #174EA6;\n",
              "    }\n",
              "\n",
              "    [theme=dark] .colab-df-convert {\n",
              "      background-color: #3B4455;\n",
              "      fill: #D2E3FC;\n",
              "    }\n",
              "\n",
              "    [theme=dark] .colab-df-convert:hover {\n",
              "      background-color: #434B5C;\n",
              "      box-shadow: 0px 1px 3px 1px rgba(0, 0, 0, 0.15);\n",
              "      filter: drop-shadow(0px 1px 2px rgba(0, 0, 0, 0.3));\n",
              "      fill: #FFFFFF;\n",
              "    }\n",
              "  </style>\n",
              "\n",
              "      <script>\n",
              "        const buttonEl =\n",
              "          document.querySelector('#df-7d5ba8eb-5bdb-47e0-9f4a-2cf01010feeb button.colab-df-convert');\n",
              "        buttonEl.style.display =\n",
              "          google.colab.kernel.accessAllowed ? 'block' : 'none';\n",
              "\n",
              "        async function convertToInteractive(key) {\n",
              "          const element = document.querySelector('#df-7d5ba8eb-5bdb-47e0-9f4a-2cf01010feeb');\n",
              "          const dataTable =\n",
              "            await google.colab.kernel.invokeFunction('convertToInteractive',\n",
              "                                                     [key], {});\n",
              "          if (!dataTable) return;\n",
              "\n",
              "          const docLinkHtml = 'Like what you see? Visit the ' +\n",
              "            '<a target=\"_blank\" href=https://colab.research.google.com/notebooks/data_table.ipynb>data table notebook</a>'\n",
              "            + ' to learn more about interactive tables.';\n",
              "          element.innerHTML = '';\n",
              "          dataTable['output_type'] = 'display_data';\n",
              "          await google.colab.output.renderOutput(dataTable, element);\n",
              "          const docLink = document.createElement('div');\n",
              "          docLink.innerHTML = docLinkHtml;\n",
              "          element.appendChild(docLink);\n",
              "        }\n",
              "      </script>\n",
              "    </div>\n",
              "  </div>\n",
              "  "
            ]
          },
          "metadata": {},
          "execution_count": 6
        }
      ]
    },
    {
      "cell_type": "code",
      "source": [
        "df  = pd.DataFrame(data[[ 'Target','Tweet']])"
      ],
      "metadata": {
        "id": "LPlIz9jpMDbt"
      },
      "execution_count": null,
      "outputs": []
    },
    {
      "cell_type": "code",
      "source": [
        "df.head()"
      ],
      "metadata": {
        "colab": {
          "base_uri": "https://localhost:8080/",
          "height": 206
        },
        "id": "bmyenaDazodW",
        "outputId": "c2297a97-415f-4a5b-b0dd-5e902c538240"
      },
      "execution_count": null,
      "outputs": [
        {
          "output_type": "execute_result",
          "data": {
            "text/plain": [
              "   Target                                              Tweet\n",
              "0       1  @switchfoot http://twitpic.com/2y1zl - Awww, t...\n",
              "1       1  is upset that he can't update his Facebook by ...\n",
              "2       1  @Kenichan I dived many times for the ball. Man...\n",
              "3       1    my whole body feels itchy and like its on fire \n",
              "4       1  @nationwideclass no, it's not behaving at all...."
            ],
            "text/html": [
              "\n",
              "  <div id=\"df-f0f94363-56ed-46b7-93f3-a3677025ab0c\">\n",
              "    <div class=\"colab-df-container\">\n",
              "      <div>\n",
              "<style scoped>\n",
              "    .dataframe tbody tr th:only-of-type {\n",
              "        vertical-align: middle;\n",
              "    }\n",
              "\n",
              "    .dataframe tbody tr th {\n",
              "        vertical-align: top;\n",
              "    }\n",
              "\n",
              "    .dataframe thead th {\n",
              "        text-align: right;\n",
              "    }\n",
              "</style>\n",
              "<table border=\"1\" class=\"dataframe\">\n",
              "  <thead>\n",
              "    <tr style=\"text-align: right;\">\n",
              "      <th></th>\n",
              "      <th>Target</th>\n",
              "      <th>Tweet</th>\n",
              "    </tr>\n",
              "  </thead>\n",
              "  <tbody>\n",
              "    <tr>\n",
              "      <th>0</th>\n",
              "      <td>1</td>\n",
              "      <td>@switchfoot http://twitpic.com/2y1zl - Awww, t...</td>\n",
              "    </tr>\n",
              "    <tr>\n",
              "      <th>1</th>\n",
              "      <td>1</td>\n",
              "      <td>is upset that he can't update his Facebook by ...</td>\n",
              "    </tr>\n",
              "    <tr>\n",
              "      <th>2</th>\n",
              "      <td>1</td>\n",
              "      <td>@Kenichan I dived many times for the ball. Man...</td>\n",
              "    </tr>\n",
              "    <tr>\n",
              "      <th>3</th>\n",
              "      <td>1</td>\n",
              "      <td>my whole body feels itchy and like its on fire</td>\n",
              "    </tr>\n",
              "    <tr>\n",
              "      <th>4</th>\n",
              "      <td>1</td>\n",
              "      <td>@nationwideclass no, it's not behaving at all....</td>\n",
              "    </tr>\n",
              "  </tbody>\n",
              "</table>\n",
              "</div>\n",
              "      <button class=\"colab-df-convert\" onclick=\"convertToInteractive('df-f0f94363-56ed-46b7-93f3-a3677025ab0c')\"\n",
              "              title=\"Convert this dataframe to an interactive table.\"\n",
              "              style=\"display:none;\">\n",
              "        \n",
              "  <svg xmlns=\"http://www.w3.org/2000/svg\" height=\"24px\"viewBox=\"0 0 24 24\"\n",
              "       width=\"24px\">\n",
              "    <path d=\"M0 0h24v24H0V0z\" fill=\"none\"/>\n",
              "    <path d=\"M18.56 5.44l.94 2.06.94-2.06 2.06-.94-2.06-.94-.94-2.06-.94 2.06-2.06.94zm-11 1L8.5 8.5l.94-2.06 2.06-.94-2.06-.94L8.5 2.5l-.94 2.06-2.06.94zm10 10l.94 2.06.94-2.06 2.06-.94-2.06-.94-.94-2.06-.94 2.06-2.06.94z\"/><path d=\"M17.41 7.96l-1.37-1.37c-.4-.4-.92-.59-1.43-.59-.52 0-1.04.2-1.43.59L10.3 9.45l-7.72 7.72c-.78.78-.78 2.05 0 2.83L4 21.41c.39.39.9.59 1.41.59.51 0 1.02-.2 1.41-.59l7.78-7.78 2.81-2.81c.8-.78.8-2.07 0-2.86zM5.41 20L4 18.59l7.72-7.72 1.47 1.35L5.41 20z\"/>\n",
              "  </svg>\n",
              "      </button>\n",
              "      \n",
              "  <style>\n",
              "    .colab-df-container {\n",
              "      display:flex;\n",
              "      flex-wrap:wrap;\n",
              "      gap: 12px;\n",
              "    }\n",
              "\n",
              "    .colab-df-convert {\n",
              "      background-color: #E8F0FE;\n",
              "      border: none;\n",
              "      border-radius: 50%;\n",
              "      cursor: pointer;\n",
              "      display: none;\n",
              "      fill: #1967D2;\n",
              "      height: 32px;\n",
              "      padding: 0 0 0 0;\n",
              "      width: 32px;\n",
              "    }\n",
              "\n",
              "    .colab-df-convert:hover {\n",
              "      background-color: #E2EBFA;\n",
              "      box-shadow: 0px 1px 2px rgba(60, 64, 67, 0.3), 0px 1px 3px 1px rgba(60, 64, 67, 0.15);\n",
              "      fill: #174EA6;\n",
              "    }\n",
              "\n",
              "    [theme=dark] .colab-df-convert {\n",
              "      background-color: #3B4455;\n",
              "      fill: #D2E3FC;\n",
              "    }\n",
              "\n",
              "    [theme=dark] .colab-df-convert:hover {\n",
              "      background-color: #434B5C;\n",
              "      box-shadow: 0px 1px 3px 1px rgba(0, 0, 0, 0.15);\n",
              "      filter: drop-shadow(0px 1px 2px rgba(0, 0, 0, 0.3));\n",
              "      fill: #FFFFFF;\n",
              "    }\n",
              "  </style>\n",
              "\n",
              "      <script>\n",
              "        const buttonEl =\n",
              "          document.querySelector('#df-f0f94363-56ed-46b7-93f3-a3677025ab0c button.colab-df-convert');\n",
              "        buttonEl.style.display =\n",
              "          google.colab.kernel.accessAllowed ? 'block' : 'none';\n",
              "\n",
              "        async function convertToInteractive(key) {\n",
              "          const element = document.querySelector('#df-f0f94363-56ed-46b7-93f3-a3677025ab0c');\n",
              "          const dataTable =\n",
              "            await google.colab.kernel.invokeFunction('convertToInteractive',\n",
              "                                                     [key], {});\n",
              "          if (!dataTable) return;\n",
              "\n",
              "          const docLinkHtml = 'Like what you see? Visit the ' +\n",
              "            '<a target=\"_blank\" href=https://colab.research.google.com/notebooks/data_table.ipynb>data table notebook</a>'\n",
              "            + ' to learn more about interactive tables.';\n",
              "          element.innerHTML = '';\n",
              "          dataTable['output_type'] = 'display_data';\n",
              "          await google.colab.output.renderOutput(dataTable, element);\n",
              "          const docLink = document.createElement('div');\n",
              "          docLink.innerHTML = docLinkHtml;\n",
              "          element.appendChild(docLink);\n",
              "        }\n",
              "      </script>\n",
              "    </div>\n",
              "  </div>\n",
              "  "
            ]
          },
          "metadata": {},
          "execution_count": 8
        }
      ]
    },
    {
      "cell_type": "code",
      "source": [
        "df.size"
      ],
      "metadata": {
        "colab": {
          "base_uri": "https://localhost:8080/"
        },
        "id": "Uj6P9pD7zsrO",
        "outputId": "9e31581e-65ca-48b1-fbb6-6b1038d7ab1d"
      },
      "execution_count": null,
      "outputs": [
        {
          "output_type": "execute_result",
          "data": {
            "text/plain": [
              "40002"
            ]
          },
          "metadata": {},
          "execution_count": 9
        }
      ]
    },
    {
      "cell_type": "code",
      "source": [
        "df.shape"
      ],
      "metadata": {
        "colab": {
          "base_uri": "https://localhost:8080/"
        },
        "id": "-3sSWCto0R5l",
        "outputId": "a11061c2-5486-4dff-bb11-4d2e8aebce42"
      },
      "execution_count": null,
      "outputs": [
        {
          "output_type": "execute_result",
          "data": {
            "text/plain": [
              "(20001, 2)"
            ]
          },
          "metadata": {},
          "execution_count": 10
        }
      ]
    },
    {
      "cell_type": "code",
      "source": [
        "import seaborn as sns\n",
        "sns.countplot(x = 'Target', data = data)"
      ],
      "metadata": {
        "colab": {
          "base_uri": "https://localhost:8080/",
          "height": 296
        },
        "id": "yNqzvEIkDWDo",
        "outputId": "346dcc0f-ba1c-4194-b79c-4594ca58e2c3"
      },
      "execution_count": null,
      "outputs": [
        {
          "output_type": "execute_result",
          "data": {
            "text/plain": [
              "<matplotlib.axes._subplots.AxesSubplot at 0x7f17219aa990>"
            ]
          },
          "metadata": {},
          "execution_count": 62
        },
        {
          "output_type": "display_data",
          "data": {
            "text/plain": [
              "<Figure size 432x288 with 1 Axes>"
            ],
            "image/png": "[encoded data removed]"
          },
          "metadata": {
            "needs_background": "light"
          }
        }
      ]
    },
    {
      "cell_type": "code",
      "source": [
        "def get_clean(x):\n",
        "    x = str(x).lower().replace('\\\\', '').replace('_', ' ')\n",
        "    x = ps.cont_exp(x)\n",
        "    x = ps.remove_emails(x)\n",
        "    x = ps.remove_urls(x)\n",
        "    x = ps.remove_html_tags(x)\n",
        "    x = ps.remove_rt(x)\n",
        "    x = ps.remove_accented_chars(x)\n",
        "    x = ps.remove_special_chars(x)\n",
        "    x = re.sub(\"(.)\\\\1{2,}\", \"\\\\1\", x)\n",
        "    return x"
      ],
      "metadata": {
        "id": "Faj5V6JIME6S"
      },
      "execution_count": null,
      "outputs": []
    },
    {
      "cell_type": "code",
      "source": [
        "df['Tweet'] = df['Tweet'].apply(lambda x: get_clean(x))"
      ],
      "metadata": {
        "id": "CtNYWdL4MGQl"
      },
      "execution_count": null,
      "outputs": []
    },
    {
      "cell_type": "code",
      "source": [
        "df.head()"
      ],
      "metadata": {
        "colab": {
          "base_uri": "https://localhost:8080/",
          "height": 206
        },
        "id": "YG2Fsh-eMICQ",
        "outputId": "f40a509c-ca88-42c2-8e83-289643563075"
      },
      "execution_count": null,
      "outputs": [
        {
          "output_type": "execute_result",
          "data": {
            "text/plain": [
              "   Target                                              Tweet\n",
              "0       1  switchfoot aw that is a bummer you shoulda got...\n",
              "1       1  is upset that he cannot update his facebook by...\n",
              "2       1  kenichan i dived many times for the ball manag...\n",
              "3       1     my whole body feels itchy and like its on fire\n",
              "4       1  nationwideclass no it is not behaving at all i..."
            ],
            "text/html": [
              "\n",
              "  <div id=\"df-eeec6964-f6c3-4fdd-bc2a-6f99d364db3f\">\n",
              "    <div class=\"colab-df-container\">\n",
              "      <div>\n",
              "<style scoped>\n",
              "    .dataframe tbody tr th:only-of-type {\n",
              "        vertical-align: middle;\n",
              "    }\n",
              "\n",
              "    .dataframe tbody tr th {\n",
              "        vertical-align: top;\n",
              "    }\n",
              "\n",
              "    .dataframe thead th {\n",
              "        text-align: right;\n",
              "    }\n",
              "</style>\n",
              "<table border=\"1\" class=\"dataframe\">\n",
              "  <thead>\n",
              "    <tr style=\"text-align: right;\">\n",
              "      <th></th>\n",
              "      <th>Target</th>\n",
              "      <th>Tweet</th>\n",
              "    </tr>\n",
              "  </thead>\n",
              "  <tbody>\n",
              "    <tr>\n",
              "      <th>0</th>\n",
              "      <td>1</td>\n",
              "      <td>switchfoot aw that is a bummer you shoulda got...</td>\n",
              "    </tr>\n",
              "    <tr>\n",
              "      <th>1</th>\n",
              "      <td>1</td>\n",
              "      <td>is upset that he cannot update his facebook by...</td>\n",
              "    </tr>\n",
              "    <tr>\n",
              "      <th>2</th>\n",
              "      <td>1</td>\n",
              "      <td>kenichan i dived many times for the ball manag...</td>\n",
              "    </tr>\n",
              "    <tr>\n",
              "      <th>3</th>\n",
              "      <td>1</td>\n",
              "      <td>my whole body feels itchy and like its on fire</td>\n",
              "    </tr>\n",
              "    <tr>\n",
              "      <th>4</th>\n",
              "      <td>1</td>\n",
              "      <td>nationwideclass no it is not behaving at all i...</td>\n",
              "    </tr>\n",
              "  </tbody>\n",
              "</table>\n",
              "</div>\n",
              "      <button class=\"colab-df-convert\" onclick=\"convertToInteractive('df-eeec6964-f6c3-4fdd-bc2a-6f99d364db3f')\"\n",
              "              title=\"Convert this dataframe to an interactive table.\"\n",
              "              style=\"display:none;\">\n",
              "        \n",
              "  <svg xmlns=\"http://www.w3.org/2000/svg\" height=\"24px\"viewBox=\"0 0 24 24\"\n",
              "       width=\"24px\">\n",
              "    <path d=\"M0 0h24v24H0V0z\" fill=\"none\"/>\n",
              "    <path d=\"M18.56 5.44l.94 2.06.94-2.06 2.06-.94-2.06-.94-.94-2.06-.94 2.06-2.06.94zm-11 1L8.5 8.5l.94-2.06 2.06-.94-2.06-.94L8.5 2.5l-.94 2.06-2.06.94zm10 10l.94 2.06.94-2.06 2.06-.94-2.06-.94-.94-2.06-.94 2.06-2.06.94z\"/><path d=\"M17.41 7.96l-1.37-1.37c-.4-.4-.92-.59-1.43-.59-.52 0-1.04.2-1.43.59L10.3 9.45l-7.72 7.72c-.78.78-.78 2.05 0 2.83L4 21.41c.39.39.9.59 1.41.59.51 0 1.02-.2 1.41-.59l7.78-7.78 2.81-2.81c.8-.78.8-2.07 0-2.86zM5.41 20L4 18.59l7.72-7.72 1.47 1.35L5.41 20z\"/>\n",
              "  </svg>\n",
              "      </button>\n",
              "      \n",
              "  <style>\n",
              "    .colab-df-container {\n",
              "      display:flex;\n",
              "      flex-wrap:wrap;\n",
              "      gap: 12px;\n",
              "    }\n",
              "\n",
              "    .colab-df-convert {\n",
              "      background-color: #E8F0FE;\n",
              "      border: none;\n",
              "      border-radius: 50%;\n",
              "      cursor: pointer;\n",
              "      display: none;\n",
              "      fill: #1967D2;\n",
              "      height: 32px;\n",
              "      padding: 0 0 0 0;\n",
              "      width: 32px;\n",
              "    }\n",
              "\n",
              "    .colab-df-convert:hover {\n",
              "      background-color: #E2EBFA;\n",
              "      box-shadow: 0px 1px 2px rgba(60, 64, 67, 0.3), 0px 1px 3px 1px rgba(60, 64, 67, 0.15);\n",
              "      fill: #174EA6;\n",
              "    }\n",
              "\n",
              "    [theme=dark] .colab-df-convert {\n",
              "      background-color: #3B4455;\n",
              "      fill: #D2E3FC;\n",
              "    }\n",
              "\n",
              "    [theme=dark] .colab-df-convert:hover {\n",
              "      background-color: #434B5C;\n",
              "      box-shadow: 0px 1px 3px 1px rgba(0, 0, 0, 0.15);\n",
              "      filter: drop-shadow(0px 1px 2px rgba(0, 0, 0, 0.3));\n",
              "      fill: #FFFFFF;\n",
              "    }\n",
              "  </style>\n",
              "\n",
              "      <script>\n",
              "        const buttonEl =\n",
              "          document.querySelector('#df-eeec6964-f6c3-4fdd-bc2a-6f99d364db3f button.colab-df-convert');\n",
              "        buttonEl.style.display =\n",
              "          google.colab.kernel.accessAllowed ? 'block' : 'none';\n",
              "\n",
              "        async function convertToInteractive(key) {\n",
              "          const element = document.querySelector('#df-eeec6964-f6c3-4fdd-bc2a-6f99d364db3f');\n",
              "          const dataTable =\n",
              "            await google.colab.kernel.invokeFunction('convertToInteractive',\n",
              "                                                     [key], {});\n",
              "          if (!dataTable) return;\n",
              "\n",
              "          const docLinkHtml = 'Like what you see? Visit the ' +\n",
              "            '<a target=\"_blank\" href=https://colab.research.google.com/notebooks/data_table.ipynb>data table notebook</a>'\n",
              "            + ' to learn more about interactive tables.';\n",
              "          element.innerHTML = '';\n",
              "          dataTable['output_type'] = 'display_data';\n",
              "          await google.colab.output.renderOutput(dataTable, element);\n",
              "          const docLink = document.createElement('div');\n",
              "          docLink.innerHTML = docLinkHtml;\n",
              "          element.appendChild(docLink);\n",
              "        }\n",
              "      </script>\n",
              "    </div>\n",
              "  </div>\n",
              "  "
            ]
          },
          "metadata": {},
          "execution_count": 17
        }
      ]
    },
    {
      "cell_type": "code",
      "source": [
        "df.tail()"
      ],
      "metadata": {
        "colab": {
          "base_uri": "https://localhost:8080/",
          "height": 206
        },
        "id": "Z3Jngzyx-S0q",
        "outputId": "97e55bce-9d1f-42fb-f202-8d91f5bb4edd"
      },
      "execution_count": null,
      "outputs": [
        {
          "output_type": "execute_result",
          "data": {
            "text/plain": [
              "       Target                                              Tweet\n",
              "19996       0            my grandma is making dinenr with my mum\n",
              "19997       0  midmorning snack time a bowl of cheese noodles...\n",
              "19998       0  shadela same here say it like from the termini...\n",
              "19999       0                destinyhope92 im great thaanks wbuu\n",
              "20000       0    cant wait today i learned her date this weekend"
            ],
            "text/html": [
              "\n",
              "  <div id=\"df-222fa852-8837-4e54-8d40-cba4d1203803\">\n",
              "    <div class=\"colab-df-container\">\n",
              "      <div>\n",
              "<style scoped>\n",
              "    .dataframe tbody tr th:only-of-type {\n",
              "        vertical-align: middle;\n",
              "    }\n",
              "\n",
              "    .dataframe tbody tr th {\n",
              "        vertical-align: top;\n",
              "    }\n",
              "\n",
              "    .dataframe thead th {\n",
              "        text-align: right;\n",
              "    }\n",
              "</style>\n",
              "<table border=\"1\" class=\"dataframe\">\n",
              "  <thead>\n",
              "    <tr style=\"text-align: right;\">\n",
              "      <th></th>\n",
              "      <th>Target</th>\n",
              "      <th>Tweet</th>\n",
              "    </tr>\n",
              "  </thead>\n",
              "  <tbody>\n",
              "    <tr>\n",
              "      <th>19996</th>\n",
              "      <td>0</td>\n",
              "      <td>my grandma is making dinenr with my mum</td>\n",
              "    </tr>\n",
              "    <tr>\n",
              "      <th>19997</th>\n",
              "      <td>0</td>\n",
              "      <td>midmorning snack time a bowl of cheese noodles...</td>\n",
              "    </tr>\n",
              "    <tr>\n",
              "      <th>19998</th>\n",
              "      <td>0</td>\n",
              "      <td>shadela same here say it like from the termini...</td>\n",
              "    </tr>\n",
              "    <tr>\n",
              "      <th>19999</th>\n",
              "      <td>0</td>\n",
              "      <td>destinyhope92 im great thaanks wbuu</td>\n",
              "    </tr>\n",
              "    <tr>\n",
              "      <th>20000</th>\n",
              "      <td>0</td>\n",
              "      <td>cant wait today i learned her date this weekend</td>\n",
              "    </tr>\n",
              "  </tbody>\n",
              "</table>\n",
              "</div>\n",
              "      <button class=\"colab-df-convert\" onclick=\"convertToInteractive('df-222fa852-8837-4e54-8d40-cba4d1203803')\"\n",
              "              title=\"Convert this dataframe to an interactive table.\"\n",
              "              style=\"display:none;\">\n",
              "        \n",
              "  <svg xmlns=\"http://www.w3.org/2000/svg\" height=\"24px\"viewBox=\"0 0 24 24\"\n",
              "       width=\"24px\">\n",
              "    <path d=\"M0 0h24v24H0V0z\" fill=\"none\"/>\n",
              "    <path d=\"M18.56 5.44l.94 2.06.94-2.06 2.06-.94-2.06-.94-.94-2.06-.94 2.06-2.06.94zm-11 1L8.5 8.5l.94-2.06 2.06-.94-2.06-.94L8.5 2.5l-.94 2.06-2.06.94zm10 10l.94 2.06.94-2.06 2.06-.94-2.06-.94-.94-2.06-.94 2.06-2.06.94z\"/><path d=\"M17.41 7.96l-1.37-1.37c-.4-.4-.92-.59-1.43-.59-.52 0-1.04.2-1.43.59L10.3 9.45l-7.72 7.72c-.78.78-.78 2.05 0 2.83L4 21.41c.39.39.9.59 1.41.59.51 0 1.02-.2 1.41-.59l7.78-7.78 2.81-2.81c.8-.78.8-2.07 0-2.86zM5.41 20L4 18.59l7.72-7.72 1.47 1.35L5.41 20z\"/>\n",
              "  </svg>\n",
              "      </button>\n",
              "      \n",
              "  <style>\n",
              "    .colab-df-container {\n",
              "      display:flex;\n",
              "      flex-wrap:wrap;\n",
              "      gap: 12px;\n",
              "    }\n",
              "\n",
              "    .colab-df-convert {\n",
              "      background-color: #E8F0FE;\n",
              "      border: none;\n",
              "      border-radius: 50%;\n",
              "      cursor: pointer;\n",
              "      display: none;\n",
              "      fill: #1967D2;\n",
              "      height: 32px;\n",
              "      padding: 0 0 0 0;\n",
              "      width: 32px;\n",
              "    }\n",
              "\n",
              "    .colab-df-convert:hover {\n",
              "      background-color: #E2EBFA;\n",
              "      box-shadow: 0px 1px 2px rgba(60, 64, 67, 0.3), 0px 1px 3px 1px rgba(60, 64, 67, 0.15);\n",
              "      fill: #174EA6;\n",
              "    }\n",
              "\n",
              "    [theme=dark] .colab-df-convert {\n",
              "      background-color: #3B4455;\n",
              "      fill: #D2E3FC;\n",
              "    }\n",
              "\n",
              "    [theme=dark] .colab-df-convert:hover {\n",
              "      background-color: #434B5C;\n",
              "      box-shadow: 0px 1px 3px 1px rgba(0, 0, 0, 0.15);\n",
              "      filter: drop-shadow(0px 1px 2px rgba(0, 0, 0, 0.3));\n",
              "      fill: #FFFFFF;\n",
              "    }\n",
              "  </style>\n",
              "\n",
              "      <script>\n",
              "        const buttonEl =\n",
              "          document.querySelector('#df-222fa852-8837-4e54-8d40-cba4d1203803 button.colab-df-convert');\n",
              "        buttonEl.style.display =\n",
              "          google.colab.kernel.accessAllowed ? 'block' : 'none';\n",
              "\n",
              "        async function convertToInteractive(key) {\n",
              "          const element = document.querySelector('#df-222fa852-8837-4e54-8d40-cba4d1203803');\n",
              "          const dataTable =\n",
              "            await google.colab.kernel.invokeFunction('convertToInteractive',\n",
              "                                                     [key], {});\n",
              "          if (!dataTable) return;\n",
              "\n",
              "          const docLinkHtml = 'Like what you see? Visit the ' +\n",
              "            '<a target=\"_blank\" href=https://colab.research.google.com/notebooks/data_table.ipynb>data table notebook</a>'\n",
              "            + ' to learn more about interactive tables.';\n",
              "          element.innerHTML = '';\n",
              "          dataTable['output_type'] = 'display_data';\n",
              "          await google.colab.output.renderOutput(dataTable, element);\n",
              "          const docLink = document.createElement('div');\n",
              "          docLink.innerHTML = docLinkHtml;\n",
              "          element.appendChild(docLink);\n",
              "        }\n",
              "      </script>\n",
              "    </div>\n",
              "  </div>\n",
              "  "
            ]
          },
          "metadata": {},
          "execution_count": 18
        }
      ]
    },
    {
      "cell_type": "code",
      "source": [
        "from sklearn.feature_extraction.text import TfidfVectorizer\n",
        "from sklearn.model_selection import train_test_split\n",
        "from sklearn.ensemble import RandomForestClassifier\n",
        "from sklearn.svm import LinearSVC\n",
        "from sklearn.linear_model import SGDClassifier\n",
        "from sklearn import linear_model\n",
        "from sklearn.naive_bayes import MultinomialNB, GaussianNB\n",
        "from sklearn.metrics import classification_report\n",
        "from sklearn.metrics import accuracy_score\n",
        "from sklearn.metrics import confusion_matrix"
      ],
      "metadata": {
        "id": "M5gSAq_rMKLs"
      },
      "execution_count": null,
      "outputs": []
    },
    {
      "cell_type": "code",
      "source": [
        "tfidf = TfidfVectorizer(max_features=20000,ngram_range=(1,3), analyzer= 'char')"
      ],
      "metadata": {
        "id": "l4fTj4iJMbbr"
      },
      "execution_count": null,
      "outputs": []
    },
    {
      "cell_type": "code",
      "source": [
        "X = tfidf.fit_transform(df['Tweet'])\n",
        "y = df['Target']"
      ],
      "metadata": {
        "id": "R4gkVsMqMesw"
      },
      "execution_count": null,
      "outputs": []
    },
    {
      "cell_type": "code",
      "source": [
        "X_train,X_test,y_train,y_test = train_test_split(X, y, test_size=0.25,random_state=0)"
      ],
      "metadata": {
        "id": "EXNq4nsKMgYl"
      },
      "execution_count": null,
      "outputs": []
    },
    {
      "cell_type": "markdown",
      "source": [
        "RANDOM FOREST:"
      ],
      "metadata": {
        "id": "uyhov-m3_oJV"
      }
    },
    {
      "cell_type": "code",
      "source": [
        "rfc = RandomForestClassifier(n_estimators=200)\n",
        "rfc.fit(X_train,y_train)\n",
        "predictions = rfc.predict(X_test)"
      ],
      "metadata": {
        "id": "AeeGvKv3IsrC"
      },
      "execution_count": null,
      "outputs": []
    },
    {
      "cell_type": "code",
      "source": [
        "#Confusion Matrix \n",
        "from sklearn.metrics import confusion_matrix,f1_score\n",
        "confusion_matrix(y_test,predictions)"
      ],
      "metadata": {
        "colab": {
          "base_uri": "https://localhost:8080/"
        },
        "id": "vcZcRKdnIx6v",
        "outputId": "a5119fbf-5e1f-4e0e-a702-d5522fd44943"
      },
      "execution_count": null,
      "outputs": [
        {
          "output_type": "execute_result",
          "data": {
            "text/plain": [
              "array([[1766,  758],\n",
              "       [ 625, 1852]])"
            ]
          },
          "metadata": {},
          "execution_count": 26
        }
      ]
    },
    {
      "cell_type": "code",
      "source": [
        "f1_score(y_test,predictions)"
      ],
      "metadata": {
        "colab": {
          "base_uri": "https://localhost:8080/"
        },
        "id": "syH2XEIlI5Aw",
        "outputId": "86fc1046-201f-48e3-ac5e-f90a0e772228"
      },
      "execution_count": null,
      "outputs": [
        {
          "output_type": "execute_result",
          "data": {
            "text/plain": [
              "0.7281305287988992"
            ]
          },
          "metadata": {},
          "execution_count": 27
        }
      ]
    },
    {
      "cell_type": "code",
      "source": [
        "accuracy_score(y_test,predictions)*100"
      ],
      "metadata": {
        "colab": {
          "base_uri": "https://localhost:8080/"
        },
        "id": "qfHrBc6eI8jP",
        "outputId": "3769d556-67cc-4827-d18d-4e2ce1b9adfd"
      },
      "execution_count": null,
      "outputs": [
        {
          "output_type": "execute_result",
          "data": {
            "text/plain": [
              "72.34553089382123"
            ]
          },
          "metadata": {},
          "execution_count": 28
        }
      ]
    },
    {
      "cell_type": "code",
      "source": [
        "print(classification_report(y_test,y_pred))"
      ],
      "metadata": {
        "id": "u4O1FLVNctT0",
        "colab": {
          "base_uri": "https://localhost:8080/"
        },
        "outputId": "6320dd42-c426-411e-c846-0b812303da54"
      },
      "execution_count": null,
      "outputs": [
        {
          "output_type": "stream",
          "name": "stdout",
          "text": [
            "              precision    recall  f1-score   support\n",
            "\n",
            "           0       0.72      0.69      0.70      2524\n",
            "           1       0.70      0.73      0.71      2477\n",
            "\n",
            "    accuracy                           0.71      5001\n",
            "   macro avg       0.71      0.71      0.71      5001\n",
            "weighted avg       0.71      0.71      0.71      5001\n",
            "\n"
          ]
        }
      ]
    },
    {
      "cell_type": "code",
      "source": [
        "label = {0:'Non-Suicidal', 1:'Suicidal'}\n",
        "example = [\"i want to kms\"]\n",
        "X = tfidf.transform(example)\n",
        "print('Prediction: %s\\nProbability: %.2f%%'\n",
        "      %(label[rfc.predict(X)[0]],np.max(rfc.predict_proba(X))*100))"
      ],
      "metadata": {
        "colab": {
          "base_uri": "https://localhost:8080/"
        },
        "id": "tIV4XHzYJcF1",
        "outputId": "80357589-6431-456d-94e5-f18a09176519"
      },
      "execution_count": null,
      "outputs": [
        {
          "output_type": "stream",
          "name": "stdout",
          "text": [
            "Prediction: Suicidal\n",
            "Probability: 72.43%\n"
          ]
        }
      ]
    },
    {
      "cell_type": "code",
      "source": [
        "label = {0:'Non-Suicidal', 1:'Suicidal'}\n",
        "example = [\"everything is good\"]\n",
        "X = tfidf.transform(example)\n",
        "print('Prediction: %s\\nProbability: %.2f%%'\n",
        "      %(label[rfc.predict(X)[0]],np.max(rfc.predict_proba(X))*100))"
      ],
      "metadata": {
        "colab": {
          "base_uri": "https://localhost:8080/"
        },
        "id": "_9Wr8yas2wBa",
        "outputId": "6b61de98-3220-47ac-a93c-dac78a0b8bde"
      },
      "execution_count": null,
      "outputs": [
        {
          "output_type": "stream",
          "name": "stdout",
          "text": [
            "Prediction: Non-Suicidal\n",
            "Probability: 58.00%\n"
          ]
        }
      ]
    },
    {
      "cell_type": "markdown",
      "source": [
        "SVM:"
      ],
      "metadata": {
        "id": "-vBNE1Zt__hz"
      }
    },
    {
      "cell_type": "code",
      "source": [
        "clf = LinearSVC()\n",
        "clf.fit(X_train,y_train)"
      ],
      "metadata": {
        "colab": {
          "base_uri": "https://localhost:8080/"
        },
        "id": "iTkvLxPnnE-r",
        "outputId": "682451ae-a272-48dd-a6c2-07f1ceb8dc17"
      },
      "execution_count": null,
      "outputs": [
        {
          "output_type": "execute_result",
          "data": {
            "text/plain": [
              "LinearSVC()"
            ]
          },
          "metadata": {},
          "execution_count": 33
        }
      ]
    },
    {
      "cell_type": "code",
      "source": [
        "y_prdct = clf.predict(X_test) "
      ],
      "metadata": {
        "id": "eRlmbrKhtDfJ"
      },
      "execution_count": null,
      "outputs": []
    },
    {
      "cell_type": "code",
      "source": [
        "print('Accuracy: %.3f' % clf.score(X_test, y_test))"
      ],
      "metadata": {
        "colab": {
          "base_uri": "https://localhost:8080/"
        },
        "id": "ZCwUgvyl4fgK",
        "outputId": "46c8a385-fd2f-4034-8014-9fa05a0536c0"
      },
      "execution_count": null,
      "outputs": [
        {
          "output_type": "stream",
          "name": "stdout",
          "text": [
            "Accuracy: 0.743\n"
          ]
        }
      ]
    },
    {
      "cell_type": "code",
      "source": [
        "print(classification_report(y_test,y_prdct))"
      ],
      "metadata": {
        "colab": {
          "base_uri": "https://localhost:8080/"
        },
        "id": "TRRBiUX2tDqb",
        "outputId": "44c953ea-c86c-452e-f7db-f67f1b4262d6"
      },
      "execution_count": null,
      "outputs": [
        {
          "output_type": "stream",
          "name": "stdout",
          "text": [
            "              precision    recall  f1-score   support\n",
            "\n",
            "           0       0.75      0.74      0.74      2524\n",
            "           1       0.74      0.75      0.74      2477\n",
            "\n",
            "    accuracy                           0.74      5001\n",
            "   macro avg       0.74      0.74      0.74      5001\n",
            "weighted avg       0.74      0.74      0.74      5001\n",
            "\n"
          ]
        }
      ]
    },
    {
      "cell_type": "code",
      "source": [
        "label = {0:'Non-Suicidal', 1:'Suicidal'}\n",
        "example = [\"good morning have a nice day\"]\n",
        "X = tfidf.transform(example)\n",
        "print('Prediction: %s'\n",
        "      %(label[clf.predict(X)[0]]))"
      ],
      "metadata": {
        "colab": {
          "base_uri": "https://localhost:8080/"
        },
        "id": "Fjx-_msKuBux",
        "outputId": "8b29fb0c-3d9f-4cf4-d6bf-2bd72f240e97"
      },
      "execution_count": null,
      "outputs": [
        {
          "output_type": "stream",
          "name": "stdout",
          "text": [
            "Prediction: Non-Suicidal\n"
          ]
        }
      ]
    },
    {
      "cell_type": "code",
      "source": [
        "label = {0:'Non-Suicidal', 1:'Suicidal'}\n",
        "example = [\"I am not okay\"]\n",
        "X = tfidf.transform(example)\n",
        "print('Prediction: %s'\n",
        "      %(label[clf.predict(X)[0]]))"
      ],
      "metadata": {
        "id": "KOTtnTAjGF3G",
        "colab": {
          "base_uri": "https://localhost:8080/"
        },
        "outputId": "04ca61e0-dba0-4153-cf48-6fff201604be"
      },
      "execution_count": null,
      "outputs": [
        {
          "output_type": "stream",
          "name": "stdout",
          "text": [
            "Prediction: Suicidal\n"
          ]
        }
      ]
    },
    {
      "cell_type": "markdown",
      "source": [
        "SGDC:"
      ],
      "metadata": {
        "id": "CzurudDBAQZT"
      }
    },
    {
      "cell_type": "code",
      "source": [
        "clf2 = SGDClassifier(loss='log', random_state=1)"
      ],
      "metadata": {
        "id": "l8K38xCKAdBG"
      },
      "execution_count": null,
      "outputs": []
    },
    {
      "cell_type": "code",
      "source": [
        "classes = np.array([0, 1])\n",
        "clf2.partial_fit(X_train, y_train,classes=classes)"
      ],
      "metadata": {
        "colab": {
          "base_uri": "https://localhost:8080/"
        },
        "id": "S95wbpg6Ae_T",
        "outputId": "bc2140d1-6166-480b-d18f-5da6818406ef"
      },
      "execution_count": null,
      "outputs": [
        {
          "output_type": "execute_result",
          "data": {
            "text/plain": [
              "SGDClassifier(loss='log', random_state=1)"
            ]
          },
          "metadata": {},
          "execution_count": 40
        }
      ]
    },
    {
      "cell_type": "code",
      "source": [
        "print('Accuracy: %.3f' % clf2.score(X_test, y_test))"
      ],
      "metadata": {
        "colab": {
          "base_uri": "https://localhost:8080/"
        },
        "id": "p20BS3lLAky3",
        "outputId": "834899f6-50b6-48be-ffd3-f91803bbe7bf"
      },
      "execution_count": null,
      "outputs": [
        {
          "output_type": "stream",
          "name": "stdout",
          "text": [
            "Accuracy: 0.738\n"
          ]
        }
      ]
    },
    {
      "cell_type": "code",
      "source": [
        "y_pred= clf2.predict(X_test)"
      ],
      "metadata": {
        "id": "nPIq_k0pAwxF"
      },
      "execution_count": null,
      "outputs": []
    },
    {
      "cell_type": "code",
      "source": [
        "print(classification_report(y_test,y_pred))"
      ],
      "metadata": {
        "colab": {
          "base_uri": "https://localhost:8080/"
        },
        "id": "9eFZTFDzA0tO",
        "outputId": "26063e47-2ab0-4dee-ae6d-1ee50318d717"
      },
      "execution_count": null,
      "outputs": [
        {
          "output_type": "stream",
          "name": "stdout",
          "text": [
            "              precision    recall  f1-score   support\n",
            "\n",
            "           0       0.71      0.80      0.76      2524\n",
            "           1       0.77      0.67      0.72      2477\n",
            "\n",
            "    accuracy                           0.74      5001\n",
            "   macro avg       0.74      0.74      0.74      5001\n",
            "weighted avg       0.74      0.74      0.74      5001\n",
            "\n"
          ]
        }
      ]
    },
    {
      "cell_type": "code",
      "source": [
        "label = {0:'Non-Suicidal', 1:'Suicidal'}\n",
        "example = [\"i am happy but depressed\"]\n",
        "X = tfidf.transform(example)\n",
        "print('Prediction: %s\\nProbability: %.2f%%'\n",
        "      %(label[clf2.predict(X)[0]],np.max(clf2.predict_proba(X))*100))"
      ],
      "metadata": {
        "colab": {
          "base_uri": "https://localhost:8080/"
        },
        "id": "4yD3luLOBpud",
        "outputId": "ae15961b-ee25-4eab-e129-a236175b8d3a"
      },
      "execution_count": null,
      "outputs": [
        {
          "output_type": "stream",
          "name": "stdout",
          "text": [
            "Prediction: Suicidal\n",
            "Probability: 72.78%\n"
          ]
        }
      ]
    },
    {
      "cell_type": "markdown",
      "source": [
        "MULTINOMIAL NB:"
      ],
      "metadata": {
        "id": "DbtXpOqf1Sox"
      }
    },
    {
      "cell_type": "code",
      "source": [
        "mnb=MultinomialNB()"
      ],
      "metadata": {
        "id": "eVoJtTQiMiPn"
      },
      "execution_count": null,
      "outputs": []
    },
    {
      "cell_type": "code",
      "source": [
        "classes = np.array([0, 1])\n",
        "mnb.partial_fit(X_train, y_train,classes=classes)"
      ],
      "metadata": {
        "colab": {
          "base_uri": "https://localhost:8080/"
        },
        "id": "jWIpsjnuNpkS",
        "outputId": "5a36a430-9405-40b4-d22b-91d7871d5bae"
      },
      "execution_count": null,
      "outputs": [
        {
          "output_type": "execute_result",
          "data": {
            "text/plain": [
              "MultinomialNB()"
            ]
          },
          "metadata": {},
          "execution_count": 46
        }
      ]
    },
    {
      "cell_type": "code",
      "source": [
        "print('Accuracy: %.3f' % mnb.score(X_test, y_test))"
      ],
      "metadata": {
        "colab": {
          "base_uri": "https://localhost:8080/"
        },
        "id": "83i2zwqcNvJT",
        "outputId": "0329c42e-7988-444e-f94f-5bbfc5d79be4"
      },
      "execution_count": null,
      "outputs": [
        {
          "output_type": "stream",
          "name": "stdout",
          "text": [
            "Accuracy: 0.723\n"
          ]
        }
      ]
    },
    {
      "cell_type": "code",
      "source": [
        "y_pred= mnb.predict(X_test)\n",
        "print(classification_report(y_test,y_pred))"
      ],
      "metadata": {
        "colab": {
          "base_uri": "https://localhost:8080/"
        },
        "id": "MNGWaqozNxll",
        "outputId": "685eafc2-4551-46fb-b173-2c49df6fb481"
      },
      "execution_count": null,
      "outputs": [
        {
          "output_type": "stream",
          "name": "stdout",
          "text": [
            "              precision    recall  f1-score   support\n",
            "\n",
            "           0       0.78      0.63      0.70      2524\n",
            "           1       0.69      0.81      0.74      2477\n",
            "\n",
            "    accuracy                           0.72      5001\n",
            "   macro avg       0.73      0.72      0.72      5001\n",
            "weighted avg       0.73      0.72      0.72      5001\n",
            "\n"
          ]
        }
      ]
    },
    {
      "cell_type": "code",
      "source": [
        "label = {0:'Non-Suicidal', 1:'Suicidal'}\n",
        "example = [\"i am happy but depressed\"]\n",
        "X = tfidf.transform(example)\n",
        "print('Prediction: %s\\nProbability: %.2f%%'\n",
        "      %(label[mnb.predict(X)[0]],np.max(mnb.predict_proba(X))*100))"
      ],
      "metadata": {
        "colab": {
          "base_uri": "https://localhost:8080/"
        },
        "id": "qiSS4AuKN29B",
        "outputId": "485ca95e-bace-48c1-8910-287c0204e714"
      },
      "execution_count": null,
      "outputs": [
        {
          "output_type": "stream",
          "name": "stdout",
          "text": [
            "Prediction: Suicidal\n",
            "Probability: 72.65%\n"
          ]
        }
      ]
    },
    {
      "cell_type": "code",
      "source": [
        "label = {0:'Non-Suicidal', 1:'Suicidal'}\n",
        "example = [\"i am happy\"]\n",
        "X = tfidf.transform(example)\n",
        "print('Prediction: %s\\nProbability: %.2f%%'\n",
        "      %(label[mnb.predict(X)[0]],np.max(mnb.predict_proba(X))*100))"
      ],
      "metadata": {
        "colab": {
          "base_uri": "https://localhost:8080/"
        },
        "id": "lUCYjJ3SN-Mq",
        "outputId": "83e1f030-0f6d-40f1-a0d6-0c8828e35f76"
      },
      "execution_count": null,
      "outputs": [
        {
          "output_type": "stream",
          "name": "stdout",
          "text": [
            "Prediction: Non-Suicidal\n",
            "Probability: 56.33%\n"
          ]
        }
      ]
    },
    {
      "cell_type": "markdown",
      "source": [
        "BERNOULLI NB:"
      ],
      "metadata": {
        "id": "nt-h3QOzHTyR"
      }
    },
    {
      "cell_type": "code",
      "source": [
        "from sklearn.naive_bayes import BernoulliNB\n",
        "brn = BernoulliNB()"
      ],
      "metadata": {
        "id": "zhvMLlpbG9Fg"
      },
      "execution_count": null,
      "outputs": []
    },
    {
      "cell_type": "code",
      "source": [
        "classes = np.array([0, 1])\n",
        "brn.partial_fit(X_train, y_train,classes=classes)"
      ],
      "metadata": {
        "colab": {
          "base_uri": "https://localhost:8080/"
        },
        "outputId": "a658ce04-53cf-41ff-eaa8-de3da7ffcb85",
        "id": "CinF_qTpHIBf"
      },
      "execution_count": null,
      "outputs": [
        {
          "output_type": "execute_result",
          "data": {
            "text/plain": [
              "BernoulliNB()"
            ]
          },
          "metadata": {},
          "execution_count": 65
        }
      ]
    },
    {
      "cell_type": "code",
      "source": [
        "print('Accuracy: %.3f' % brn.score(X_test, y_test))"
      ],
      "metadata": {
        "colab": {
          "base_uri": "https://localhost:8080/"
        },
        "outputId": "e477b8e3-8ae4-498c-ee9a-d0438f52f881",
        "id": "mlCPSDZrHIBh"
      },
      "execution_count": null,
      "outputs": [
        {
          "output_type": "stream",
          "name": "stdout",
          "text": [
            "Accuracy: 0.712\n"
          ]
        }
      ]
    },
    {
      "cell_type": "code",
      "source": [
        "y_pred= brn.predict(X_test)\n",
        "print(classification_report(y_test,y_pred))"
      ],
      "metadata": {
        "colab": {
          "base_uri": "https://localhost:8080/"
        },
        "outputId": "d399d666-7a5a-4580-b4ae-667fc9cab65f",
        "id": "KbR-fvUoHIBh"
      },
      "execution_count": null,
      "outputs": [
        {
          "output_type": "stream",
          "name": "stdout",
          "text": [
            "              precision    recall  f1-score   support\n",
            "\n",
            "           0       0.72      0.71      0.71      2524\n",
            "           1       0.71      0.71      0.71      2477\n",
            "\n",
            "    accuracy                           0.71      5001\n",
            "   macro avg       0.71      0.71      0.71      5001\n",
            "weighted avg       0.71      0.71      0.71      5001\n",
            "\n"
          ]
        }
      ]
    },
    {
      "cell_type": "markdown",
      "source": [
        "GAUSSIAN NB:"
      ],
      "metadata": {
        "id": "AxRF4HLo1ONV"
      }
    },
    {
      "cell_type": "code",
      "source": [
        "GNB=GaussianNB()\n",
        "GNB.fit(X_train.toarray(), y_train)"
      ],
      "metadata": {
        "colab": {
          "base_uri": "https://localhost:8080/"
        },
        "id": "I4YpQKUoODCz",
        "outputId": "0ad9746f-ab20-4d33-f1c1-fcb944c06951"
      },
      "execution_count": null,
      "outputs": [
        {
          "output_type": "execute_result",
          "data": {
            "text/plain": [
              "GaussianNB()"
            ]
          },
          "metadata": {},
          "execution_count": 51
        }
      ]
    },
    {
      "cell_type": "code",
      "source": [
        "print('Accuracy: %.3f' % GNB.score(X_test.toarray(), y_test))"
      ],
      "metadata": {
        "colab": {
          "base_uri": "https://localhost:8080/"
        },
        "id": "CCbiLFZ7z_rr",
        "outputId": "e58746e6-1f35-47c5-9c5b-5ac467f980d3"
      },
      "execution_count": null,
      "outputs": [
        {
          "output_type": "stream",
          "name": "stdout",
          "text": [
            "Accuracy: 0.554\n"
          ]
        }
      ]
    },
    {
      "cell_type": "code",
      "source": [
        "y_pred= GNB.predict(X_test.toarray())\n",
        "print(classification_report(y_test,y_pred))"
      ],
      "metadata": {
        "colab": {
          "base_uri": "https://localhost:8080/"
        },
        "id": "9SsUPgGI0Ct5",
        "outputId": "c77d58d8-b86b-40fa-8118-49c127757950"
      },
      "execution_count": null,
      "outputs": [
        {
          "output_type": "stream",
          "name": "stdout",
          "text": [
            "              precision    recall  f1-score   support\n",
            "\n",
            "           0       0.64      0.27      0.38      2524\n",
            "           1       0.53      0.84      0.65      2477\n",
            "\n",
            "    accuracy                           0.55      5001\n",
            "   macro avg       0.58      0.56      0.52      5001\n",
            "weighted avg       0.58      0.55      0.51      5001\n",
            "\n"
          ]
        }
      ]
    },
    {
      "cell_type": "code",
      "source": [
        "label = {0:'Non-Suicidal', 1:'Suicidal'}\n",
        "example = [\"i am not okay\"]\n",
        "X = tfidf.transform(example)\n",
        "print('Prediction: %s\\nProbability: %.2f%%'\n",
        "      %(label[GNB.predict(X.toarray())[0]],np.max(GNB.predict_proba(X.toarray()))*100))"
      ],
      "metadata": {
        "colab": {
          "base_uri": "https://localhost:8080/"
        },
        "id": "Fs00S_VM0L5y",
        "outputId": "ac53288e-5992-4a59-cfb8-25051fbd9ce8"
      },
      "execution_count": null,
      "outputs": [
        {
          "output_type": "stream",
          "name": "stdout",
          "text": [
            "Prediction: Suicidal\n",
            "Probability: 100.00%\n"
          ]
        }
      ]
    },
    {
      "cell_type": "code",
      "source": [
        "label = {0:'Non-Suicidal', 1:'Suicidal'}\n",
        "example = [\"sun is a star\"]\n",
        "X = tfidf.transform(example)\n",
        "print('Prediction: %s\\nProbability: %.2f%%'\n",
        "      %(label[GNB.predict(X.toarray())[0]],np.max(GNB.predict_proba(X.toarray()))*100))"
      ],
      "metadata": {
        "colab": {
          "base_uri": "https://localhost:8080/"
        },
        "id": "26PTilHw0xzU",
        "outputId": "7640dd17-375b-4131-f28e-8054061668d6"
      },
      "execution_count": null,
      "outputs": [
        {
          "output_type": "stream",
          "name": "stdout",
          "text": [
            "Prediction: Suicidal\n",
            "Probability: 100.00%\n"
          ]
        }
      ]
    },
    {
      "cell_type": "markdown",
      "source": [
        "LOGISTIC REG:"
      ],
      "metadata": {
        "id": "mqNBsd0n2kzy"
      }
    },
    {
      "cell_type": "code",
      "source": [
        "lm=linear_model.LogisticRegression()"
      ],
      "metadata": {
        "id": "tmbSZdkV1Fj6"
      },
      "execution_count": null,
      "outputs": []
    },
    {
      "cell_type": "code",
      "source": [
        "lm.fit(X_train, y_train)\n"
      ],
      "metadata": {
        "colab": {
          "base_uri": "https://localhost:8080/"
        },
        "id": "6XFsGsi62kNr",
        "outputId": "1ef8693a-1f9c-49d2-9340-07d8fd647b36"
      },
      "execution_count": null,
      "outputs": [
        {
          "output_type": "execute_result",
          "data": {
            "text/plain": [
              "LogisticRegression()"
            ]
          },
          "metadata": {},
          "execution_count": 57
        }
      ]
    },
    {
      "cell_type": "code",
      "source": [
        "print('Accuracy: %.3f' % lm.score(X_test, y_test))"
      ],
      "metadata": {
        "colab": {
          "base_uri": "https://localhost:8080/"
        },
        "id": "hZ0KVCos2oXh",
        "outputId": "4b61e772-d92a-465a-8a09-c064afa49342"
      },
      "execution_count": null,
      "outputs": [
        {
          "output_type": "stream",
          "name": "stdout",
          "text": [
            "Accuracy: 0.747\n"
          ]
        }
      ]
    },
    {
      "cell_type": "code",
      "source": [
        "y_pred= lm.predict(X_test.toarray())\n",
        "print(classification_report(y_test,y_pred))"
      ],
      "metadata": {
        "colab": {
          "base_uri": "https://localhost:8080/"
        },
        "id": "mGCpjx222tC_",
        "outputId": "4dbcbf2c-6927-47aa-e1b9-038d0495f5fe"
      },
      "execution_count": null,
      "outputs": [
        {
          "output_type": "stream",
          "name": "stdout",
          "text": [
            "              precision    recall  f1-score   support\n",
            "\n",
            "           0       0.75      0.75      0.75      2524\n",
            "           1       0.75      0.74      0.74      2477\n",
            "\n",
            "    accuracy                           0.75      5001\n",
            "   macro avg       0.75      0.75      0.75      5001\n",
            "weighted avg       0.75      0.75      0.75      5001\n",
            "\n"
          ]
        }
      ]
    },
    {
      "cell_type": "code",
      "source": [
        "label = {0:'Non-Suicidal', 1:'Suicidal'}\n",
        "example = [\"i am happy but depressed\"]\n",
        "X = tfidf.transform(example)\n",
        "print('Prediction: %s\\nProbability: %.2f%%'\n",
        "      %(label[lm.predict(X)[0]],np.max(lm.predict_proba(X))*100))"
      ],
      "metadata": {
        "colab": {
          "base_uri": "https://localhost:8080/"
        },
        "id": "S_tyWV2s20CX",
        "outputId": "accabdf5-4838-46e0-9c19-36666dd4919d"
      },
      "execution_count": null,
      "outputs": [
        {
          "output_type": "stream",
          "name": "stdout",
          "text": [
            "Prediction: Suicidal\n",
            "Probability: 70.96%\n"
          ]
        }
      ]
    },
    {
      "cell_type": "code",
      "source": [
        "label = {0:'Non-Suicidal', 1:'Suicidal'}\n",
        "example = [\"i'm fine\"]\n",
        "X = tfidf.transform(example)\n",
        "print('Prediction: %s\\nProbability: %.2f%%'\n",
        "      %(label[lm.predict(X)[0]],np.max(lm.predict_proba(X))*100))"
      ],
      "metadata": {
        "colab": {
          "base_uri": "https://localhost:8080/"
        },
        "id": "hElkbpC43ACm",
        "outputId": "9080103f-3586-465b-8f69-19a803f8ad9e"
      },
      "execution_count": null,
      "outputs": [
        {
          "output_type": "stream",
          "name": "stdout",
          "text": [
            "Prediction: Non-Suicidal\n",
            "Probability: 61.26%\n"
          ]
        }
      ]
    },
    {
      "cell_type": "markdown",
      "source": [
        "Result:\n",
        "\n",
        "\n",
        "![Screenshot 2022-11-06 081801.jpg](data:image/jpeg;base64,/9j/4AAQSkZJRgABAQEAeAB4AAD/2wBDAAMCAgMCAgMDAwMEAwMEBQgFBQQEBQoHBwYIDAoMDAsKCwsNDhIQDQ4RDgsLEBYQERMUFRUVDA8XGBYUGBIUFRT/2wBDAQMEBAUEBQkFBQkUDQsNFBQUFBQUFBQUFBQUFBQUFBQUFBQUFBQUFBQUFBQUFBQUFBQUFBQUFBQUFBQUFBQUFBT/wAARCAIKA58DASIAAhEBAxEB/8QAHwAAAQUBAQEBAQEAAAAAAAAAAAECAwQFBgcICQoL/8QAtRAAAgEDAwIEAwUFBAQAAAF9AQIDAAQRBRIhMUEGE1FhByJxFDKBkaEII0KxwRVS0fAkM2JyggkKFhcYGRolJicoKSo0NTY3ODk6Q0RFRkdISUpTVFVWV1hZWmNkZWZnaGlqc3R1dnd4eXqDhIWGh4iJipKTlJWWl5iZmqKjpKWmp6ipqrKztLW2t7i5usLDxMXGx8jJytLT1NXW19jZ2uHi4+Tl5ufo6erx8vP09fb3+Pn6/8QAHwEAAwEBAQEBAQEBAQAAAAAAAAECAwQFBgcICQoL/8QAtREAAgECBAQDBAcFBAQAAQJ3AAECAxEEBSExBhJBUQdhcRMiMoEIFEKRobHBCSMzUvAVYnLRChYkNOEl8RcYGRomJygpKjU2Nzg5OkNERUZHSElKU1RVVldYWVpjZGVmZ2hpanN0dXZ3eHl6goOEhYaHiImKkpOUlZaXmJmaoqOkpaanqKmqsrO0tba3uLm6wsPExcbHyMnK0tPU1dbX2Nna4uPk5ebn6Onq8vP09fb3+Pn6/9oADAMBAAIRAxEAPwD9PdP0uzuIZZJbSCWRribLPEpJ/et3Iqz/AGLp/wDz4Wv/AH5X/Cm6KgjsSgyQs8wG4kn/AFrdSeTV+gCl/Yun/wDPha/9+V/wo/sXT/8Anwtf+/K/4VdooApf2Lp//Pha/wDflf8ACj+xdP8A+fC1/wC/K/4VdooApf2Lp/8Az4Wv/flf8KP7F0//AJ8LX/vyv+FXaKAKX9i6f/z4Wv8A35X/AAo/sXT/APnwtf8Avyv+FXaKAKX9i6f/AM+Fr/35X/Cj+xdP/wCfC1/78r/hV2igCl/Yun/8+Fr/AN+V/wAKP7F0/wD58LX/AL8r/hV2igCl/Yun/wDPha/9+V/wo/sXT/8Anwtf+/K/4VdooApf2Lp//Pha/wDflf8ACj+xdP8A+fC1/wC/K/4VdooApf2Lp/8Az4Wv/flf8KP7F0//AJ8LX/vyv+FXaKAKX9i6f/z4Wv8A35X/AAo/sXT/APnwtf8Avyv+FXaKAKX9i6f/AM+Fr/35X/Cj+xdP/wCfC1/78r/hV2igCl/Yun/8+Fr/AN+V/wAKP7F0/wD58LX/AL8r/hV2igCl/Yun/wDPha/9+V/wo/sXT/8Anwtf+/K/4VdooApf2Lp//Pha/wDflf8ACj+xdP8A+fC1/wC/K/4VdooApf2Lp/8Az4Wv/flf8KP7F0//AJ8LX/vyv+FXaKAKX9i6f/z4Wv8A35X/AAo/sXT/APnwtf8Avyv+FXaKAKX9i6f/AM+Fr/35X/Cj+xdP/wCfC1/78r/hV2igCl/Yun/8+Fr/AN+V/wAKP7F0/wD58LX/AL8r/hV2igCl/Yun/wDPha/9+V/wo/sXT/8Anwtf+/K/4VdooApf2Lp//Pha/wDflf8ACj+xdP8A+fC1/wC/K/4VdooApf2Lp/8Az4Wv/flf8KP7F0//AJ8LX/vyv+FXaKAKX9i6f/z4Wv8A35X/AAo/sXT/APnwtf8Avyv+FXaKAKX9i6f/AM+Fr/35X/Cj+xdP/wCfC1/78r/hV2igCl/Yun/8+Fr/AN+V/wAKP7F0/wD58LX/AL8r/hV2igCl/Yun/wDPha/9+V/wo/sXT/8Anwtf+/K/4VdooApf2Lp//Pha/wDflf8ACj+xdP8A+fC1/wC/K/4VdooApf2Lp/8Az4Wv/flf8KP7F0//AJ8LX/vyv+FXaKAKX9i6f/z4Wv8A35X/AAo/sXT/APnwtf8Avyv+FXaKAKX9i6f/AM+Fr/35X/Cj+xdP/wCfC1/78r/hV2igCl/Yun/8+Fr/AN+V/wAKP7F0/wD58LX/AL8r/hV2igCl/Yun/wDPha/9+V/wo/sXT/8Anwtf+/K/4VdooApf2Lp//Pha/wDflf8ACj+xdP8A+fC1/wC/K/4VdooApf2Lp/8Az4Wv/flf8KP7F0//AJ8LX/vyv+FXaKAKX9i6f/z4Wv8A35X/AAo/sXT/APnwtf8Avyv+FXaKAKX9i6f/AM+Fr/35X/Cj+xdP/wCfC1/78r/hV2igCl/Yun/8+Fr/AN+V/wAKP7F0/wD58LX/AL8r/hV2igCl/Yun/wDPha/9+V/wo/sXT/8Anwtf+/K/4VdooApf2Lp//Pha/wDflf8ACj+xdP8A+fC1/wC/K/4VdooApf2Lp/8Az4Wv/flf8KP7F0//AJ8LX/vyv+FXaKAKX9i6f/z4Wv8A35X/AAo/sXT/APnwtf8Avyv+FXaKAKX9i6f/AM+Fr/35X/Cj+xdP/wCfC1/78r/hV2igCl/Yun/8+Fr/AN+V/wAKP7F0/wD58LX/AL8r/hV2igCl/Yun/wDPha/9+V/wo/sXT/8Anwtf+/K/4VdooApf2Lp//Pha/wDflf8ACj+xdP8A+fC1/wC/K/4VdooApf2Lp/8Az4Wv/flf8KP7F0//AJ8LX/vyv+FXaKAKX9i6f/z4Wv8A35X/AAo/sXT/APnwtf8Avyv+FXaKAKX9i6f/AM+Fr/35X/Cj+xdP/wCfC1/78r/hV2igCl/Yun/8+Fr/AN+V/wAKP7F0/wD58LX/AL8r/hV2igCl/Yun/wDPha/9+V/wo/sXT/8Anwtf+/K/4VdooApf2Lp//Pha/wDflf8ACj+xdP8A+fC1/wC/K/4VdooApf2Lp/8Az4Wv/flf8KP7F0//AJ8LX/vyv+FXaKAKX9i6f/z4Wv8A35X/AAo/sXT/APnwtf8Avyv+FXaKAKX9i6f/AM+Fr/35X/Cj+xdP/wCfC1/78r/hV2igCl/Yun/8+Fr/AN+V/wAKP7F0/wD58LX/AL8r/hV2igCl/Yun/wDPha/9+V/wo/sXT/8Anwtf+/K/4VdooApf2Lp//Pha/wDflf8ACj+xdP8A+fC1/wC/K/4VdooApf2Lp/8Az4Wv/flf8KP7F0//AJ8LX/vyv+FXaKAKWk/8er/9fE//AKNertUtJ/49X/6+J/8A0a9XaACiiigAooooAKKKKACiiigAooooAKKKKACiiigAooooAKKKKACiiigAooooAKKKKACiiigAooooAKKKKACiiigAooooAKKKKACiiigAooooAKKKKACiiigAooooAK5zRfiT4R8Saq2maR4p0XVNSUMWs7LUIZpgF+8SisTx344rl/2j/iH/AMKx+DPiXWo5RFfG3NrZ84Pny/IpHuuS30U18GeHfDt/+zjrPwa+I0zTJaa1G1zdqeNsZkKuoHo1vLGwz1OcUAfp9XO698RvCfhW8FprfijRdHujjEF/qEMDnPT5XYGuK/aY+KE/wt+Cuta/pcoGoyrHa2MygMFklIAcduF3MPcCvAv2Zf2S/DHxG+HkPjTx8l5r2p640k0Ub3ksYijDFQ7FSGZ2KlskkYK8daAPsyxv7bVLOK6s7iG7tZRujngcOjj1DDgisnxF4+8MeD5ETXvEek6I7jKrqN9FblvpvYZryOHwfafsh/Brx7qOjajdalYRl77T7S9+YWsjqsaJnOGUyFSTgcdcnmvD/wBlf9nPSPjto+qfEL4kS3niK4vr2SKGCS6kjEm0fPI7IQx+Y4ADADaeDnAAPtzTdc07WtOXUNP1C1v7BgSLq2mWSIgdTuUkVU8N+NPD/jKOeTQNd03XI7dgszabeR3AjJ6BijHBOD1rzPwF8AdI+BulePG0C/vJNI1i0V49Num3i0eOOUMVfPIbevUZGwZJ7eJf8E1/+QR49/672f8A6DNQB9ca1428O+G9Qs7DVte0zS768OLa1vbyOGWck4+RWYFuSBx3pfEnjPw/4Nhhm8Qa7puhxTMUik1K7jt1kYDJClyMnHpXx9+2t/ycJ8KP96D/ANKxVj/gpR/yCPAX/Xe8/wDQYaAPqfSPiz4H8QX0dlpfjLw/qV7IdqW9nqkEsjH0Cq5Jrq6/OD9ozwX8FPDfw40K88CalaN4ukeHzLfS9Ue8UqUJkaTLuIyGxjlTnt1x90/B661WP4QeFLjxLLImqLpUEl5JdsA4PlgkyE9DjrnnOc0AaetfEnwj4b1VdM1fxToul6kwUrZ3uoQwzEN90hGYHntxzXR1+X3jjw/qHx4tfi18Wo3k+zaXqMAtUP8AHbljHj6pGISfqa+9P2ffiVD8Qfgj4f8AEdzPmeKz8m/c5JE0I2yMe/O3d9GFAHc6/wCKNG8K2gutb1ex0e2JwJtQuUgQn03OQKb4d8XaF4ut3uNC1rT9agjIDy6ddRzqpPQEoSB0P5V8JfBnwZJ+2d8XvFHijxrdXUvh/TCvk2EUpQASM3lQqf4VCoxbbyTg55NfTfgT9lfwr8LfiTb+K/CNxeaPALaS2udJMzzQzBgNp3OxYYIzglh06UAem2Pjfw7qmvXOh2ev6Xd61bbjPpsF5G9zFggHdGG3LgkZyO9U9e+KHg3wrqDWGteLdC0e+VQ5tb/UoYJQp6Ha7A4NfIHwJ/5Py8e/9ddT/wDRy1zvx00vw3rX7cwsvF728fhuY2q3rXdybaIJ9kUjdIGXaMgc5FAH3FoHxP8AB3ivUBYaJ4s0PWL4qXFrp+pQzylR1O1GJwPWrPiPx54Z8HtGuv8AiLSdDaQbkXUr6K3LD1G9hnofyrzD4PfC34IaH4ofVvh0dHu9atYWV5NN1yS+aKN+DlDM4APTJFfHvhu48G6x+0h4xT46m7PmXM8UZmkljhilEmEDmMh1QJgLg7QMZ45oA/R7RfEGl+JLMXekalZ6rak48+ynSZM+m5SRWhXmXwM+Evgz4Y6Pf3Pge8lvNH1qRLlX+1rcw/KCo8twMkdc5J5r02gAooooAKKKKACiiigAooooAKKKKACiiigAooooAKKKKACiiigAooooAKKKKACiiigAooooAKKKKACiiigAooooAKKKKACiiigAooooAKKKKACiiigAooooAKKKKAKGioI7EoMkLPMBuJJ/1rdSeTV+qWk/8er/APXxP/6NertABRRRQAUUUUAFFFFABRRRQAUUUUAFFFFABRRRQAUUUUAFFFFABRRRQAUUUUAFFFFABRRRQAUUUUAFFFFABRRRQAUUUUAFFFFABRRRQAUUUUAFFFFABRRRQAUUUUAfFf7eniDUvG3i7wX8L/D8X27ULh/tslqkqjfM5McKkkgLgCU/MRw4PA5rkfj9o/x18YfC+K18WfDjQtG8O+HQt0l1pdwhlto40KYA+1SEptPI2n7oPavs6T4N+DpviQvj2TRVk8WKoVdQaeU7QI/LGI9+wHZxnbnv1rq9T0221nTbvT72Fbizuongnhfo8bKVZT7EEigD41vr2/8Aj5+wfGLLfe654fMcdxBGu55PsxA4A5J8hlf1JBrqP2Q/2jvBMPwf0nw5r3iDT9A1fRlkgdNSnWBJY97MjozYU8NgjOcqeORXvXw3+EXhL4R2N5aeEtJ/sm3vJBLOn2mabewGAcyOxHHpXMeJP2U/hR4s1WTUtR8G2hu5G3u1rNNbKzdyVidVJP05oA5vx54y0b9pn4L/ABJ0TwPNNqc1lEIVmERWO6lXbMEizy2dm3JA5IxxzXl37Efx68J+GPh9P4N8T6xaeHdTsbyWSE6lIII5Y3+Yje2FDKwYEEg8jGecfWfhHwbofgPRYtI8PaXbaRp0ZLC3tk2gserE9WY4HJyeK4vxp+zP8MviFq0uqa74StbnUJm3y3EEsts0rf3n8p13H3OTQBN4V+MXhL4xal4m8NeGdSbUXsLVVuNQhj3W370OoCNkbyNpJxx6E84+UP2H/iJoPwg8Q+N/CvjS/i8NalNPCqtqLiKISQmRJI2dsBWBYYz159OftPwN8OfDPw00ttO8MaNa6PaO291t1O6RsYy7ElmOO5Jrn/Hv7Pfw7+J2onUPEnha1v78gBrqN5LeVwOm54mUtjpyTxxQB8n/AB48Xab8df2pvh5pfgu5TW00+WCOa8tsvDkTmWQhh95URclhx19K6L/gpR/yCPAX/Xe8/wDQYa+nPh78FfBHwrMzeFvDtrpU0y7HuFLSzMv93zHLNj2zin/En4O+D/i9BYQ+LdHGrR2Ls9uPtE0OwsAG5jdc52jg56UAfGX7QnwPsvgPpPgj4meAbdrDyJIPtdvK7XEaTFA6SfvCx2sQwIPGSuMV7p8fvjxaH9lNvFGlTLHP4otI7K1QNyjzAiZfqiiUZHdRXt3ijwLoXjTwpP4a1rT0vtEnjSJ7RnZBtUgrhlIYYKjkHPFcbffszfDXUvCOleF7nw35uhaXNJcWdob65AikkOXO4SbmyexJFAHyp8LfDXx80D4LyeFtD+G+hah4X162kuGuL65iFxPHcxgbiPta7Ts2gAqCMDIyK3P2ENdu9M1Dx78KdcD2V2vmTrbuw3RSr+4uFHYn/Vnj+6TX23b28VnbxQQRrFDEoRI1GAqgYAHsBXE6f8EfBOl/ESfx1aaGsHimcu0l8tzNhi67WPl79mSP9n360AfHP7IfxE0/9nn4i+M/BXjqddCa5kjQXVyCsaTQlxhm7K6vuDHjgc819daZ+0F4F1/x9p3g/RNch17Vr1JJA+lss9vEqJvJeVTt5AIAUk564q58Qvgf4E+Kk0c/ijw3aapcxrsW5y8M23+6ZI2ViB2BOBk074d/BHwN8KXmk8K+HLXSp5l2PcbnmmK5zt8yRmbbnHGccD0oA+UfgT/yfl49/wCuup/+jlrnfjppfhvWv25hZeL3t4/DcxtVvWu7k20QT7IpG6QMu0ZA5yK+0dC+Cvgvw1481HxnpuiLbeJdQ8z7TffaJm37yC/yM5QZIHRRWP46/Zo+G3xL8RTa94k8NDUdWmREkuBe3MO4KNq5WORV4AAzjtQBk/Bnwv8ABPwbr90nw41DQm1i9h2Sw2Gum9leNTu4RpnIAPJIFcD4w8U/s7/tEaLdX3iHU9P0jVoEaNri8lFlqMG0kADnEvso3jnpnp6t4D/Zr+HHwx8RR674a8Of2bqscbRLcfbrmXCsMMNskjLyPaqvib9lb4VeL9Zl1XU/B1q99M5kkkt55rcOxOSzLE6qST1JHNAHz5/wTxudSj1zx3p9pc3F34ShKNBJIpEZm3sFYA/dZoxkgei56Cvtqsfwp4P0XwLosWk+H9MttJ06Ikrb2sYVcnqx9WPcnJNbFABRRRQAUUUUAFFFFABRRRQAUUUUAFFFFABRRRQAUUUUAFFFFABRRRQAUUUUAFFFFABRRRQAUUUUAFFFFABRRRQAUUUUAFFFFABRRRQAUUUUAFFFFABRRRQAUUUUAUtJ/wCPV/8Ar4n/APRr1dqhoqCOxKDJCzzAbiSf9a3Unk1foAKKKKACiiigAooooAKKKKACiiigAooooAKKKKACiiigAooooAKKKKACiiigAooooAKKKKACiiigAooooAKKKKACiiigAooooAKKKKACiiigAooooAKKKKACiiigAooooAKKKKACiiigAooooAKKKKACiiigAooooAKKKKACiiigAooooAKKKKACiiigAooooAKKKKACiiigAooooAKKKKACiiigAooooAKKKKACiiigAooooAKKKKACiiigAooooAKKKKACiiigAooooAKKKKACiiigAooooAKKKKACiiigAooooApaT/x6v/18T/8Ao16u1S0n/j1f/r4n/wDRr1doAKKKKACiiigAooooAKKKKACiiigAooooAKKKKACiiigAooooAKKKKACiiigAooooAKKKKACioN7fbAmfl8vOPfNT0AFFFFABRRRQAUUUUAFFFFABRUEkjLdQqD8rBsip6ACiiigAooooAKKKKACiiigAoqCeRlmgAOAzHP5VPQAUUUUAFFFFABRRRQAUUUUAFFQXUjJ5O043SAH6VPQAUUUUAFFFFABRRRQAUUUUAFFQXcjRwgqcHcB+tT0AFFFFABRRRQAUUUUAFFFFABRUN47R20jKcEDg1LQAtFFFABRRRQAUUUUAFFFFABRUdwxW3kYHBCkj8qWFi0SE8kqDQA+iiigAooooAKKKKACiiigAoprHCkj0qO1cyW8bMckjk0ATUUUUAFFFFABRRRQAUUUUAFFFQWbtJbqzHJyefxNAE9FFFABRRRQAUUUUAUNFQR2JQZIWeYDcST/rW6k8mr9UtJ/49X/6+J//AEa9XaACiiigAooooAKKKKACiiigAooooAKKKKACiiigAooooAKKKKACiiigAooooAKKKKACvNPBd1NL8cviXC8sjwxWmkeXGzEqmY7gnA7ZNel15h4H/wCS8fFD/r00b/0XcV24f+HW/wAP/t0TnqfHT9f0Z6P/AMxAf9cj/MVYqszBb8E/88j/ADpXvoo+rfpXGdBYoqg+tWsf3nP5VBJ4nsI/vSN/3yafK+wro1qKw28ZaWnWV/8Avg1A3j7R06zSf9+zT9nLsLmXc6OiuWb4laGnWeT/AL9GoX+Knh6PrcS/9+WqvZT7C549zr6K4pvi/wCGk63M3/flqib40eFk63U3/fhqfsan8rF7SHc7GX/j9g+jf0qzXnE3xw8JrdQsbufADf8ALu3+FOb4+eD15N3cf+A7U/YVf5WHtIdz0WivNW/aG8GL1vLj/wABnqJv2jvBC9b25/8AAV6f1et/I/uF7Wn/ADHp9FeWN+0t4FTrfXX/AICv/hUTftPeAl6311/4CP8A4U/q1f8Akf3C9tT/AJkesUV5G37U3w/Xrf3X/gI/+FRt+1b8PV6393/4Bv8A4U/qtf8Akf3B7an/ADI9gorxtv2tPh0vXULz/wAA5P8ACo2/a8+Gy9dRvP8AwCk/wp/VMR/I/uF7el/Mj1+5/wCPi2/3j/KrNeGz/te/DZpoW/tK8AUk/wDHlJz+lPb9sj4ZL11K9/8AAGT/AAp/U8R/z7f3B7el/Mj2+ivDT+2b8MB/zEr3/wAAZP8ACmN+2l8Ll66nff8AgBJ/hR9TxP8Az7f3C+sUv5ke60V4Of22PhYP+Ynff+AEn+FNP7bnwqXrql9/4ASf4U/qWJ/59v7g+sUf5ke9UV4Gf24PhSP+Ypf/APgvk/wpp/bj+FA66rf/APgvk/wo+o4n/n2/uD6xR/nX3nv1FfP5/bm+Ew/5it//AOC+X/Cm/wDDdXwl/wCgrf8A/gvl/wAKf1HFf8+39wfWKP8AOvvPebz/AJYf9dV/rVmvnef9ub4SzeX/AMTe+XY4f5tPl5x26U//AIbv+EY/5iuof+C6X/Cj6jiv+fb+5i+s0f51959C0V88/wDDePwi/wCgrqH/AILpf8KT/hvL4Rf9BbUP/BdL/hR9RxX/AD6f3MPrNH+dfefQ9FfPH/Denwh/6C2of+C6X/Ck/wCG9PhD/wBBbUP/AAXS/wCFH1DFf8+n9zD6zR/nX3n0RRXzv/w3t8If+gtqH/gul/wo/wCG9vhD/wBBbUP/AAXS/wCFP6hiv+fT+5h9Zo/zr7z6Ior53/4b2+EP/QW1D/wXS/4Uf8N7fCH/AKC2of8Agul/wo+oYr/n0/uYfWaP86+8+gL7/Uj/AHl/nVivnK4/bw+EU0e0avfg5B506Xtz6VL/AMN7fCH/AKC2of8Agul/wo+oYr/n0/uYfWaP86+8+iKK+d/+G9vhD/0FtQ/8F0v+FH/De3wh/wCgtqH/AILpf8KPqGK/59P7mH1mj/OvvPoiivnf/hvb4Q/9BbUP/BdL/hR/w3t8If8AoLah/wCC6X/Cj6hiv+fT+5h9Zo/zr7z6Ior53/4b2+EP/QW1D/wXS/4Uf8N7fCH/AKC2of8Agul/wo+oYr/n0/uYfWaP86+8+iKK+d/+G9vhD/0FtQ/8F0v+FH/De3wh/wCgtqH/AILpf8KPqGK/59P7mH1mj/OvvPoC+/485fpU9fOdx+3j8IpoWQavfgtxk6dLj+VSf8N7fCH/AKC2of8Agul/wo+oYr/n0/uYfWaP86+8+iaK+d/+G9vhD/0FtQ/8F0v+FH/De3wh/wCgtqH/AILpf8KPqGK/59P7mH1mj/OvvPoiivnf/hvb4Q/9BbUP/BdL/hR/w3t8If8AoLah/wCC6X/Cj6hiv+fT+5h9Zo/zr7z6Ior53/4b2+EP/QW1D/wXS/4Uf8N7fCH/AKC2of8Agul/wo+oYr/n0/uYfWaP86+8+iKK+d/+G9vhD/0FtQ/8F0v+FH/De3wh/wCgtqH/AILpf8KPqGK/59P7mH1mj/OvvPoO6/49pf8AcP8AKlg/1Mf+6P5V88S/t5fCGSJ0Gr34LAjJ06XH8qIv29PhCsaKdW1DIAH/ACDpf8KPqGK/59P7mH1mj/OvvPouivnf/hvb4Q/9BbUP/BdL/hR/w3t8If8AoLah/wCC6X/Cj6hiv+fT+5h9Zo/zr7z6Ior53/4b2+EP/QW1D/wXS/4Uf8N7fCH/AKC2of8Agul/wo+oYr/n0/uYfWaP86+8+iKK+d/+G9vhD/0FtQ/8F0v+FH/De3wh/wCgtqH/AILpf8KPqGK/59P7mH1mj/OvvPoiivnf/hvb4Q/9BbUP/BdL/hR/w3t8If8AoLah/wCC6X/Cj6hiv+fT+5h9Zo/zr7z6Gk/1bfSorL/j0i/3a+fG/b0+EJUj+1tQ6f8AQOl/wptv+3j8IoYUQ6vfkqMZGnS4/lR9QxX/AD6f3MPrNH+dfefRlFfO/wDw3t8If+gtqH/gul/wo/4b2+EP/QW1D/wXS/4UfUMV/wA+n9zD6zR/nX3n0RRXzv8A8N7fCH/oLah/4Lpf8K9R+E3xk8MfGzQbvWPCt1Nd2VrdGzlaaBoiJAiuRhuow681lUwtejHmqQaXmi41qc3aMk2dvRRRXKbBRRRQAVXsP+PVPq38zViq9h/x6p9W/maALFFFFABRRRQAUUUUAUtJ/wCPV/8Ar4n/APRr1dqhoqCOxKDJCzzAbiSf9a3Unk1foAKKKKACiiigAooooAKKKKACiiigAooooAKKKKACiiigAooryb4kfE7xLZ/EzQ/AHg600n+2b+wl1Oa+1vzGt4YUYqFCRkMzEg9wB79gD1mivGPG3xC+JXgH4O654k1PQ9DfXtFvFMkdq8klteWIKb5oxuDxsA7fK5OPLY8gjPb+MviNYeGfhXqfjaGRJrKHTDqFsXztl3R7ol4/vEqP+BUAdhRXzN8UP2ifHvw48J/DbUDouj3mpa3p1zqms2gimAiihSCRlh/efKyxyvnduGV/P3268aaVZ+CpPFclyP7ESw/tL7QMcweX5gYc91oA3KK8M/Zl+OHiX4yS+K18R6XYaU2mvavbQ2ayBvKnjaRRIWY5YLt6Bep4r3OgAry/wSdvx3+KP/Xpo3/ou4r1CvLvBX/Jdvih/wBemjf+i7iu3D/w63+Ff+lxOer8VP1/9tZ3F1M39odf+WX9aqSiSR9oYAn1qe6/5CH/AGy/rUa/8fC/j/Ks4pWLkZ1xptw2fnTP4/4VmzaLct/y0jz9T/hXTSdTVSTvWsWQ0cnceH7pv+WsQ/E/4VnTeF7tv+W0P5n/AArspKqyV0KRk0cPceEb1v8AlvD+Z/wrOm8E3zf8vEH5t/hXfS1Vk/rW8ZsycTzybwLftn/SYPzb/CqE3w/v2/5ebf8ANv8ACvR5O9VZO1dEZsycTy65+HeoNcR/6Vb9D3b/AAqrN8N9RbP+l235t/hXpc//AB8xfQ/0qGTvXRGbM3E8tm+GWo9ru2/8e/wqlL8L9R/5/Lb/AMe/wr1aSqklbxmzJxPJpvhZqXP+mWv/AI9/hVOb4U6lz/ptrn/gX+FetS/xVVl71vGbIcTyKT4T6l/z+2v/AI9/hVOb4S6n/wA/tr/49/hXr8lVZv61upeRnynj03wh1Pn/AE61/wDHv8KpyfB/U+99ak/8C/wr2OXvVWWt4y8jNxPGbj4Q6nuX/TrXr/tf4VBJ8HtT/wCf61/8e/wr1+4+/H9ahk61qpeRk0eOSfB/U/8An+tf/Hv8KqyfB/Uuf9Otfyb/AAr2OTvVSToa2jLyM2ePSfB/Uf8An+tfyb/Cq0nwh1HvfW35N/hXsMnSqktbRt2M2eQv8I9Q/wCf62/Jv8KryfCe/HW+t/yb/CvW5KpzVsrdiNTyiT4U3w63tv8Ak1QP8Lb0f8vsH/fLV6pN3qrJWyjHsZ3Z5c/wxvF/5fYf++TULfDO7/5/Yf8Avk16XN2+tVpO9aqEexHMzzdvhvcr/wAvkX/fJqFvh5cdTeR/98mvRJKqSdB9a1VKD6EOcu5wTeAZl5N3H/3waifwPKv/AC9p/wB8H/Gu4k+7VWbvWsaNPsT7SXc41vBjqcfal/74/wDr0n/CGv8A8/S/98f/AF66qT71NrX6vT7E+1n3OX/4Q1/+fpf++P8A69H/AAhr/wDP0v8A3x/9euooo+r0+wvbT7nL/wDCGv8A8/S/98f/AF6P+ENf/n6X/vj/AOvXUUUfV6fYPbT7nL/8Ia//AD9L/wB8f/Xo/wCENf8A5+l/74/+vXUUUfV6fYPbT7nL/wDCGv8A8/S/98f/AF6P+ENf/n6X/vj/AOvXUUUfV6fYPbT7nL/8Ia//AD9L/wB8f/Xo/wCENf8A5+l/74/+vXUUUfV6fYPbT7nL/wDCGv8A8/S/98f/AF6P+ENf/n6X/vj/AOvXUUUfV6fYPbT7nL/8Ia//AD9L/wB8f/Xo/wCENf8A5+l/74/+vXUUUfV6fYPbT7nL/wDCGv8A8/S/98f/AF6P+ENf/n6X/vj/AOvXUUUfV6fYPbT7nL/8Ia//AD9L/wB8f/Xo/wCENf8A5+l/74/+vXUUUfV6fYPbT7nL/wDCGv8A8/S/98f/AF6P+ENf/n6X/vj/AOvXUUUfV6fYPbT7nL/8Ia//AD9L/wB8f/Xo/wCENf8A5+l/74/+vXUUUfV6fYPbT7nL/wDCGv8A8/S/98f/AF6P+ENf/n6X/vj/AOvXUUUfV6fYPbT7nL/8Ia//AD9L/wB8f/Xo/wCENf8A5+l/74/+vXUUUfV6fYPbT7nL/wDCGv8A8/S/98f/AF6P+ENf/n6X/vj/AOvXUUUfV6fYPbT7nL/8Ia//AD9L/wB8f/Xo/wCENf8A5+l/74/+vXUUUfV6fYPbT7nL/wDCGv8A8/S/98f/AF6P+ENf/n6X/vj/AOvXUUUfV6fYPbT7nL/8Ia//AD9L/wB8f/Xo/wCENf8A5+l/74/+vXUUUfV6fYPbT7nL/wDCGv8A8/S/98f/AF6P+ENf/n6X/vj/AOvXUUUfV6fYPbT7nlniSOTS757MPuAUEsBjORX6Jf8ABMb/AJIr4k/7GCT/ANJrevzz8df8jFL/ALifyr7u/wCCePjXT/BvwR1t7+31a4Fx4imCf2Vo15qJGLa3zuFtFIU68bsZ5xnBr4XPdKM12Z9HlutSL8j7forjNP8AjB4S1LwLqPjGPU5IfDuntMlzdXdlPbvG8TFJE8qRFkLBwU2hSS3ygE8VvaP4o0vXvC9j4js7xH0S9s01CG8kBiU27oJFkO8AqNpB+YAjvivz8+nNWiuJ8M/Gbwj4smv4rPUprWSxsl1KZdWsLjTv9EbcBcL9pjj3xfI2ZFyowMkZGcn/AIaK8EzaHqepWt3fzmysor9bKbTbi0uLuGV/Lhe3W4SPzVeQqgdTsBddzKDmgD0yq9h/x6p9W/ma4rSfjFper2mklNN1OHU9Q1SbSP7HkjiN1bzQswnaTbIUEcYXcZFdlIZApZnVT2th/wAeqfVv5mgCxRRRQAUUUUAFFFFAFLSf+PV/+vif/wBGvV2qWk/8er/9fE//AKNertABRRRQAUUUUAFFFFABRRRQAUUUUAFFFFABRRRQAUUUUAFeZ/FH4V+Fvi1qlpDJq0uj+MdGT7RZ6ho90sWoWitkAkdTGSOhHODgjJr0yuD8ffAvwL8TtSh1HxJoEd/qEMYiS7jnlt5QgJIUvE6kjk8E96AOF+BPiLWfH+m/EPwL4wv4fEseh3LaOdZgQR/boJI2UhgON4AIJH97nPU+QeHdSvPF3hHwX8CtRZpNRsPE02n6wu/G/TbEicZ/2XDRKp77K+ufBvgnQvh7oMOjeHNMg0nTYiWWCAHlj1ZiclmPHJJPAqhp/wALfCul+PtQ8bWujxxeKL+EW9xqAkcl0AUY2FtgOEXkAE468mgDz74uafb6v+0B8IbG8iE9pdWevwTRNnDo1rCrKfqCa8W0fU9S1XQLD9nOeSV9UtfEMlhfT4wW0SEi5Eme29SqD2GOc19eal4P0jWPEmi6/d2nnatoyzrY3HmOvkiZVWX5Qdrbgqj5gcY4xVS3+HXhy18d3XjOLS408TXNqLKXUN77mhBBC7c7QflX5gM4AGcUAeU/AOGO3+NnxxiiRYoo9RsFREACqBA4AAHQV71WFofgfRPDWua7rGm2P2bUdcljm1CbzXbz3RSqnDMQuAT90Ct2gAry7wV/yXb4of8AXpo3/ou4r1GvLvBPPx3+KH/Xpo3/AKLuK7cP/Drf4V/6XE5qvxU/X/21naXX/IQ/7Zf1qNf+Phfx/lVm4tZX1AYXP7r1HrTfsFwswby8gf7Q/wAazi1Y0aZHJ1NVJO9X5LS4PSBj/wACX/Gq76fdnpbMf+BJ/jVJruS0zNkqrJWnJpd83Szf/vtP/iqrvo+onpZSH/tpH/8AFVupR7mbT7GTLVWT+ta8mhao3Swk/wC/kf8A8VVd/D+rHpp0h/7axf8AxdbKUe6+8hxfYxZO9VZO1bcnhnWTnGmSn/trF/8AF1Xfwrrh6aVL/wB/of8A4utozh/MvvRm4y7HOT/8fMX0P9Khk71tz+Ete+1RD+yZc4P/AC2h/wDi6Y/gvxCc40eb/v8Awf8Axyt41Kf8y+9GTjLsznpKqSV0sngfxG3TRZv+/wDB/wDHKryeA/Ex6aHMf+3iD/45W8atP+dfeiHCfZ/ccvL/ABVVl711Mnw98UtnGhTf+BFv/wDHKgk+HPits40Gb/wJt/8A45WyrUv5196M+Sf8r+45OSqs39a65/hp4tPTw/N/4E2//wAdqvJ8L/GDdPD03/gVbf8Ax2t1Xo/zr70R7Of8r+5nHy96qy12cnwr8ZN08Ozf+BVt/wDHaryfCbxo3Tw5Mf8At7tv/jtbLEUf+fi+9Gbp1P5X9zOGuPvx/WoZOtdncfCPxr5kQ/4RybJPH+l23p/11pj/AAd8cnp4am/8DLX/AOO1qsTQ/wCfkfvX+Zm6VT+V/czhZO9VJOhrvn+C/js9PDM3/gZa/wDx2q7/AAS8fN08MTf+Btr/APHa1jisP/z8j96/zMnRq/yP7mcBJ0qpLXob/A34gN08Lzf+Btr/APHqgk+A/wAQm6eF5v8AwNtP/j1bRxWH/wCfkf8AwJf5kOjV/kf3M84kqnNXpb/AH4iHp4Wl/wDA60/+PVXk/Z7+IzdPC0v/AIHWn/x6to4zDf8AP2P/AIEv8zP2Fb+R/czzKbvVWSvT5P2dfiS2ceFZP/A+0/8Aj1Qv+zf8S26eFZP/AAPtP/j1bLGYX/n7H/wJf5mf1et/I/uZ5VN2+tVpO9ep3H7NvxLXbnwrINzAD/T7Tr/39qNv2Zfie2f+KUf/AMGFp/8AHq2WOwn/AD9j/wCBL/Mh4ev/ACP7meTSVUk6D6166/7L/wAUW6eFH/8ABhaf/Hqrt+yz8UyOPCbf+DC0/wDj1bRx2E/5/R/8CX+Zm8NX/wCfb+5nkEn3aqzd69jf9lP4qsuB4Tb/AMGNp/8AHqgk/ZN+K7Zx4UP/AIMbT/47WqzDB/8AP6P/AIEv8yfqtf8A59v7meNSfeptewv+yP8AFhmyPCn/AJUbT/47Sf8ADI/xZ/6FT/yo2n/x2tv7RwX/AD+j/wCBL/Mh4XEf8+39zPH6K9g/4ZH+LP8A0Kn/AJUbT/47R/wyP8Wf+hU/8qNp/wDHaP7RwX/P6P8A4Ev8xfVcR/z7f3M8for16T9kv4rxrlvCuBnH/IRtP/jtO/4ZH+LP/Qqf+VG0/wDjtH9o4L/n9H/wJf5h9VxH/Pt/czx+ivYP+GR/iz/0Kn/lRtP/AI7R/wAMj/Fn/oVP/Kjaf/HaP7RwX/P6P/gS/wAw+q4j/n2/uZ4/RXsH/DI/xZ/6FT/yo2n/AMdo/wCGR/iz/wBCp/5UbT/47R/aOC/5/R/8CX+YfVcR/wA+39zPH6K9g/4ZH+LP/Qqf+VG0/wDjtH/DI/xZ/wChU/8AKjaf/HaP7RwX/P6P/gS/zD6riP8An2/uZ4/RXsH/AAyP8Wf+hU/8qNp/8do/4ZH+LP8A0Kn/AJUbT/47R/aOC/5/R/8AAl/mH1XEf8+39zPH6K9ek/ZK+K8aFm8K4UdT/aNp/wDHad/wyP8AFn/oVP8Ayo2n/wAdo/tHBf8AP6P/AIEv8w+q4j/n2/uZ4/RXsH/DI/xZ/wChU/8AKjaf/HaP+GR/iz/0Kn/lRtP/AI7R/aOC/wCf0f8AwJf5h9VxH/Pt/czx+ivYP+GR/iz/ANCp/wCVG0/+O0f8Mj/Fn/oVP/Kjaf8Ax2j+0cF/z+j/AOBL/MPquI/59v7meP0V7B/wyP8AFn/oVP8Ayo2n/wAdo/4ZH+LP/Qqf+VG0/wDjtH9o4L/n9H/wJf5h9VxH/Pt/czx+ivYP+GR/iz/0Kn/lRtP/AI7R/wAMj/Fn/oVP/Kjaf/HaP7RwX/P6P/gS/wAw+q4j/n2/uZ4/RXr7fsk/FhFLHwpgAZP/ABMbT/47Qv7JHxYZQR4UyDyP+Jjaf/HaP7RwX/P6P/gS/wAw+q4j/n2/uZ5BRXsH/DI/xZ/6FT/yo2n/AMdo/wCGR/iz/wBCp/5UbT/47R/aOC/5/R/8CX+YfVcR/wA+39zPH6K9g/4ZH+LP/Qqf+VG0/wDjtH/DI/xZ/wChU/8AKjaf/HaP7RwX/P6P/gS/zD6riP8An2/uZ4/RXsH/AAyP8Wf+hU/8qNp/8do/4ZH+LP8A0Kn/AJUbT/47R/aOC/5/R/8AAl/mH1XEf8+39zPH6K9g/wCGR/iz/wBCp/5UbT/47R/wyP8AFn/oVP8Ayo2n/wAdo/tHBf8AP6P/AIEv8w+q4j/n2/uZ4/RXr5/ZH+LAGT4U/wDKjaf/AB2kj/ZJ+K8ihl8K5U8j/iY2n/x2j+0cF/z+j/4Ev8w+q4j/AJ9v7meQ0V7B/wAMj/Fn/oVP/Kjaf/HaP+GR/iz/ANCp/wCVG0/+O0f2jgv+f0f/AAJf5h9VxH/Pt/cz5S8df8jFL/uJ/Kvtv9iXWtc0H9lbxq/hvT7m/wDEV7r7WOmLBCziOeaG3iSeQgELFEWMjs2AFjPIOKpfC3/gnzq3ibxlJrHxJA0rRYGQJpNtcLJPeYAzukjYiOPtwdx5+7wT936DoGm+F9ItdK0ixg03TrVBHDa20YREUDAAAr89zrH0arlRpPmu91t/wT6nL8NUglOatoeJeM/g74k0fwz4R0DwzY6VrXhXw3YSSvY6hqM9nPd6gF/dXDbLebzNpaWTYSMyujZ+QVr/AAZ8Ta34P+FHw78P654O1hdTj8MRvt06Jpo4hbW8QWGdpFi8m5kzgREEBlYbzjNezUV8ee6fJ3iTwn4j+J8njuHQk8Sa8dU8FXOn/wBpeMNJbSJ7e5aXdBZQAw28bq+ZS7eW2Cke6XG1a62806w+NvxA0zV7zwvrlh4V0vwveW2pR6lpV5YzvNcSW7pbRIypI7Ri3dt8IOG2bWJIx9CUUAfJGpeHPGfw+az8ReHNP17TdR1mzvXtbC2sTqssEonhe0s7yWVZnjE/mXEtxMXUlwqmVRCm76vsP+PVPq38zViq9h/x6p9W/maALFFFFABRRRQAUUUUAUNFQR2JQZIWeYDcST/rW6k8mr9UtJ/49X/6+J//AEa9XaACiiigAooooAKKKKACiiigAooooAKKKKACiiigAooooAKKKKACiiigAooooAKKKKACvMPA/wDyXj4of9emjf8Aou4r0+vMPA//ACXj4of9emjf+i7iu3D/AMOt/hX/AKXE56vx0/X/ANtZ6P8A8xAf9cj/ADFWKr/8xAf9cj/MVYriOgKKKKACiiigAooooAKKKKAK0v8Ax+wfRv6VZqtL/wAfsH0b+lWaACiiigAooooAKKKKACiiigCtc/8AHxbf7x/lVmq1z/x8W3+8f5VZoAKKKKACiiigAooooAKKKKAK15/yw/66r/WrNVrz/lh/11X+tWaACiiigAooooAKKKKACiiigCvff6kf7y/zqxVe+/1I/wB5f51YoAKKKKACiiigAooooAKKKKAK99/x5y/Sp6gvv+POX6VPQAtFFFABRRRQAUUUUAFFFFAEV1/x7S/7h/lSwf6mP/dH8qS6/wCPaX/cP8qWD/Ux/wC6P5UASUUUUAFFFFABRRRQAUUUUANk/wBW30qKy/49Iv8AdqWT/Vt9Kisv+PSL/doAnooooAKKKKACiiigAooooAKr2H/Hqn1b+ZqxVew/49U+rfzNAFiiiigAooooAKKKKAKWk/8AHq//AF8T/wDo16u1Q0VBHYlBkhZ5gNxJP+tbqTyav0AFFFFABRRRQAUUUUAFFFFABRRRQAUUUUAFFFFABRRRQAUUUUAFFFFABRRRQAUUUUAFeYeB/wDkvHxQ/wCvTRv/AEXcV6fXmHgf/kvHxQ/69NG/9F3FduH/AIdb/Cv/AEuJz1fjp+v/ALaz0f8A5iA/65H+YqxVZmC34ycfuj/OnteQp1fH4GuI6CaiqbavaR/emx/wE/4VC/iLTo/vXGP+AN/hVcr7CujSorHbxbpKdbvH/bN/8Kibxxoifevcf9sn/wDiafJLsLmXc3aK51viF4fXrqGP+2Mn/wATULfEzw0n3tSx/wBsJP8A4mn7Of8AKw5o9zqKK5Jvir4WXrqmP+3eX/4mo2+L3hJeurY/7dpv/iKfsqn8r+4XPHudRL/x+wfRv6VZrg5vjH4PF1E51gBVDZ/0ebv7bKc3xw8Er11rH/brP/8AEU/Y1f5X9wvaQ7o7qiuAb48eBV665/5KT/8AxFRt+0B4CXrr3/kncf8Axun7Cr/I/uYe0h/Mj0OivOW/aG+Hy9fEGP8AtzuP/jdRt+0d8O16+Icf9uVx/wDG6f1et/I/uYva0/5l956VRXmLftK/DdeviPH/AG43P/xumN+038NF6+Jf/JG5/wDjdP6tX/kf3MPbU/5l956jRXlTftRfDFevib/yQuv/AI1TG/aq+Fy9fFH/AJT7r/41R9Vr/wDPt/cxe2p/zL7z0+5/4+Lb/eP8qs14/cftUfC5pIXHigbUbJ/0C6B6enlc05v2tPhSvXxV/wCU67/+NU/quI/59v7mHtqX8y+89eorx8/tcfCZeviv/wAp13/8apjfte/CReviz/ym3f8A8ap/VMR/z7l9zD21L+Zfeex0V41/w2F8Iv8Aobf/ACm3n/xmmn9sb4QL18Xf+U28/wDjNH1TE/8APuX3MXt6X86+9Hs9FeLf8Nk/B4f8zf8A+Uy8/wDjNIf2zPg6OvjD/wApl5/8Zo+p4n/n3L7mHt6X86+9HtVFeJn9tD4Njr4x/wDKZef/ABmk/wCG0vg1/wBDj/5S73/4zT+p4n/n1L7mH1ij/OvvR7Jef8sP+uq/1qzXhlx+2d8HJvL2+MR8jhznTbwcD6w8/Sn/APDa3wY/6HL/AMpd7/8AGaPqeJ/59S+5h9Yo/wA6+9HuFFeHf8NsfBf/AKHP/wApd7/8ZpP+G2vgt/0Of/lLvf8A4zR9TxP/AD6l9zD6xR/nX3o9yorw3/htv4Lf9Dn/AOUq9/8AjNJ/w258Ff8Aoc//AClXv/xmj6niv+fUvuYfWKP86+9HudFeGf8ADbnwV/6HT/ylXv8A8Zo/4bc+Cv8A0On/AJSr3/4zR9SxX/PqX3MPrFH+dfej3OivDP8Ahtz4K/8AQ6f+Uq9/+M0f8NufBX/odP8AylXv/wAZo+pYr/n1L7mH1ij/ADr70e133+pH+8v86sV4RN+2p8GLpRHH4zXdkH5tNvFHHJ5MOKk/4bc+Cv8A0On/AJSr3/4zR9SxX/PqX3MPrFH+dfej3OivDP8Ahtz4K/8AQ6f+Uq9/+M0f8NufBX/odP8AylXv/wAZo+pYr/n1L7mH1ij/ADr70e50V4Z/w258Ff8AodP/AClXv/xmj/htz4K/9Dp/5Sr3/wCM0fUsV/z6l9zD6xR/nX3o9zorwz/htz4K/wDQ6f8AlKvf/jNH/DbnwV/6HT/ylXv/AMZo+pYr/n1L7mH1ij/OvvR7nRXhn/DbnwV/6HT/AMpV7/8AGaP+G3Pgr/0On/lKvf8A4zR9SxX/AD6l9zD6xR/nX3o9rvv+POX6VPXhNx+2t8GLiF408Zguw43aZeKPzMNSf8NufBX/AKHT/wApV7/8Zo+pYr/n1L7mH1ij/OvvR7nRXhn/AA258Ff+h0/8pV7/APGaP+G3Pgr/ANDp/wCUq9/+M0fUsV/z6l9zD6xR/nX3o9zorwz/AIbc+Cv/AEOn/lKvf/jNH/DbnwV/6HT/AMpV7/8AGaPqWK/59S+5h9Yo/wA6+9HudFeGf8NufBX/AKHT/wApV7/8Zo/4bc+Cv/Q6f+Uq9/8AjNH1LFf8+pfcw+sUf5196Pc6K8M/4bc+Cv8A0On/AJSr3/4zR/w258Ff+h0/8pV7/wDGaPqWK/59S+5h9Yo/zr70e3XX/HtL/uH+VLB/qY/90fyrw6T9tj4LzxtGnjQb3G0btMvFGTxyTDgfjRH+218Fo41RvGfzKMHGl3p/9o0fUsV/z6l9zD6xR/nX3o91orwz/htz4K/9Dp/5Sr3/AOM0f8NufBX/AKHT/wApV7/8Zo+pYr/n1L7mH1ij/OvvR7nRXhn/AA258Ff+h0/8pV7/APGaP+G3Pgr/ANDp/wCUq9/+M0fUsV/z6l9zD6xR/nX3o9zorwz/AIbc+Cv/AEOn/lKvf/jNH/DbnwV/6HT/AMpV7/8AGaPqWK/59S+5h9Yo/wA6+9HudFeGf8NufBX/AKHT/wApV7/8Zo/4bc+Cv/Q6f+Uq9/8AjNH1LFf8+pfcw+sUf5196PcZP9W30qKy/wCPSL/drxJv23PgqVIHjPt/0Cr3/wCM02D9tb4L28KRv4zG5Rg7dMvCPzENH1LFf8+pfcw+sUf5196PdqK8M/4bc+Cv/Q6f+Uq9/wDjNH/DbnwV/wCh0/8AKVe//GaPqWK/59S+5h9Yo/zr70e50V4vo/7Y/wAH9e1jT9KsfF/n39/cR2ltD/Zt4vmSuwVFy0IAySBkkCvaKwqUalF2qRa9VY0jOM9Yu4UUUVkWFFFFABVew/49U+rfzNWKr2H/AB6p9W/maALFFFFABRRRQAUUUUAUtJ/49X/6+J//AEa9XapaT/x6v/18T/8Ao16u0AFFFFABRRRQAUUUUAFFFFABRRRQAUUUUAFFFFABRRRQAUV5B4y+J3iy9+LI+H3gi10aLULbSxq17qGvCV4ljZ9ipHHEysWyQSScc+3M3i/4ieNPAnwN8R+Jtb0jSrXxRpKOVigleeyuAHCrKoyrhWBztJDDHNAHrNFeD618QPi/4F8Kr4u1fS/CviTQIIFu72z0RLm3vY4Cu5nXzHdW2jkjjgH8Og+IPx8s/D3hTwte+G9PfxNrXi7aug6ejiPz9yKxeRj91UDLu9M445IAPWKK8e03UPjrZ3lhcappPgjUNPkmjFzZ6ZPcw3UMZI3EPISjFRk9s4461b+K3xb1nw/4u0TwP4M0i21rxlq0L3YF/K0dpZWykgzTFeSCwIAHPB74BAPVqK888A3XxRXxBNaeN7HwzJpRtWlh1Hw/JOpEwdQInjmJPKlzuBx8vvXodABXl/gk7fjv8Uf+vTRv/RdxXqFeXeCv+S7fFD/r00b/ANF3FduH/h1v8K/9Lic9X4qfr/7azuLqZv7Q/wC2X9aqTeZI21TyasXX/IQ/7Zf1qJf+PhazilYtmZcWNy2cbc/Ws2fSbts/d/Ounl71Vk71rFkNHH3Gh3rZxs/76rOn8OX7Z5j/AO+q7WTvVWToa6FIxaODuPC+oN0Mf/fVZs/hDUm7xf8AfVehyVVk6V0RmZuJ5tN4L1Ns/wCq/wC+6oT+B9VPeH/vv/61enSd6qzda3jN9jJxPJrnwFqzXEfMPQ/x/wD1qqzfD7V2/ih/77/+tXqc3/HxF9DUEnf610Rm+xk4nk03w61jsYP++/8A61UJvhvrHYwf99//AFq9fk71Vk7V0Rn5EOJ47L8NdZ9YP++//rVSm+GWs8/Nb/8Aff8A9avY5Kqy963jPyMnE8ak+F+tc/Nb/wDfz/61UpvhbrR/it/++/8A61e0Sd6qSdq3jLyM3E8Vm+Fet/3rf/v5/wDWqnJ8KdbGctb/APfz/wCtXtsnSqs1bRl5GbieIT/CnW9yjfb8n++f8KryfCfW/wC/b/8Aff8A9avabj/WR/WoZOprVS8jNo8Sk+E+tf37f/vs/wCFVZPhPrXd7f8A77P+Fe2yd6qSd63UvIzPFZPhTrX9+3/77P8AhVaT4U6z3kt/++z/AIV7TJ0qpNWyt2M3c8Zf4WawOfMt/wDvs/4VXf4X6vnmS3/77P8AhXsc33aqS/erWKXYzbZ4+/wx1bqZbf8A76P+FQyfDPVB/wAtbf8A76P+FetSdDVWbvWyjF9COZnlD/DfU16y2/8A30f8Khb4dal3lg/76P8AhXqU3b61Vk7VqqcexDkzzJvh9qC9ZYPzP+FRN4Bv16yw/mf8K9Im+7VWXrWqpQfQh1JHnreBr1es0P5n/Co28F3feaH8z/hXeS/eFVXrWNCHYn2kjif+EPuf+e0X6/4Uf8Ifc/8APaL9f8K60/eNFafV6ZPtpnJf8Ifc/wDPaL9f8KP+EPuf+e0X6/4V1tFH1amL20zkv+EPuf8AntF+v+FH/CH3P/PaL9f8K62ij6tTD20zkv8AhD7n/ntF+v8AhR/wh9z/AM9ov1/wrraKPq1MPbTOS/4Q+5/57Rfr/hR/wh9z/wA9ov1/wrraKPq1MPbTOS/4Q+5/57Rfr/hR/wAIfc/89ov1/wAK62ij6tTD20zkv+EPuf8AntF+v+FH/CH3P/PaL9f8K62ij6tTD20zkv8AhD7n/ntF+v8AhR/wh9z/AM9ov1/wrraKPq1MPbTOS/4Q+5/57Rfr/hR/wh9z/wA9ov1/wrraKPq1MPbTOS/4Q+5/57Rfr/hR/wAIfc/89ov1/wAK62ij6tTD20zkv+EPuf8AntF+v+FH/CH3P/PaL9f8K62ij6tTD20zkv8AhD7n/ntF+v8AhR/wh9z/AM9ov1/wrraKPq1MPbTOS/4Q+5/57Rfr/hR/wh9z/wA9ov1/wrraKPq1MPbTOS/4Q+5/57Rfr/hR/wAIfc/89ov1/wAK62ij6tTD20zkv+EPuf8AntF+v+FH/CH3P/PaL9f8K62ij6tTD20zkv8AhD7n/ntF+v8AhR/wh9z/AM9ov1/wrraKPq1MPbTOS/4Q+5/57Rfr/hR/wh9z/wA9ov1/wrraKPq1MPbTOS/4Q+5/57Rfr/hR/wAIfc/89ov1/wAK62ij6tTD20zkv+EPuf8AntF+v+FVtS8Oz6ZYzXTyRusYyVXOT+ldtWR4s/5F2+/3P6ioqYeEYNoqNWTkkzD+Ctw9x8bPADOc/wDFQ6fgdh/pMdftnX4j/A//AJLV4A/7GDT/AP0pjr9eofjh4Vk17TNGkGvWV/qdybSzXUPDWpWsc8oVmKrJLbqn3UZvvYwpPSvy/PNakPRn2OXfDI76iuJ8K/GXwl401xNI0rUbiS+mt3u7dbnT7m2ju4FYK0tvJLGqToCy/NGWGGB6HNW/GHxQ8O+BbyCz1W4u3vZoHultNN025v5lhQgNK0dvG7JGCwG9gFycZzXzJ651dFcDrfx18EaDZ6fdTaxJdwX+nnVoW0uwub8izGM3MggjcxxfMPnfavB54OIl+OGgz+OLXw7bW97ew3E0Nqut2wiewFxNbNdRRbhJvJaFd4dUKfMo3ZOKAPQ6r2H/AB6p9W/may/B/i608baS+p6fDcLp5uJIbe4nUKt0qNtM0eCSY2YNtYgbgNwBUqx1LD/j1T6t/M0AWKKKKACiiigAooooAoaKgjsSgyQs8wG4kn/Wt1J5NX6paT/x6v8A9fE//o16u0AFFFFABRRRQAUUUUAFFFFABRRRQAUUUUAFFFFABRRRQB5V8TPhD4b+K3iCO8s9en8PeOdFjCR6pot0q3dujDcqTIDlkO7O044Y4OCc+O6t8QNe8cfsp/Fiz8RXVvq1/wCHrqfR/wC2bNNsN+sbxkSDHGeeccYx617p46/Z++H/AMSdZ/tbxD4djvdTKCNrqK4mt5HUDADGJ13DHHOa12+FXhP/AIQKXwUmiwQeGJojC+n27NErKTk/MpDZJ5LZyfWgDnfiL4u0rwX8A9Qv9Wu4rWE6G0MayMA00jQbUjUd2YkD8fSvA/DWnz/CHXP2eNc8VJ/Z+krpFzpc9xOcJY3M6s8fmE8IWDhST02tnpXu2gfsu/C7w1q1vqVn4ThkvLchoXvrqe7EZHQhZpGUH3x2Feg+IvDOk+LtHn0rW9OttU06cYktrqMSIfQ4PQjsRyO1AHh/x617xv8ADu80HxDpPj6V9J1bxBZWC6KdNtGiWCU/NtlKF2yF65z83XpTZr+38G/tqPPrEy2tv4j8MLa6bPLhUeaOZS0IY/xYQnH+0o7iuv0H9ln4W+G9WtdSsfCcIu7WQSwG4uri4SJgcgqkkjKCCAeB2Fdj47+G/hn4naSum+KNGttYs0beizAho29UdSGU/QigDdbULVL5LJrmFbySMypbmQeYyAgFgvUgEgZ9xViuD8BfAzwN8MtSl1Hw3oEdjqEsZha7knluJdhIJUPK7EDIHAPau8oAK8u8Ff8AJdvih/16aN/6LuK9Rry7wTz8dvih/wBemjf+i7iu3D/w63+Ff+lxOar8VP1/9tZ2t1/yEP8Atl/Wol/4+FqxcW8jahwhP7r+tN+yTLMG8psfSs4tWNGRy96qyd6uyQTHpDIfwqtJaz84gkP/AAGri0SzPk71Vk6GtB7K65/0ab/vmq0mn3na0mP/AACt013M2mZslVZOlacmmXv/AD5XB/4BVaTSb8j/AI8bj/vitlJdzOzMuTvVWbrWq+jajz/xL7n/AL91Wk0PU2PGm3X/AH7reMo9zNxfYw5v+PiL6GoJO/1rVn0HVftMQ/sy6zhv+WdRyeG9YOcaVeH/ALZ1tGce6M3F9jFk71Vk7VuSeGdZPTSLz/v1VaTwrrZ/5g97/wB+q6FUh3Rm4y7GBJVWXvXQP4R109NGvf8Av0aryeDfEBzjRL7/AL9VtGpD+ZfeZuMuxzsneqknaukfwT4i7aHff9+qrSeB/EjYxoN//wB+a3jVp/zL7zPkl2Obk6VVmrppPAfiY9NA1D/vzUEnw/8AE7dPD+of9+a2Van/ADL70ZuEuzOSuP8AWR/WoZOprpbj4e+KfMi/4p7UOTx+5pj/AA38V/8AQu6j/wB+a1Val/MvvRm6c/5WcnJ3qpJ3rr3+Gfi09PDeo/8Afmq8nwv8YHOPDOpH/tj/APXraNel/OvvRk6c/wCV/ccdJ0qpNXZv8K/GR/5ljUv+/P8A9eq8nwn8aN08L6l/35/+vW6xFH+dfeiHSqfyv7jiZvu1Ul+9XcyfCHxsw48Lal/36/8Ar1Xf4O+OWbI8K6l/36H+NbRxFH+dfejN0qn8r+44KToaqzd676T4L+OyDjwpqX/fof41Xk+Cfj1s48J6n/36H+NbRxND/n4vvRn7Gr/K/uPPpu31qrJ2r0Gb4I+Phtz4T1IZOB+7H+NQv8CfiD28I6l/37H+NbLFYf8A5+L70ZujV/lf3M86m+7VWXrXo8nwE+IbDjwhqX/fsf41BJ+z/wDEVjx4Q1L/AL9j/Gto4vD/APPyP3oh0Kv8j+5nmsv3hVV69Nk/Z7+JDEY8H6l/3wP8art+zt8Sj/zJ2pf98L/jW0cZhv8An5H70R7Cr/I/uZ5ifvGivSP+GcfiYWP/ABRupf8AfC/40f8ADOPxM/6E3Uv++F/xrb67hf8An7H70R9XrfyP7meb0V6R/wAM4/Ez/oTdS/74X/Gj/hnH4mf9CbqX/fC/40fXcL/z9j96D6vW/kf3M83or0Zv2c/iVGuW8HakB/uL/jTv+GcfiZ/0Jupf98L/AI0fXcL/AM/Y/eg+r1v5H9zPN6K9I/4Zx+Jn/Qm6l/3wv+NH/DOPxM/6E3Uv++F/xo+u4X/n7H70H1et/I/uZ5vRXpH/AAzj8TP+hN1L/vhf8aP+GcfiZ/0Jupf98L/jR9dwv/P2P3oPq9b+R/czzeivSP8AhnH4mf8AQm6l/wB8L/jR/wAM4/Ez/oTdS/74X/Gj67hf+fsfvQfV638j+5nm9Fekf8M4/Ez/AKE3Uv8Avhf8aP8AhnH4mf8AQm6l/wB8L/jR9dwv/P2P3oPq9b+R/czzeivRm/Zz+JUalm8HakAOp2L/AI07/hnH4mf9CbqX/fC/40vruF/5+x+9B9XrfyP7meb0V6R/wzj8TP8AoTdS/wC+F/xo/wCGcfiZ/wBCbqX/AHwv+NP67hf+fsfvQfV638j+5nm9Fekf8M4/Ez/oTdS/74X/ABo/4Zx+Jn/Qm6l/3wv+NH13C/8AP2P3oPq9b+R/czzeivSP+GcfiZ/0Jupf98L/AI0f8M4/Ez/oTdS/74X/ABo+u4X/AJ+x+9B9XrfyP7meb0V6R/wzj8TP+hN1L/vhf8aP+GcfiZ/0Jupf98L/AI0fXcL/AM/Y/eg+r1v5H9zPN6K9Hb9nP4lqpY+DtSAAyfkX/Ghf2cviWygjwdqRB5+4v+NH13C/8/Y/eg+r1v5H9zPOKK9I/wCGcfiZ/wBCbqX/AHwv+NH/AAzj8TP+hN1L/vhf8aPruF/5+x+9B9XrfyP7meb0V6R/wzj8TP8AoTdS/wC+F/xo/wCGcfiZ/wBCbqX/AHwv+NH13C/8/Y/eg+r1v5H9zPN6K9I/4Zx+Jn/Qm6l/3wv+NH/DOPxM/wChN1L/AL4X/Gj67hf+fsfvQfV638j+5nm9Fekf8M4/Ez/oTdS/74X/ABo/4Zx+Jn/Qm6l/3wv+NH13C/8AP2P3oPq9b+R/czzeivR/+GcfiX/0Jupf98L/AI0i/s5/EqRQy+DtSIPQ7F/xo+u4X/n7H70H1et/I/uZ5zWR4s/5F2+/3P6ivX/+GcfiZ/0Jupf98L/jVbUP2Wvijr1o+nQeEbyGW5KxiS4Kxxplh8zMTwB1rKrjcN7OX72Oz6oqGHrcy9x/czwj4H/8lq8Af9jBp/8A6Ux1+sumaTf+MPjhqviO/wBPu4NG8KWv9laNHcxNH9quplWS6uow23KhDFArcgkTYOK4b9mP9jXw78CYbTW9S8vXfG/lnffsv7m0LDDJAp6cZXzD8xBb7oO2voyvyXM8VDFVF7PZH2+DoyowfNuz578P6hqOsfGLQvEVra+L9at4tO1D7fD4q0JrI6IjiN0hs2EUMcsjyKsbEG4YrGMSKuTJnfFC+u/HGveH9Yl0zxp4J06+8M3Ii1TRtDurjVlllYK9hdRQCQRKF2SDcobdkxyxMrbvpWivHO8+X/AdxrHw2uJ9T8Q+AtRtk1zwZptnaaZoGlXF5FbT2huQ1myxeY0G9biFh5jBfvAuSjGm6T+z29r4V8DeGDpV5F4kj0OA67q8d1cJaRCKDyfIjAk8lriQM8AlVS6Q+YcrmPP1FRQB43+zfq3izUNJvYPEMeqJaW1rYLAuq6Ommtb3JhP2q2hjWKMNBEwQI4VgckCRwMj1yw/49U+rfzNWKr2H/Hqn1b+ZoAsUUUUAFFFFABRRRQBS0n/j1f8A6+J//Rr1dqhoqCOxKDJCzzAbiSf9a3Unk1foAKKKKACiiigAooooAKKKKACiiigAooooAKKKKACiiigAooooAKKKKACiiigAooooAK8w8D/8l4+KH/Xpo3/ou4r0+vMPA/8AyXj4of8AXpo3/ou4rtw/8Ot/hX/pcTnq/HT9f/bWej/8xAf9cj/MVYqv/wAxAf8AXI/zFWK4joCiiigAooooAKKKKACiiigCtL/x+wfRv6VZqtL/AMfsH0b+lWaACiiigAooooAKKKKACiiigCtc/wDHxbf7x/lVmq1z/wAfFt/vH+VWaACiiigAooooAKKKKACiiigCtef8sP8Arqv9as1WvP8Alh/11X+tWaACiiigAooooAKKKKACiiigCvff6kf7y/zqxVe+/wBSP95f51YoAKKKKACiiigAooooAKKKKAK99/x5y/Sp6gvv+POX6VPQAtFFFABRRRQAUUUUAFFFFAEV1/x7S/7h/lSwf6mP/dH8qS6/49pf9w/ypYP9TH/uj+VAElFFFABRRRQAUUUUAFFFFADZP9W30qKy/wCPSL/dqWT/AFbfSorL/j0i/wB2gCeiiigAooooAKKKKACiiigAqvYf8eqfVv5mrFV7D/j1T6t/M0AWKKKKACiiigAooooApaT/AMer/wDXxP8A+jXq7VLSf+PV/wDr4n/9GvV2gAooooAKKKKACiiigAooooAKKKKACiiigAooooAKKKKACiiigAooooAKKKKACiiigArzDwP/AMl4+KH/AF6aN/6LuK9PrzDwP/yXj4of9emjf+i7iu3D/wAOt/hX/pcTnq/HT9f/AG1no/8AzEB/1yP8xViqzHF+Cf8Ankf5ipGuYl6uBXEdBLRVZtStV6zKPxqJtbsV63UY/GnyvsK6L1FZreJNMXrexj8ajbxZpC9b+EfjT5Zdg5ka1FYreNNEXrqUI/E1E3jzw+vXVbcfif8ACnyS7C5l3N+iudb4ieG166xbj8T/AIVG3xK8ML11q1H/AAI/4U/Zz/lYc0e5uy/8fsH0b+lWa4+b4m+FftUTHXLQBQ2cv609vix4QXrr9oP+BH/Cn7Kp/K/uFzx7nW0Vx7fF7wavXxDZj/gR/wAKY3xk8FL18R2Q/wCBH/Cj2NT+V/cHtI9zs6K4k/GrwOvXxLZf99H/AApn/C8PAg6+J7H/AL6P+FP2NX+V/cL2kO6O5orhD8dPAK9fFNh/30f8KYfj18Pl6+K9PH/Aj/hT9hV/kf3MPaQ/mR31FefH9oD4dr18W6eP+Bn/AApv/DQnw5H/ADN2nf8AfZ/wo9hW/kf3MPaQ/mR3Vz/x8W3+8f5VZrzO4/aE+HDTQH/hL9NwpJPzn0+lS/8ADRnw0/6HHTf++2/wp/V638j+5i9rT/mX3no9FebH9pD4ZL18Z6b/AN9t/hTf+GlPhgP+Z00z/vtv8KPq9b+R/cw9rT/mX3npdFeZf8NL/C8f8zrpn/fbf4Un/DTXwt/6HbS/++2/wo+r1/5H9zD2tP8AmX3np1FeYf8ADTnws/6HfS/++2/wpv8Aw1B8Kv8AoeNL/wC+2/wo+rV/5H9zD21P+Zfeeo0V5b/w1F8Kf+h50v8A77b/AApP+Go/hQOvjnSv++2/wp/Vq/8AI/uYe2p/zL7z0q8/5Yf9dV/rVmvJrj9qD4UzeXt8c6T8rhzmQjgfUVJ/w1N8Jv8AoetK/wC+2/wo+rV/5H9zD21P+Zfeeq0V5V/w1R8Jv+h70r/vtv8ACk/4ap+Ev/Q96V/323+FH1av/wA+39zD21P+ZfeerUV5T/w1V8Jf+h70r/vtv8KP+GqvhL/0Pek/99t/hR9Vr/8APt/cxe2p/wAy+89Woryn/hqr4S/9D3pP/fbf4Uf8NVfCX/oe9J/77b/Cj6rX/wCfb+5j9tT/AJl956tRXlP/AA1V8Jf+h70n/vtv8KP+GqvhL/0Pek/99t/hR9Vr/wDPt/cw9tT/AJl956dff6kf7y/zqxXks37UXwnuVEcfjvSN24H5pSo456kVJ/w1V8Jf+h70n/vtv8KPqtf/AJ9v7mHtqf8AMvvPVqK8p/4aq+Ev/Q96T/323+FH/DVXwl/6HvSf++2/wo+q1/8An2/uYe2p/wAy+89Woryn/hqr4S/9D3pP/fbf4Uf8NVfCX/oe9J/77b/Cj6rX/wCfb+5h7an/ADL7z1aivKf+GqvhL/0Pek/99t/hR/w1V8Jf+h70n/vtv8KPqtf/AJ9v7mHtqf8AMvvPVqK8p/4aq+Ev/Q96T/323+FH/DVXwl/6HvSf++2/wo+q1/8An2/uYe2p/wAy+89Ovv8Ajzl+lT15JdftTfCaa3dF8d6SWbgfvGH9Kl/4aq+Ev/Q96T/323+FH1Wv/wA+39zD21P+Zfeer0V5T/w1V8Jf+h70n/vtv8KP+GqvhL/0Pek/99t/hR9Vr/8APt/cw9tT/mX3nq1FeU/8NVfCX/oe9J/77b/Cj/hqr4S/9D3pP/fbf4UfVa//AD7f3MPbU/5l956tRXlP/DVXwl/6HvSf++2/wo/4aq+Ev/Q96T/323+FH1Wv/wA+39zD21P+ZfeerUV5T/w1V8Jf+h70n/vtv8KP+GqvhL/0Pek/99t/hR9Vr/8APt/cw9tT/mX3nqN1/wAe0v8AuH+VLB/qY/8AdH8q8qm/am+E0kLovjvSSzKQP3jDt9KWP9qf4TRxqreO9J3KMHEjH+lH1Wv/AM+39zD21P8AmX3nrFFeU/8ADVXwl/6HvSf++2/wo/4aq+Ev/Q96T/323+FH1Wv/AM+39zD21P8AmX3nq1FeU/8ADVXwl/6HvSf++2/wo/4aq+Ev/Q96T/323+FH1Wv/AM+39zD21P8AmX3nq1FeU/8ADVXwl/6HvSf++2/wo/4aq+Ev/Q96T/323+FH1Wv/AM+39zD21P8AmX3nq1FeU/8ADVXwl/6HvSf++2/wo/4aq+Ev/Q96T/323+FH1Wv/AM+39zD21P8AmX3nqkn+rb6VFZf8ekX+7Xlz/tU/CUqw/wCE70np/fb/AAplt+1N8JoYERvHekhlGD+8Y/0o+q1/+fb+5h7an/MvvPW6K8rh/ak+FFxNHFH450t5JGCKodslicADj1r1Ssp050/ji16oqM4y+F3CiiisywooooAKKKKACq9h/wAeqfVv5mrFV7D/AI9U+rfzNAFiiiigAooooAKKKKAKGioI7EoMkLPMBuJJ/wBa3Unk1fqlpP8Ax6v/ANfE/wD6NertABRRRQAUUUUAFFZfinVJdD8M6vqUCo81nZzXCLICVLIhYA4PTIr56T45fFPQvhPpXxO1iw8J6n4Wmigubyw02O5t72KGR1XcrPI6MQWHGKAPpmisrUvFei6Loser6nqtnpmlyKrLeX06wR4YZXLOQASOxo07xZoesaLJrNhrOn3ukRqzvqFvdJJbqqjLEyA7QAOTzxQBq0Vztv8AEfwndanZ6dD4o0WbULyNJba0j1CFpZ0YblZEDZYEcggcirfiLxdoXg+1jude1rTtEt5G2JNqN1HbozegLkAmgDXoryf4ZfELUvFnxo+KmjvqUV/4f0ddIfSlhWMoiz2rSSEOoy4ZgDkk47YFdrb/ABI8JXmuHRoPFOizawG2HT49Qha43dMeWG3Z9sUAdHRWbqniTSNDntodS1Sy0+a5EjQR3VwkTSiNd0hUMRuCr8xx0HJrNg+JXhC60W41iHxVok2kW7+XNfx6jC0Ebf3WkDbQfYmgDpKKqaTq9jr2nwX+mXtvqNjON0V1aSrLFIM4yrKSCMg9PSvM/jd8QvFnhHWvBOi+EItGbUfEV9LaGTW45Xhj2R7wf3bqR0PrQB6vRXGfD8+P4U1J/Hs3hlkURm0bw+lwgUDd5hl85j/sYx/tZ7Vo6J8RfCnibUX0/SPE+jarfpnda2OoRTSrjrlVYkdD+VAHRUVi61408PeG5pYdW17TNLmit/tckd7eRwskO8J5pDMMJuIXd0yQOtGqeNvDuiaPbatqOv6XYaVcqrwX11eRxwSqwypV2YKwIIIweRQBtUVmWvibR77Rf7ZttWsbjSNpf+0IrlGt9o6t5gO3A9c1hzfFrwefDWra5ZeKND1Cw0xA1xPBqULRRs3CI7hiELN8oz1J4zQB19Fef/Bv4zaJ8YvClhqVldWEOqzW4nutGgv0uJ7PLFcSAYYdOpUda9AoAK8v8Enb8d/iif8Ap00b/wBF3FeoV5d4K/5Lt8UP+vTRv/RdxXbh/wCHW/wr/wBLic9X4qfr/wC2s7m6uG/tDjp5X9apzNLIcIMn61Pc/wDIQ/7Zf1pkX+u/Cs4pWLb1Mi5tbtskJ/48Ky7jTb1snyx/30K6uToaqydDW0WZs4u40e/bOIh/32KzbjQdSbP7of8AfY/xrupO9VJOhrojIycTz248O6o2cQr/AN/B/jWbceFdWbP7hf8Av4v+Neky96rTV0Rl5GTieXzeEdYb/lgv/fxf8azp/Bustn/R1/7+L/jXq0naqkneuiM/IzcTx+68E619oT/R0zg/8tV/xqpN4F1xv+XdP+/q/wCNet3H/HzH9D/SoZP6V0RqeRk4njk/gHXf+fdP+/q/41Qm+H+vf8+8f/f1f8a9nm7VUm/rXRGfkZOPmeKzfD3XucW8f/f1f8apTfDrX/8An2j/AO/y/wCNe2S96qTf0reM/IzcfM8Rm+HHiDtbR/8Af5f8apTfDXxCeltH/wB/l/xr3GSqr9K3jPyM3HzPC5fhn4iJP+jR/wDf5f8AGqknwz8Q9BbR/wDf5f8AGvdZO9VJOprZS8jNx8zwib4ZeIdy5t4sk/8APZaryfDHxD/z7xf9/l/xr3G4/wBZH9ahk61rGXkZNeZ4VL8MfEP/AD7xD/tstVpPhj4g/wCfeL/v8te5y1VlrdNdiGeGyfDLX/8AnhF/3+Wqz/DPXu8EX/f0V7hNVOStlbsZu54pJ8Ndd7wwj/tqKrv8N9c7xQ/9/RXtE1VJetaxS7GbbPHG+HWtD/lnD/39FQN8PNZ7pD/38FevydqqSVsoR7EOTPJX+H+rjqsP/fyo28BaqvUQ/wDfz/61epzd6qzd61VOJHPI8wbwNqY6iH/vv/61MbwTqI6mH/vv/wCtXo8nQfSqsnatVRgR7SR583g6/wC5hA/3z/hTP+ERvf78P/fR/wAK7mTpVZvvGtVh4Ml1ZI4//hEb3+/D/wB9H/Cj/hEb3+/D/wB9H/Cuwoqvq1MXtpHH/wDCI3v9+H/vo/4Uf8Ije/34f++j/hXYUUfVqYe2kcf/AMIje/34f++j/hR/wiN7/fh/76P+FdhRR9Wph7aRx/8AwiN7/fh/76P+FH/CI3v9+H/vo/4V2FFH1amHtpHH/wDCI3v9+H/vo/4Uf8Ije/34f++j/hXYUUfVqYe2kcf/AMIje/34f++j/hR/wiN7/fh/76P+FdhRR9Wph7aRx/8AwiN7/fh/76P+FH/CI3v9+H/vo/4V2FFH1amHtpHH/wDCI3v9+H/vo/4Uf8Ije/34f++j/hXYUUfVqYe2kcf/AMIje/34f++j/hR/wiN7/fh/76P+FdhRR9Wph7aRx/8AwiN7/fh/76P+FH/CI3v9+H/vo/4V2FFH1amHtpHH/wDCI3v9+H/vo/4Uf8Ije/34f++j/hXYUUfVqYe2kcf/AMIje/34f++j/hR/wiN7/fh/76P+FdhRR9Wph7aRx/8AwiN7/fh/76P+FH/CI3v9+H/vo/4V2FFH1amHtpHH/wDCI3v9+H/vo/4Uf8Ije/34f++j/hXYUUfVqYe2kcf/AMIje/34f++j/hR/wiN7/fh/76P+FdhRR9Wph7aRx/8AwiN7/fh/76P+FH/CI3v9+H/vo/4V2FFH1amHtpHH/wDCI3v9+H/vo/4Uf8Ije/34f++j/hXYUUfVqYe2kcf/AMIje/34f++j/hUN54bu7K1muHaIpEhchWOcAZ9K7as/xB/yA9Q/64P/ACNRLDwUW0ONWTaR5/4Zu3ufF2iZ4X7dBhf+2i1+6FfhR4Q/5GzRP+v6D/0Ytfs1dfG7wtYa1Z6XeLr1lc3l8mm28l14a1KGCW4dtqos7W4jIJB+bdtwCc45r8yzxtypt+f6H2GXbS+R3tFctoHxO8L+KfFGp+HdI1eLUNW02MS3UdujtGi72jOJcbGIdGVlViVZSCAQak8YfETQvAs2nwarNdNeagZBa2en6fcX1zMEAMjLDbxu+1Qy5bbtG5QTlhn5Y9g6WiuDuvjj4Mt9N0i9i1O41KLVrVr60i0nTbq/na3UqHlaGCJ5I1VmVWLqu1jtOG4qhJ+0B4Zl1zSrHT473WLG/Swc6xYrG1nb/bXdLTzC0iufMaNh8iNtJG7bkUAel0Vh+GfF1p4tk1Q6fDcNZ2N29kL6RQIbmROJfKOcsEcNGWIA3IwGcZrcoAKr2H/Hqn1b+ZqxVew/49U+rfzNAFiiiigAooooAKKKKAKWk/8AHq//AF8T/wDo16u1Q0VBHYlBkhZ5gNxJP+tbqTyav0AFFFFABRRRQBz/AMQv+RB8Tf8AYMuf/RTV8cXHhfX9L/Z7+G/iPxB4iuvEvw2gayk1bwv9njt1itmYBW8yMB5VR9p2ueeDnvX2/qGnwatp9zZXUfm2tzE0MseSNyMCGGRyOCelYS/Dnw4vgL/hC/7NVvDP2T7D9gaV2Hk4xt3lt/45yOuaAPMvjNrum6n4+8D+HtK8I6T4v8UXVtc3WmT6xcbNPsoCE3ykBWEhIQY2qSAMgjPPn3w+tLzS7X9pWwvLXR7CaGzR5LPw/Iz2MUrWEpfy9yqQSQNwwMMCO1e9eIvgj4K8WaLoml6pogubXRYVt9PdbmaOe3jVQoVZkcSdFAOWOcc5p3hv4K+C/CGl63p2j6HHYWWtQC21CKOeUidAjJySxIJV2ywwSTkknmgD5v8AH3w/8OeE/wBhvSNf0vR7S21yDT9H1aPUljH2gXMktuXfzPvHiRgBnAGAOgr0W60nT/Ff7YV9Z+JbS3v4bDwtHLo9pexh4zvmxNIqMMFs5XPoPbj1nV/hj4Z174fx+CL/AEz7R4Xjt4LRbAzyriKEoYl3hg/ymNOd2TjnPNQePPhF4R+Jk1lN4j0db65st32e5jnlt5oweqiSJlbaf7uce1AHzHaw2vgm8/apTwEkdtb2dlp5gXT2ysDG3mNxswfl2MZeB93bgYxiuh+I/gPwJo/7HMGp6fY6daz22lWl3YarAii4N2SjBhKMMXZyQee544xXv3hD4T+EfAUmptoGh2+mjU4oYLuOMsY5UiVlQFGJUcO+cD5txJya57S/2Z/hpourW+o2nhaFJ7eb7RDE9zPJbxSZzuSBnManPotAHA/FHw5B44+IX7P2m+KrP7aLgX017a3C4DypYrIVdfTeoyp4PIIxWfpPw18LXH7ZGu2smg2Jsbfw5BqEdl5IFuLjzBF5vlfcLBGYAkcZJ6819B6r4P0jWvEGh65e2nnapojTNYT+Y6+SZY/Lk+UEK2V4+YHHbBqOHwPolv40ufFkdjt8QXFmthLeea/zQK24Js3bRzzkDPvQB5H+y3Gmmar8WdGtEW30uw8XXS2lpGoEcCkLlUHZeBwOB2qP9pTR38QfED4P6dHqN7pD3Gr3Ki9051S4i/0cnKMysAeMcg9a9g8NeB9E8H3mtXWkWP2SfWbxr++fzXfzp2GC+GY7enRcD2p2ueC9G8SavomqalZ/ab7RZ2uLCXzXXyZGXazYVgG44wwIoA8D/aK8J6j8PfgXrcQ8W+I9estSvrG31C51m5jka1tTMFk2MkabQ25VbOc5Ap/7Rvg3wz4P8J+BL/wppljpOv22v6fBo0ulwqs0oZtpjUry6lOSDnOB619D6xo1j4h0q60zU7SG+0+6jMU9tOgZJFPUEGuH8J/s9/D7wTrVtq2keHUhv7UEW0txdT3At89fKWV2Ef8AwECgDg/GXgfRPHX7XmiQa7YRana2Hg+S+itrhQ8TSi9CKXU8MAJCcHuAe1cr400PW9U/akGjaRonha8ttH8Mw/2NpniPzIrOGEvtkeCOONgWBGzoMKuO1fSR8H6Q3jBfFJtP+J8tgdMF35j/APHsZBIU2Z2/fAOcZ7ZxWT48+EvhL4mNZyeJNGjv57Mn7PcpLJBPFnqFljZXAPpnFAHh1j+zf4j1jwb8SPD99f8Ah3RX1q/s9Ss9K0OSSaytJY8M6SRvGhCSlVJAHv2weh8F69b3z+OvBHiLwJofh3xPY6Ul1dtpEccllfwgP5Tj5Qw2sSQr5IySMV3sfwB8Aw+F7jw9H4fRNLuLhbuZVuZhNJMowsjTb/MLAZwS3c1q+BfhR4U+GyXo8PaQlk96QbmaSaSeWbGcBpJWZiBk8ZxzQBxH7JWk6fa/Abwde29lbRXlxY4muIolWSTEjcMwGTjHevZK4zwL8HfCHw0vry78NaR/Zct2CsirczSRgFtxCI7lUGecKBXZ0AFeXeCv+S7fFD/r00b/ANF3Feo15d4J/wCS7fFD/r00b/0XcV24f+HW/wAK/wDS4nNV+Kn6/wDtrO0uf+Qh/wBsv60yL/XfhU1xE7ahwjH916e9MWGVZMmKTGP7hNZxehb3GSdDVWToatyK/wDzylP/AGzb/CqskcvP7ic/9sX/AMK0iSylJ3qpJ0NXZIZv+fa5/wC/D/4VUkhn5/0S6/8AAaT/AOJraJmylL3qtNVyW3uef9CvD/26yf8AxNVpLW6PSxvT/wBukv8A8TXREyZRk7VUk71fktLvj/iX3/8A4By//E1Vksb3n/iW6h/4BS//ABNbxaIZlXH/AB8x/Q/0qGT+lXLjT777TH/xLNR6H/lxm9v9mopNN1D/AKBWp/8AgBN/8TW8WjJpmbN2qpN/WtSXS9SbppGqH/uHzf8AxFVZdJ1Rumjaqef+gdP/APEV0Rku5m0zKl71Um/pWtJo2qnONF1b/wAFs/8A8RVWTQ9XPTQ9XP8A3DZ//iK3jKPczaZkyVVfpWvJoOs/9AHWP/BZcf8AxFVn8Pa1j/kAa1/4K7j/AOIreM49zNp9jHk71Uk6mtuTw3rnP/FPa1/4K7j/AOIqrJ4Z17/oXdc/8FVx/wDEVspx7mbi+xgXH+sj+tQyda2Ljwvr/mR/8U5rnX/oFXH/AMRUUnhPxCTx4a13/wAFNz/8RWqqR7mTjLsYMtVZa35PCPiM9PDGvf8Agpuf/iKrSeDfEp6eF9f/APBRc/8AxFbxqQ7ozcZdjnpqpyV0kngnxOenhXxB/wCCi5/+IqtJ4F8Unp4U8Qf+Ci5/+IrdVIfzIzcJdjmZqqS9a6iTwD4rbp4S8Qn/ALhFz/8AEVVk+Hvi0njwj4h/8FFz/wDEVtGrT/mX3mThLsctJ2qpJXWSfDnxef8AmUPEX/gnuf8A4iq0nw18Ynp4O8Rf+Ce5/wDiK3Van/MvvIdOfZnIzd6qzd666b4Z+Mu/g7xEMnAzpFz/APEVBJ8LfGzZx4M8R/8Agnuf/iK2Vel/MvvM3Tn/ACs42ToPpVWTtXZyfCnxw3TwV4k6f9Ai4/8AiKgk+EnjpsY8E+JP/BRcf/EVuq9L+dfejL2dT+V/ccRJ0qs33jXbv8H/AB6Rx4I8Sf8AgouP/iKgPwb8f5P/ABQ/iT/wUXH/AMRW0cRR/nX3ol0qn8r+44+iuw/4U34//wChH8Sf+Ci4/wDiKP8AhTfj/wD6EfxJ/wCCi4/+Iq/rFH+dfeifZVP5X9xx9Fdh/wAKb8f/APQj+JP/AAUXH/xFH/Cm/H//AEI/iT/wUXH/AMRR9Yo/zr70Hsqn8r+44+iuvb4O+PVGW8EeIwPfSbj/AOIpf+FN+P8A/oR/En/gouP/AIij6xR/nX3oPZVP5X9xx9Fdh/wpvx//ANCP4k/8FFx/8RR/wpvx/wD9CP4k/wDBRcf/ABFH1ij/ADr70Hsqn8r+44+iuw/4U34//wChH8Sf+Ci4/wDiKP8AhTfj/wD6EfxJ/wCCi4/+Io+sUf5196D2VT+V/ccfRXYf8Kb8f/8AQj+JP/BRcf8AxFH/AApvx/8A9CP4k/8ABRcf/EUfWKP86+9B7Kp/K/uOPorsP+FN+P8A/oR/En/gouP/AIij/hTfj/8A6EfxJ/4KLj/4ij6xR/nX3oPZVP5X9xx9Fde3wd8fKpLeCPEYHqdJuP8A4il/4U34/wD+hH8Sf+Ci4/8AiKPrFH+dfeg9lU/lf3HH0V2H/Cm/H/8A0I/iT/wUXH/xFH/Cm/H/AP0I/iT/AMFFx/8AEUfWKP8AOvvQeyqfyv7jj6K7D/hTfj//AKEfxJ/4KLj/AOIo/wCFN+P/APoR/En/AIKLj/4ij6xR/nX3oPZVP5X9xx9Fdh/wpvx//wBCP4k/8FFx/wDEUf8ACm/H/wD0I/iT/wAFFx/8RR9Yo/zr70Hsqn8r+44+iuw/4U34/wD+hH8Sf+Ci4/8AiKP+FN+P/wDoR/En/gouP/iKPrFH+dfeg9lU/lf3HH0V15+Dvj5QSfA/iQAdT/ZNx/8AEUD4OePiMjwP4kI/7BNx/wDEUfWKP86+9B7Kp/K/uOQorsP+FN+P/wDoR/En/gouP/iKP+FN+P8A/oR/En/gouP/AIij6xR/nX3oPZVP5X9xx9Fdh/wpvx//ANCP4k/8FFx/8RR/wpvx/wD9CP4k/wDBRcf/ABFH1ij/ADr70Hsqn8r+44+iuw/4U34//wChH8Sf+Ci4/wDiKP8AhTfj/wD6EfxJ/wCCi4/+Io+sUf5196D2VT+V/ccfRXYf8Kb8f/8AQj+JP/BRcf8AxFH/AApvx/8A9CP4k/8ABRcf/EUfWKP86+9B7Kp/K/uOPrP8Qf8AID1D/rg/8jXf/wDCm/H3/Qj+JP8AwUXH/wARVXUvgl8QtR024t7fwN4ieWeNo0zpc6qSRgZYrgD3JxWdTEUeR++vvRUaVTmXuv7jwPwh/wAjZon/AF/Qf+jFr9hbrR77xx8eILm+sbmDw54NtBJZtcwMkV5qVypBljJGJFhgyu4Hh52HVTXiv7MH7B2lfDdrTxL47W31zxOuJYNP2h7SxbnB54lkHB3EYU9ASA1fXlfkmaYqniZxVPVRvqfcYKjKlFufU8T0vxNFdftOahdLpPiJLGbw/b6Ql9N4dv47Y3Md3cO6+c0IQLtZSJC2w5GGNYXxL1i58da14H1iXRvGvg7S1ttTU61pej3E2s2cpdIvs7QxLKI4pVQyb3ikB2RFfLYBh9E0V4Z6J8h2uh67HoXw/h1bSfEHw/ig8OXttFrnhDRry5v8vNsSCeKPz3h8yLyrhvOVpBKW2yxyIxbqNP8AhjL4k8H/AA/tv+ESufB/i+506CK5udPe4gtNItLZiUZovNaN7lRMfJWUyPHJKz5PlMa+lKKAPDf2d7jxVZ6hqGialZ6jZ6Hp9oIks73S1s7fT7lbmZBb2cgjQ3EHkrEwkLS5yCZMsRXuVFFABVew/wCPVPq38zViq9h/x6p9W/maALFFFFABRRRQAUUUUAUtJ/49X/6+J/8A0a9XapaT/wAer/8AXxP/AOjXq7QAUUUUAFFFFABRRRQAUUUUAFFFFABRRRQAUUUUAFFFFABRRRQAUUUUAFFFFABRRRQAV5h4H/5Lx8UP+vTRv/RdxXp9eYeB/wDkvHxQ/wCvTRv/AEXcV24f+HW/wr/0uJz1fjp+v/trPR/+YgP+uR/mKsVX/wCYgP8Arkf5irFcR0BRRRQAUUUUAFFFFABRRRQBWl/4/YPo39Ks1Wl/4/YPo39Ks0AFFFFABRRRQAUUUUAFFFFAFa5/4+Lb/eP8qs1Wuf8Aj4tv94/yqzQAUUUUAFFFFABRRRQAUUUUAVrz/lh/11X+tWarXn/LD/rqv9as0AFFFFABRRRQAUUUUAFFFFAFe+/1I/3l/nViq99/qR/vL/OrFABRRRQAUUUUAFFFFABRRRQBXvv+POX6VPUF9/x5y/Sp6AFooooAKKKKACiiigAooooAiuv+PaX/AHD/ACpYP9TH/uj+VJdf8e0v+4f5UsH+pj/3R/KgCSiiigAooooAKKKKACiiigBsn+rb6VFZf8ekX+7Usn+rb6VFZf8AHpF/u0AT0UUUAFFFFABRRRQAUUUUAFV7D/j1T6t/M1YqvYf8eqfVv5mgCxRRRQAUUUUAFFFFAFDRUEdiUGSFnmA3Ek/61upPJq/VLSf+PV/+vif/ANGvV2gAooooAKKKKACiiigAooooAKKKKACiiigAooooAKKKKACiiigAooooAKKKKACiiigArzDwP/yXj4of9emjf+i7ivT68w8D/wDJePih/wBemjf+i7iu3D/w63+Ff+lxOer8dP1/9tZ6P/zEB/1yP8xViqx/5CA/65H+dTNNGvV1H1IriOgfRULXluvWeMfVxTG1OzXrdwD6yL/jTswLNFUzrFgvW+th/wBtl/xph17TF66jaD/tuv8AjT5X2FdF+is4+JNJXrqlkP8At4T/ABph8VaKvXV7Af8Abyn+NHLLsF0alFZB8XaEvXWtOH/b3H/jTT408Pr113TR/wBvkf8AjT5Zdhcy7mhL/wAfsH0b+lWa5ybxt4d+1wt/b2l7QGyftkeB/wCPVKfHvhleviLSR/2/Rf8AxVHJLsHMu5vUVz5+IXhYdfEujj/t/i/+Kpp+I3hMdfE+jD/uIRf/ABVP2c+zDmj3Oiormz8SvCK9fFWij/uIw/8AxVNPxO8HDr4s0Mf9xKH/AOKo9nP+VhzR7nTUVy//AAtLwYOvi7QR/wBxKH/4qkPxV8FL18YaCP8AuJwf/FUezn/Kxc8e51NFcofiz4HHXxl4fH/cUg/+Lpv/AAtzwKP+Z08Pf+DWD/4un7Kp/K/uDnj3Okuf+Pi2/wB4/wAqs1xVx8XPApmgI8aeHiFJJP8AasHHH+/Uv/C4vAI6+N/Df/g2t/8A4uj2VT+V/cHPHudhRXHf8Lk8Af8AQ8+G/wDwb2//AMXSf8Lo+Hw6+O/DQ/7i9v8A/F0exqfyv7g549zsqK4z/hdXw9/6Hzwz/wCDi3/+LpP+F2fDv/offDH/AIOLf/4uj2NT+V/cHtIdztKK4r/hd3w6/wCh+8L/APg5tv8A4uk/4Xh8Of8Aof8Awv8A+Dm2/wDi6fsav8r+4PaQ7nbUVxH/AAvH4cf9FA8Lf+Dq2/8Ai6P+F5fDf/ooPhb/AMHVt/8AF0exq/yv7he0h3R115/yw/66r/WrNcDdfHD4cyGEJ4/8LsRICdus2xwADk/fqb/hevw2/wCiheFf/B1bf/F0exq/yv7g9pDujuKK4b/he3w1/wCiheFf/B3bf/F0f8L2+Gv/AEUPwp/4O7b/AOLo9jV/lf3B7SHdHc0Vw3/C9/hr/wBFD8Kf+Du2/wDi6T/hfHw0/wCih+FP/B3bf/F0exq/yv7g9pDujuqK4X/hfHw0/wCih+FP/B3bf/F0f8L4+Gn/AEUPwp/4O7b/AOLo9jV/lf3B7SHdHdUVwv8Awvj4af8ARQ/Cn/g7tv8A4uj/AIXx8NP+ih+FP/B3bf8AxdHsav8AK/uD2kO6Oyvv9SP95f51YrgLn45fDiaMJH8QPC0jlh8q61bE9f8AfqX/AIXx8NP+ih+FP/B3bf8AxdHsav8AK/uD2kO6O6orhf8AhfHw0/6KH4U/8Hdt/wDF0f8AC+Php/0UPwp/4O7b/wCLo9jV/lf3B7SHdHdUVwv/AAvj4af9FD8Kf+Du2/8Ai6P+F8fDT/oofhT/AMHdt/8AF0exq/yv7g9pDujuqK4X/hfHw0/6KH4U/wDB3bf/ABdH/C+Php/0UPwp/wCDu2/+Lo9jV/lf3B7SHdHdUVwv/C+Php/0UPwp/wCDu2/+Lo/4Xx8NP+ih+FP/AAd23/xdHsav8r+4PaQ7o7K+/wCPOX6VPXA3fx0+G0tu6J8QfCruwwFXWrYk/wDj9S/8L4+Gn/RQ/Cn/AIO7b/4uj2NX+V/cHtId0d1RXC/8L4+Gn/RQ/Cn/AIO7b/4uj/hfHw0/6KH4U/8AB3bf/F0exq/yv7g9pDujuqK4X/hfHw0/6KH4U/8AB3bf/F0f8L4+Gn/RQ/Cn/g7tv/i6PY1f5X9we0h3R3VFcL/wvj4af9FD8Kf+Du2/+Lo/4Xx8NP8AoofhT/wd23/xdHsav8r+4PaQ7o7qiuF/4Xx8NP8AoofhT/wd23/xdH/C+Php/wBFD8Kf+Du2/wDi6PY1f5X9we0h3R2t1/x7S/7h/lSwf6mP/dH8q4af46fDaSGRV+IXhVmZSAq61bEk46ffpY/jr8No41VviF4VVlABU61bAg/990exq/yv7g9pDujvKK4X/hfHw0/6KH4U/wDB3bf/ABdH/C+Php/0UPwp/wCDu2/+Lo9jV/lf3B7SHdHdUVwv/C+Php/0UPwp/wCDu2/+Lo/4Xx8NP+ih+FP/AAd23/xdHsav8r+4PaQ7o7qiuF/4Xx8NP+ih+FP/AAd23/xdH/C+Php/0UPwp/4O7b/4uj2NX+V/cHtId0d1RXC/8L4+Gn/RQ/Cn/g7tv/i6P+F8fDT/AKKH4U/8Hdt/8XR7Gr/K/uD2kO6O4k/1bfSorL/j0i/3a4t/jv8ADTY3/Fw/CnT/AKDdt/8AF1Ha/HT4bR26I/xB8Ko6jBVtatgR/wCP0exq/wAr+4PaQ7o7+iuF/wCF8fDT/oofhT/wd23/AMXXSeG/F2h+MrGS98P61p+u2ccphe4026juI1kADFCyEgNhlOOuGHrUypziryi0Upxloma1FFFZlBRRRQAUUUUAFV7D/j1T6t/M1YqvYf8AHqn1b+ZoAsUUUUAFFFFABRRRQBS0n/j1f/r4n/8ARr1dqhoqCOxKDJCzzAbiSf8AWt1J5NX6ACiiigAooooAKK8Z+JX7R0Hwz+Lug+DbzQnn0/Ube3nuNaW62i086eSFN0Ww5XdGMtuGN3Tjn0fx94zsfh54L1nxJqRP2PTbZ7h1U4LkD5UHuzYUe5FAG/RXm/wH+L0vxq8G3Wtz6G3h64tdQm0+Wxe588q0YUk7ti/3sYx2r0igAorzzSviJqV98ddd8FyQWo0ux0a31GKZUbzzI8hUhju27cDjCg+9a/hj4h2vjS18Uto1lcSXWg6lcaRJBdFYhNcRIrHYwLYQ71AY4PXIoA6yisPwTqWuat4V0+78SaRHoWtyoTc6dHcLOsLbiAA68NkAHj1xW5QAUUUUAFFFFABRXOeB9W8Raxp97L4l0GPw9dx3ssVvbx3a3IktwR5cpZeAWGfl6jHQV0dABRXnnwR+ImpfErw3q+oanBawTWms3mnRraIyqY4ZNqk7mb5iOvOPYVifHj9oaD4F6t4TgvNDm1Sx1mSc3V1DPtayhiMIeTZsPmYE2cZX7vXngA9eorg/iN8VYPAdr4MuYLJdXg8S69ZaLHJHcbFjW4DETg7W3gBfu8Zz1FY/jb4ueJNH+KCeCvDPgyDxLeDR01iWa41gWQSNp3h2gGJ8kFAev8XTigD1SiuA+EvxYX4m2+t29zpE+ga7od61hqWmzSrMIpByCsi8OpHcAdPoT39ABXl/gk4+PHxQ/wCvTRv/AEXcV6hXl3gr/ku3xQ/69NG/9F3FduH/AIdb/Cv/AEuJz1fip+v/ALazurq5b+0OBx5X9apXEkjnCgk1Pc/8hD/tl/WmR/64fSs4xVi29TIuYbps/umNZVxZ3jf8smzXWSdDVWToa2izNnE3Gn3zZxA1ZlxpOoNn/R2rvZO9VZehrojIyaPObnRdS5xbN+YrMuNA1Q/8urfmK9Om71Uk710Rl5GTieVz+HdVbP8Aoj/pWdceGdXOf9Db8xXrcnSqk3euiM/IzcTxq68K6x9oT/Q26HuKpzeEtab/AJcn/MV7Dc/8fEf+61Qydq6Iz8jFxPFpvB+tnpZP+YqhN4N1znFi/wCYr26Sqk3euiM/IzcfM8Om8F672sX/ADFUZvBOu9rF8fUV7rJ3qpJW8Z+Rm4nhE3gfXu1g/wCYqlN4F1/n/QH/ADFe8yVUfv8AWtoy8jNx8zwObwH4gP8Ay4N+YqpJ4B18f8uD/mK9+k61Uk61vGS7GfKfP8/gHX9y5sG/76FV5PAPiD/nwb8xXvVx/rI/qahmrVSXYyaZ4DL4B8Qf8+Df99Cqsnw/1/8A58G/76Fe+zVVl61umuxDueCSeAdf/wCfFv8AvoVXfwDr3/Pi3/fQr3iaqkvetVbsZu54VJ4D10f8uR/76FQP4E1z/nzP/fQr3GbvVOT+lbRjEhtnijeBdaGf9E/8eFQv4H1rva/+PCvZpPumqsn3j9a1UIsjmZ46/gnWB/y7Y/4EKjbwXq6/8u4/76FetzfeFVZK1VKLM+dnlLeDtV/54Af8CFRnwjqY/wCWK/8AfQr0+T+tVJO9aKhBkurI84bwnqQ/5ZKP+BimHwvqA6xr/wB9ivQZetVZPvVrHDQZPtZHEf8ACL3/APzzX/vsUf8ACL3/APzzX/vsV2tFX9VgL20jiv8AhF7/AP55r/32KP8AhF7/AP55r/32K7Wij6rAPbSOK/4Re/8A+ea/99ij/hF7/wD55r/32K7Wij6rAPbSOK/4Re//AOea/wDfYo/4Re//AOea/wDfYrtaKPqsA9tI4r/hF7//AJ5r/wB9ij/hF7//AJ5r/wB9iu1oo+qwD20jiv8AhF7/AP55r/32KP8AhF7/AP55r/32K7Wij6rAPbSOK/4Re/8A+ea/99ij/hF7/wD55r/32K7Wij6rAPbSOK/4Re//AOea/wDfYo/4Re//AOea/wDfYrtaKPqsA9tI4r/hF7//AJ5r/wB9ij/hF7//AJ5r/wB9iu1oo+qwD20jiv8AhF7/AP55r/32KP8AhF7/AP55r/32K7Wij6rAPbSOK/4Re/8A+ea/99ij/hF7/wD55r/32K7Wij6rAPbSOK/4Re//AOea/wDfYo/4Re//AOea/wDfYrtaKPqsA9tI4r/hF7//AJ5r/wB9ij/hF7//AJ5r/wB9iu1oo+qwD20jiv8AhF7/AP55r/32KP8AhF7/AP55r/32K7Wij6rAPbSOK/4Re/8A+ea/99ij/hF7/wD55r/32K7Wij6rAPbSOK/4Re//AOea/wDfYo/4Re//AOea/wDfYrtaKPqsA9tI4r/hF7//AJ5r/wB9ij/hF7//AJ5r/wB9iu1oo+qwD20jiv8AhF7/AP55r/32KP8AhF7/AP55r/32K7Wij6rAPbSPLNakm0u5a1ZdsqgEnOcZGeK/Rr/gmWxb4D6+Scn/AISW4/8ASW1r86fHH/Ix3H+6n/oIr73/AOCenxA8L+A/gLqreJfEmkeHVuvE10IDq1/FaiXba2m7Z5jDdjcucdMj1r4fPdKMo9mfRZbrUT8j7YorkJvjF4CtdDttam8b+HItHuZWgg1B9Wt1t5ZF+8iyF9rMO4ByK6u3uIrqCOaGRZoZFDpJGwZWUjIII6givz8+mJKKwPCnxA8L+PFuW8NeJNI8RLalROdJv4roRbs7d/lsdudrYz1wfSs2L4yeBrvw/qmt2PizSdX0vSwpvJ9Ju0vfKLHCKVhLMWY8KoBZjwATQB2NFcrp/wAUPDWq6bpN7bag7x6rfPptpC1rMlw9yhcSRNCyCRGTypC4dRsCMWwATXVUAFV7D/j1T6t/M1YqvYf8eqfVv5mgCxRRRQAUUUUAFFFFAFLSf+PV/wDr4n/9GvV2qWk/8er/APXxP/6NertABRRRQAUUUUAfNPxe8Ax/E747eKvDbgedefDpPsznA2XC6hI0TZ7YdV/DNYml/ECT9orT/hV4LmBlud39q+LImzlFsn8vy5PQSzgH8ua+jF8A6evxJfxsJrn+1X0ldGMO5fI8kTNMGxt3b9zEZ3Yx271j+Bfgp4b+HnjTxX4o0mOcan4jmE10JnUxxHczMIgFBUMzFjknnHTGKAPnnwv/AMmo/HD/ALDWsf8AtOur/aFkH/DN3gIq3DX2i4IPXhTXrvhf4M+HvC3hPxF4bQXOoaVr13dXd7FfOrEm4AEiKVVcLgcdx61xMn7I3he802w0+/8AEXirVLTTZI306G+1JJEsQjhgsS+XgAhQuSCdvAIoATS7ODUv2rvG1pcxia2uPCdrFLG3RlaVwR+INcZ8DPhN4Q0xfitrFroVtDqei+I9W0/T7ld263txbRqI156Ykcc/3jXvln8O9OsfiNqPjSOe6OqX1hFp0sLOvkCNGLAqNu7dk85Yj2rn7H4F6TpfjLWdfsNb16xj1iSWe+0eG7UWE00kRjaUxlCd2Dn72MhTjigDwDW4Wuf2E/BEKSvbvJc2CCaM4ZCbvG4e46113i74f6L8E/i/8JrzwnFcWFzrGozabqksl1JK2oRtGOZi5O9g2WB9T7DHqM3wF8Pz/CvSPADXmpDRtMlhlhnEsf2hjFL5i7m8vaRnrhRx6Vu+MvhrpfjjXvC2r3813Fc+Hbw31otu6qjuV24kBUkr9CD70AeL+A/h7ofx78a/EzWfHdu+uyaV4iuNB07T7iaRIrK2gC7XjVWGGcsTu68Eg8mvOvEFxfXP7Nvizw9Nq9xfW+gePl0PTtQaQvMLaO4hMZ3nqV3kA+wHavonxD+z/pOreKdT1/S/EPiTwhf6qF/tAeHb9beO7ZRgO6sjAPj+JcHknOSTVi8+APhS4+G9n4Ito7rTdGtrqK832sq+fLMkgk3u7q24sw+YkewxxgA8U+J/wY0HwP8AFT4ZaT4duNV0SDxRLdadrktpqMom1GFFSQiVySSWOQSMZDH2x1nwq0Gx+G/7Tni3wf4dibTvDU3h+31P+zVld4kuPNCF1DE7cg8+tet+LPhrpfjHxV4U8QXs11He+G55rizSB1EbtIgRhICpJGAMYI59aLX4a6XZ/E698dJNdHV7vTU0uSFnXyBEr7wwXbu3ZHXdjHagD5y8J6roOm/AjXofEDazLbX/AI4vLKDTtBlMd1qM7znZaggg7XwcgEZA69jd+EVjN4N/aQsdLsPBV38OtL1Tw/PNPpEmox3Ud06Srsn2o7BHAJXnB6+pz6zN+zn4XuPBNz4ae51T7PJrD69Bepcql1aXjOWEkTqoC7ckDIPBPXrUvhH4BaT4U8cQeL31/wAQ69r8drJZm61i9WbfG5U4ICKBt28bcD5jnNAGD+yd/wAiL4k/7GjVP/R1RfGfRLLxL8dvhLpOpQLdaffWPiC3uIX6OjWsIYfka9I+Hvw7074a6Tfafpk91PDd38+oyNdurMJJm3MBtVflB6cZ9zUmueAdP1/xt4Y8UXE1ymoeH0u0tY42UROLhER94KknAQYwR1Oc0AfImpa1feF7jwD8J9emabVfCnxF0c6fcSHJu9McymBx7oCEPp8o7GvWvGej+JNa/axaLwz4jg8NXi+CYWkubjTReh0+3yjYELpg5IOc9sd69D+IHwL8NfEjxr4U8Van9rg1jw5cJcWstpIqiXZIJFSUFTuUMM8YPzHnmovG3wRtPGXjePxXD4o8R+G9XXTl0tn0O5hiV4FlaUBt8TnO5z37DigDg/2cft/g74k/EbwT4hMOp+JvPi1u41+3BVb9Jhxuj6RlOAFXjk+mT9CVxXw5+EujfDWTVLqynv8AVNX1R1kv9X1a48+7uSowoZsAAAZwFAAzXa0AFeXeCv8Aku3xQ/69NG/9F3Feo15d4J/5Lt8UP+vTRv8A0XcV24f+HW/wr/0uJzVfip+v/trO0uf+Qh/2y/rTI/8AXD6VLcRt/aH3T/qvT3qNY3WUEowGPQ1Edi3uJJ0NVZOhq1JnH3W/75NVZM4PyN/3yauJLKcneqsvQ1akDc/I/wD3waqyhsH93J/3wf8ACt4mbKk3eqknercqvz+7k/79t/hVWRH/AOeUv/ftv8K6ImbKknSqk3erkkcmP9TN/wB+m/wqrLHIc4gm/wC/Tf4VtEyZm3P/AB8R/wC61QydqsXMMv2iP9xN0b/lk3+FRSQzf8+1x/35f/CuiJmylJVSbvV6S3n/AOfa4/78P/hVSW2uOf8ARbn/AL8P/hXRFmbKUneqklX5LW55/wBEuv8AwHf/AAqrJZ3X/Pndf+A7/wCFbRaM2Z8lVH7/AFrRksbv/nyu/wDwHf8AwqrJYXnP+g3fX/n3f/Ct4tGTM+TrVSTrWlJp95u/48bz/wABn/wqrJpl9/0D73/wGk/wrdSXcizMm4/1kf1NQzVfuNLv/Mj/AOJfe9T/AMusnp/u1FLpOof9A6+/8BZP/ia2Ul3MWmZU1VZetasmj6k3TTL4/wDbpJ/8TVaTRdTY8aXfn/t0k/8Aia3jKPczaZkTVUl71syaFqh/5hWof+Akn/xNVZPD+rf9AnUP/AST/wCJrZSj3MuV9jFm71Tk/pW5J4d1ds40jUT/ANucn/xNVJPDOs/9AbUun/PnL/8AE1vGce5DjLsYcn3TVWT7x+tbr+F9aIP/ABJtS/8AAOT/AOJqtJ4V1wscaJqR5/58pf8A4mt41IdzPll2MCb7wqrJW/N4T13I/wCJHqfX/nyl/wDiaryeD9fP/MB1T/wCl/8Aia2jUh3Rk4y7HOyf1qpJ3rpJPBfiH/oAap1/58pf/iarSeCPEZz/AMU/qv8A4Ay//E1vGpD+ZGbhLsc3L1qrJ96ulk8DeJCePD2rf+AMv/xNV5PAXiYtx4c1b/wBl/8Aia3jVp/zL7yXCXYwKK3f+EB8T/8AQuat/wCAMv8A8TR/wgPif/oXNW/8AZf/AImr9tT/AJl95HJPsYVFbv8AwgPif/oXNW/8AZf/AImj/hAfE/8A0Lmrf+AMv/xNHtqf8y+8OSfYwqK3T4D8TLyfDurAf9eMv/xNH/CA+J/+hc1b/wAAZf8A4mj21P8AmX3hyT7GFRW7/wAID4n/AOhc1b/wBl/+Jo/4QHxP/wBC5q3/AIAy/wDxNHtqf8y+8OSfYwqK3f8AhAfE/wD0Lmrf+AMv/wATR/wgPif/AKFzVv8AwBl/+Jo9tT/mX3hyT7GFRW7/AMID4n/6FzVv/AGX/wCJo/4QHxP/ANC5q3/gDL/8TR7an/MvvDkn2MKit3/hAfE//Quat/4Ay/8AxNH/AAgPif8A6FzVv/AGX/4mj21P+ZfeHJPsYVFbp8B+JlGT4d1YD/rxl/8AiaP+EB8T/wDQuat/4Ay//E0e2p/zL7w5JdjCord/4QHxP/0Lmrf+AMv/AMTR/wAID4n/AOhc1b/wBl/+Jo9tT/mX3hyT7GFRW7/wgPif/oXNW/8AAGX/AOJo/wCEB8T/APQuat/4Ay//ABNHtqf8y+8OSfYwqK3f+EB8T/8AQuat/wCAMv8A8TR/wgPif/oXNW/8AZf/AImj21P+ZfeHJPsYVFbv/CA+J/8AoXNW/wDAGX/4mj/hAfE//Quat/4Ay/8AxNHtqf8AMvvDkn2MKit3/hAvEw5PhzVgP+vGX/4mj/hAvE3/AELmrf8AgDL/APE0e2p/zL7w5J9jCord/wCEB8T/APQuat/4Ay//ABNH/CA+J/8AoXNW/wDAGX/4mj21P+ZfeHJPsYVFbv8AwgPif/oXNW/8AZf/AImj/hAfE/8A0Lmrf+AMv/xNHtqf8y+8OSfYwqK3f+EB8T/9C5q3/gDL/wDE0f8ACA+J/wDoXNW/8AZf/iaPbU/5l94ck+xhUVu/8ID4n/6FzVv/AABl/wDiaP8AhAfE/wD0Lmrf+AMv/wATR7an/MvvDkn2MKit3/hAfE//AELmrf8AgDL/APE0DwH4mYZHh3ViP+vGX/4mj21P+ZfeHJPseJ+OP+RjuP8AdT/0EV9wfsW+Opfh7+yR4s1CxjW41y58TyafpFqeftF9Nb2kcCY7jewJ/wBlWPavIvhn+xn4x+Nfjee41G3ufC3hiEoJ9RvLdlkl+XlIY2xvPGC33V9yNp/R/wCF/wALfDnwe8JW/hzwvYLY6dGxlck7pJ5CAGkkbqzkADPoABgAAfmue4ulJyoxd3c+ty2jNWqNWVjyzxZrnhj9nH4d+FfC9xc6NN4vvrS40+wvdenigheSZllvbm4mkwFhMuJZFHMhCqqs2AOl8E+Jfh/4F+HfhrwXH4ht/Emnw+HZZIZoIWvYr+ztUEdxIPKV0YZOPLBJOdoBxXrdFfFn0B8aeLL648cH4knw9rGk+PbuXwA9rHqHgqEw21nCk5K2LRLJMTNKryso84HEbKsa5Jbr9Wh8FfGj4mwT+Hdbs/8AhDrDwa8Wpaxos8Sw2O28t7iyQsVMcbxGCWQI4+VQcqA2D9OUUAfHH/CUat8LdW03xLDLA66xb3t/o0HieBjd3wku4DJDGsZhWO9vDOZcCNtiRxIIvlkr7HoooAKr2H/Hqn1b+ZqxVew/49U+rfzNAFiiiigAooooAKKKKAKGioI7EoMkLPMBuJJ/1rdSeTV+qWk/8er/APXxP/6NertABRRRQAUUUUAFFFFABRRRQAUUUUAFFFFABRRRQAUUUUAFFFFABRRRQAUUUUAFFFFABXmHgf8A5Lx8UP8Ar00b/wBF3Fen15h4H/5Lx8UP+vTRv/RdxXbh/wCHW/wr/wBLic9X46fr/wC2s9H/AOYgP+uR/mKsVX/5iA/65H+YqxXEdAUUUUAFFFFABRRRQAUUUUAVpf8Aj9g+jf0qzVaX/j9g+jf0qzQAUUUUAFFFFABRRRQAUUUUAVrn/j4tv94/yqzVa5/4+Lb/AHj/ACqzQAUUUUAFFFFABRRRQAUUUUAVrz/lh/11X+tWarXn/LD/AK6r/WrNABRRRQAUUUUAFFFFABRRRQBXvv8AUj/eX+dWKr33+pH+8v8AOrFABRRRQAUUUUAFFFFABRRRQBXvv+POX6VPUF9/x5y/Sp6AFooooAKKKKACiiigAooooAiuv+PaX/cP8qWD/Ux/7o/lSXX/AB7S/wC4f5UsH+pj/wB0fyoAkooooAKKKKACiiigAooooAbJ/q2+lRWX/HpF/u1LJ/q2+lRWX/HpF/u0AT0UUUAFFFFABRRRQAUUUUAFV7D/AI9U+rfzNWKr2H/Hqn1b+ZoAsUUUUAFFFFABRRRQBS0n/j1f/r4n/wDRr1dqhoqCOxKDJCzzAbiSf9a3Unk1foAKKKKACiiigAooooAKKKKACiiigAooooAKKKKACiiigAooooAKKKKACiiigAooooAK8w8D/wDJePih/wBemjf+i7ivT68w8D/8l4+KH/Xpo3/ou4rtw/8ADrf4V/6XE56vx0/X/wBtZ6P/AMxAf9cj/MVYquf+QgP+uR/mKmMijqyj8a4joHUVGbiIdZEH/AhTTeQDrNGP+BCmBNRVc39sOtxCP+BikOpWi9bqEf8AbQf40WYizRVT+1rEf8vlv/39X/GkOs6evW+th/22X/GizC6LlFUf7c03/oIWv/f5f8aT/hINL/6CVp/3/X/GnyvsF0TS/wDH7B9G/pVmsebX9MF1Ax1G0CgMC3nrjP51N/wk2j/9BWx/8CE/xo5X2C6NKisz/hKNGHXVrH/wJT/Gm/8ACVaIOusWA/7ek/xo5Zdg5katFZP/AAlmhjrrOn/+BUf+NJ/wmGg/9BvTv/AuP/Gjll2DmXc16Kx/+Ey0D/oOab/4Fx/403/hNPDw669pg/7fI/8A4qnyS7BzLubVFYv/AAm3h3/oP6X/AOBkf/xVJ/wnHhz/AKGDS/8AwNj/APiqOSXYXMu5pXP/AB8W3+8f5VZrnJ/G3h15oWXXtMZUbLMLyPC9ufm4qb/hPPDP/QxaT/4HRf8AxVHJLsHMu5u0Vg/8J94Y/wChj0n/AMDov/iqT/hYHhcf8zJpH/gdF/8AFUezn2Dmj3N+iuf/AOFheFv+hl0f/wAD4v8A4qj/AIWF4W/6GXR//A+L/wCKo9nPsHNHudBRXPf8LE8K/wDQzaP/AOB8X/xVH/CxPCn/AEM+jf8AgfF/8VR7OfYOaPc6Giud/wCFjeE/+ho0b/wYQ/8AxVH/AAsbwn/0NGi/+DCH/wCKp+zn2Yc0e5s3n/LD/rqv9as1y1z8Q/CsnlbPE2jttkDNtv4jgep+bpU3/CyPCP8A0NOi/wDgwh/+Ko9nPsw5o9zo6K5z/hZHhL/oadF/8GEP/wAVSf8ACyvCP/Q1aL/4MYf/AIqj2c+zDmj3Okorm/8AhZXhH/oatF/8GMP/AMVR/wALK8I/9DVon/gxh/8AiqPZz/lYc0e50lFc3/wsrwh/0NWif+DGH/4qj/hZXhD/AKGrRP8AwYw//FUezn/Kw5o9zpKK5v8A4WV4Q/6GrRP/AAYw/wDxVH/CyvCH/Q1aJ/4MYf8A4qj2c/5WHNHubl9/qR/vL/OrFctc/ETwpPCRH4m0eQqQxC38RwAck/e6VL/wsrwh/wBDVon/AIMYf/iqPZz7MOaPc6Siub/4WV4Q/wChq0T/AMGMP/xVH/CyvCH/AENWif8Agxh/+Ko9nP8AlYc0e50lFc3/AMLK8If9DVon/gxh/wDiqP8AhZXhD/oatE/8GMP/AMVR7Of8rDmj3Okorm/+FleEP+hq0T/wYw//ABVH/CyvCH/Q1aJ/4MYf/iqPZz/lYc0e50lFc3/wsrwh/wBDVon/AIMYf/iqP+FleEP+hq0T/wAGMP8A8VR7Of8AKw5o9zcvv+POX6VPXL3XxG8JzW8iR+J9GdyOFXUIST/49Uo+JXhD/oatE/8ABjD/APFUezn/ACsOaPc6Siub/wCFleEP+hq0T/wYw/8AxVH/AAsrwh/0NWif+DGH/wCKo9nP+VhzR7nSUVzf/CyvCH/Q1aJ/4MYf/iqP+FleEP8AoatE/wDBjD/8VR7Of8rDmj3Okorm/wDhZXhD/oatE/8ABjD/APFUf8LK8If9DVon/gxh/wDiqPZz/lYc0e50lFc3/wALK8If9DVon/gxh/8AiqP+FleEP+hq0T/wYw//ABVHs5/ysOaPc37r/j2l/wBw/wAqWD/Ux/7o/lXOTfEbwnNE8cfijRndlKqq6hCSSegA3UsfxI8JJGit4p0VWAAIOoQgj/x6j2c+zDmj3Omorm/+FleEP+hq0T/wYw//ABVH/CyvCH/Q1aJ/4MYf/iqPZz/lYc0e50lFc3/wsrwh/wBDVon/AIMYf/iqP+FleEP+hq0T/wAGMP8A8VR7Of8AKw5o9zpKK5v/AIWV4Q/6GrRP/BjD/wDFUf8ACyvCH/Q1aJ/4MYf/AIqj2c/5WHNHudJRXN/8LK8If9DVon/gxh/+Ko/4WV4Q/wChq0T/AMGMP/xVHs5/ysOaPc6KT/Vt9Kisv+PSL/drBb4keEnUqvinRWY8ADUIcn/x6mW3xG8JwwpHJ4n0ZJF+VlbUIgQR2I3Uezn2Yc0e51FFc3/wsrwh/wBDVon/AIMYf/iqP+FleEP+hq0T/wAGMP8A8VR7Of8AKw5o9zpKK5v/AIWV4Q/6GrRP/BjD/wDFVPY+PPDWqXcVrZ+ItJu7mU7Y4YL2J3c+gUNk0vZz7BzR7m7RRRUFBRRRQAVXsP8Aj1T6t/M1YqvYf8eqfVv5mgCxRRRQAUUUUAFFFFAFLSf+PV/+vif/ANGvV2qWk/8AHq//AF8T/wDo16u0AFFcT8QfiT/wgmu+DNN/s77d/wAJFqg03zPP8v7PlGbfjad33cYyOvWu2oAKKKKACiuc8dat4i0fSrabwzoMfiC+e7iilt5btbcRwE/vJdzcEqP4epz+FdHQAUVzXjXx9p/gSTw8moQ3Mp1zVodGtvs6q2yaVXZWfLDCYjOSMnkcU681bxFF470/TrfQY5/DEtpJLdaybtVeGcH5YhF95gRzuHHPtyAdHRRRQAUV4DZ/tG+L9U0bXtf074ZLqHh3Rry6tri5h15BcFYGIkdYWhGTgbtu72BNey+DfFmneOvCul+INJkaTTtRt1uIS67WCkdGHYg5BHqDQBs0UUUAFFFFABRRRQAUUVznhbVvEWpar4gh1vQY9IsbW78rTLhLtZjewY/1pUcxnP8ACef5kA6OiiigAooooAK8v8EnHx4+KJ/6dNG/9F3FeoV5d4K/5Lt8UP8Ar00b/wBF3FduH/h1v8K/9Lic9X46fr/7azu7q6I1DA6eV/WqVxM7HABJ7VPc/wDIQH/XP+tQj/j4WsoxVi5My7n7Q2f3Tn8KyriG7b/lhJ+VdbJ1NVJO9bRZDOJuLW8PS3kP/Aay7ixvm6Wsv/fNd/JVWSuiMjJo84uNO1DnFpMf+A1mXGlak3/LnN/3zXp8lVZO9dEZeRk4nlNxo2qHOLKb/vms640TVf8Anxn/AO+DXrsneqsvauiM/IycTxa60HVmuIwLCfof4KqT+HtX5A0+4/74r2Ob/j6i+jVFJ1auiM/IycTxKbw3rPP/ABLrj/viqE3hnWj/AMw24/74r3OSqklbxkuxm4+Z4TN4X1o/8w24/wC+apTeFdb/AOgZcf8AfFe8Sd6qy/0reMl2M3E8Dl8J64f+YZcf98VSm8J67z/xLLj/AL4r3+SqknQ1vGS7GfKfP03hHXv+gXc/98VSk8H682f+JXc4/wByvoaTvVST7tbRkuxm0z54m8H66GUf2Xcdf7tVpPBuvf8AQLuP++a+grj70f1qGStVJdjN3PnqTwbr3/QLuP8Avmqsng7Xv+gVcf8AfNfQsnU1Vk71tFrsZ6nz2/g3Xv8AoF3H/fNV5PBuvf8AQLuP++a+gpPu1VmrWNiHc+f38G67/wBAy4/75qB/B+uf9A2cfgK98kqnN0NbKKM7s8Ifwfrf/QNm/If41E3hHWh/zDpvyFe4y/0qrL3+taqESOZniTeEtZ76fN+n+NRN4T1j/nwl/T/GvZ5ev41Wk7/StVTiQ5s8dbwpq4/5cZP0/wAaibwvq3/PlIPxH+NeuyVUl+6a0VGLJ9ozyo+GNUH/AC5v+Y/xpp8N6mP+XRv++h/jXpsneqsnb6VosPAn2sjzk+HdRHW2P/fS/wCNJ/wjuof8+x/76X/Gu9k6GmVr9Vh3ZPtpHC/8I7qH/Psf++l/xo/4R3UP+fY/99L/AI13VFP6rDuxe3kcL/wjuof8+x/76X/Gj/hHdQ/59j/30v8AjXdUUfVYd2Ht5HC/8I7qH/Psf++l/wAaP+Ed1D/n2P8A30v+Nd1RR9Vh3Ye3kcL/AMI7qH/Psf8Avpf8aP8AhHdQ/wCfY/8AfS/413VFH1WHdh7eRwv/AAjuof8APsf++l/xo/4R3UP+fY/99L/jXdUUfVYd2Ht5HC/8I7qH/Psf++l/xo/4R3UP+fY/99L/AI13VFH1WHdh7eRwv/CO6h/z7H/vpf8AGj/hHdQ/59j/AN9L/jXdUUfVYd2Ht5HC/wDCO6h/z7H/AL6X/Gj/AIR3UP8An2P/AH0v+Nd1RR9Vh3Ye3kcL/wAI7qH/AD7H/vpf8aP+Ed1D/n2P/fS/413VFH1WHdh7eRwv/CO6h/z7H/vpf8aP+Ed1D/n2P/fS/wCNd1RR9Vh3Ye3kcL/wjuof8+x/76X/ABo/4R3UP+fY/wDfS/413VFH1WHdh7eRwv8Awjuof8+x/wC+l/xo/wCEd1D/AJ9j/wB9L/jXdUUfVYd2Ht5HC/8ACO6h/wA+x/76X/Gj/hHdQ/59j/30v+Nd1RR9Vh3Ye3kcL/wjuof8+x/76X/Gj/hHdQ/59j/30v8AjXdUUfVYd2Ht5HC/8I7qH/Psf++l/wAaP+Ed1D/n2P8A30v+Nd1RR9Vh3Ye3kcL/AMI7qH/Psf8Avpf8aP8AhHdQ/wCfY/8AfS/413VFH1WHdh7eRwv/AAjuof8APsf++l/xo/4R3UP+fY/99L/jXdUUfVYd2Ht5HC/8I7qH/Psf++l/xo/4R3UP+fY/99L/AI13VFH1WHdh7eR57qGm3Wl2rXFxCUjU4zkHk/jXf/siXb3P7TXgHPC/bmwv/bJ6wfHX/Iuy/wC+n860/wBkS5hs/wBpDwNcXEqQQRXbySSyMFVFEMhLEngADvXg5nH2dOcFtyv9T08HLnlGT7n7HUVyPh74weA/F2qRaZoXjbw7rWpShmjs9P1a3nmcKCWIRHJOACTx0Fbtr4j0m91q90e31Szn1ayRJLqwiuEaeBXGUZ4wdyhh0JAz2r8mPtTRork/Efxc8C+D9TbTde8aeHtE1FVDtaalqsFvKFPIJR3BwfpVi8+JfhDT9Q0mxuvFWiW19q6RyadbTajCkl6sh2xtCpbMgY8KVzk9KAOkqvYf8eqfVv5mud0/4n+GtU8ZXPhW21FpNatxJujNtMsLNGIzIiTlBFI6CWPciMWXdyBg40PBviLTvFnh221XSbj7Xp87SCG4CMqyBZGUsu4DKkqSGHDDDKSCCQDaooooAKKKKACiiigChoqCOxKDJCzzAbiSf9a3Unk1fqlpP/Hq/wD18T/+jXq7QB4n+0F/yPXwa/7Ghf8A0S9aX7VHi7VPBfwP1+/0eeSyvZGgtBex8G2WWZI2kz2OGIByMFhzXQfFT4R6d8WLfR1vdW1fRbjSbv7baXmizpDMkm0rncyN2PYA+9Z2k/AnT7fQ9d0bXPE3ibxppesQC3ntfEd+twsagk5j2ohVskHOf4R6UAeSfGr4Q+HfgT4F0zxl4MEuj+KdJ1CzX7d9plaXUg8ixyRzAkiTcGLEEDocelY/xK1L4cax8bviRa/FS7kvLSztLK30K3VpXWLdb7pliCcCcyEEBueR2zXsWj/s16FY6ho82p+IfE3iiz0eVZ9P0zXNRE9pbyKMIwQIu4qOm8tjFeSa54d1DSvi54/1HxBpfxIsU1K8jfT5fh+swtbiBIwqvKYTzL67+5PagDNbwa/gn9k/4b2tzpn9laldeJNNvLyEoVdpGnwrOD0YxrHn6c85rpfjT4Lt9F+JniLxh4+8HXfjfwJcW9t9mvLG7cyaEI49sv7gOp2swMhkX7tdf8O/hrrvxE+E1jp3xFudZimtdc/tPTvtcsX29beKQNbpcttILdd3fBAyK6Xxl8BbTxzqGpPqHjHxfHpeonFzolvqarZOuACgUxllQgcqrAcn1oA89/aO8E+EfGa/CHVzp0GpQ6j4i03TVuXLkzafJFNJ5Zyc7W4PPNacfhrTPB/7UHgbR9Gs49P0y18K3qwW0WdqA3AYgZ9yT+Nek+OvhHonjvwnpWgTSXmkW2k3EF1p1xpUwins5IVKxNGxDAFQSOQah0b4QafpPirQ/Ec2saxquraTp02mpcajcJIZ45JPMZpCEBLA8DBAA4xQB5D8L/hvoPx8v/H/AIk8dWU2q6pB4ku9JtIprmRP7Mgg2hI4gpGxhuyWwCTzjrn6P0nTo9H0uzsIXlkitYUgR5nLyMqqFBZjyTgcnvXmus/s8aPf+JNX1nTPEfibwtLrDiXUbbQdREEN1JjG9gUYhiOpUr1r0rSdMh0XSrLT7bebe0hS3j8xy7bUUKMseScDqaAPivS7r4lad8EfiFd+HZ9J/wCEWTXdUGoRxW8jaqsBlIuGiYt5fCEnlQQATniu++L1/H4a+BPwu8OeBEvrrw/r2oWGnK1rdLb3F1bOhfyRMxCxySkYJJAHzDpxXufgj4Y6P4E8P6poto1xe2OpXlze3C3zK5LTnMifKqjbzgDrjuawLP8AZ78LwfCm3+H1xLqOoaJayma1muLgC6tn3l0aORFXBRmO3jpwcigDy/4b/DvxB4T+L3h7VdD+HF38OvC/kXUOvLJrlvdQXC+UTA5jWVjvWQAFsHhuehNeGf2f4H+I3wo06N45/EHxu1LVkeTcJZZJSbv5mYn5Db+TnBHA496+vrH4My+GVudTh8T+JfF2r21nPHp9r4k1IS2okaMqAyKiBs5wS+Tgmvm7w54b8ReG/hrbaPpVj8YNO8ewRMkNtbGSPR4rksSMZPkCDJ5x2zQB6T8TPhfovi79orwJ4TuVmt/Dlv4XnR9PtZmiWeCKVQkDMDu2ZCEjPO0VjfEzRXufjNo3w4sfBd94p8HaD4bW9t/DcGrLaxyM0xjE0jTSL5qoAECknk59RXvWk/Dn7V4m8NeMtbuZ38V6fo39m3CQMgtnZ9rStt25zvBxggY7U34hfB3SPiFq2m6xJf6roOvacrRW+r6HdfZ7lY25aMkhlZCecMp/U5APM/hD8PfGuk6D8T9Ej0i68B6PqVuo8M2l3qcd4dPnkgkSVleJ3KoJPLYDjGeM81m/ADSvDngHxtpfh3XfA934R+JEmnuo1Jrp7m31gIFM0iyhyrMcbyrDK5wCOlevaH8JbbQ9C1uwHiXxLfXeroEn1e71MteJtBCmJgAseMnG1R15zWd4b+A+maH4kj1++8ReJPE+r29tLa2d1rd+srWaSDDmIIiBWIGNxBNAHjPwv8LaV8KfHWg2HxH8J3a+NLrUJY9P8dR3clxb6nM5corkPmNip2iN1xxnjrWx4b8SXvg/Rv2ktb01C9/p+q3VxBgZ2utqpDkY6KfmPsDXo2k/s96ZaeINJ1XVvFPirxW2kz/arG113UVnggmAIWQBY1LMMnBYmul8OfC7RvDdx4uljNxex+KLt7y/gvCrx5ZAjIoCj5Co6HJ5PNAHz1rXwT8N6T+zWvj6C5uovHcOix68vilryX7VJcmNZsbtxBDE7AuMYI781d1vQYPi/wDGr4XL4iacwah4La9vra1laBbklo3MT7SDsLEErnnaB0rvrf8AZT8MxWcOkza/4pvPCsMolTwxc6pu08ANuCFdm8oDztLkV31x8N9LuPiFpfjHzLiLUdO0+TTIbeNkFv5TsGJK7c5GBjDAY7UAeV/AzT7fwH8cvih4H0ZZLbwzaRWGoWdg0rPHaySxZlEYJ4DEg4/2RXv9cno/w10vQ/iJ4h8ZwTXT6prkFvb3MUjqYUWFdqlAFBBI65J9sV1lABXl3gr/AJLt8UP+vTRv/RdxXqNeXeCv+S7fFD/r00b/ANF3FduH/h1v8K/9Lic9X4qfr+jO1uf+QgP+uf8AWoR/x8LU1z/yEB/1z/rUP3Z1J4FRHYqRJJ1NVJO9WJJUyfnX86qSTRjOXUfiKuImV5KqyVPJPH/z0X/voVUkuIv+eqf99Ct1cyZBJVWTvU0lxF/z1T/voVVkuof+eqf99Ct4pmbZDJ3qrL2qWS6h5/ex/wDfQqrLdQcfvo/++hW8UzJlOb/j6i+jVFJ1aie7g+1Rfvo+jfxCopLyDLfvo/8AvoV0RTM2yOSqklTSXkH/AD3j/wC+xVOS8g/57x/99iuiKZm2iKTvVWX+lSSXkHP7+P8A77FVZLyD/nvH0/vit4pmbZHJVSToalku4P8AntH/AN9Cqsl5Bg/vo/8AvsVvFMyuhkneqkn3alkvIOf30f8A30KqyXcGP9dH/wB9CtopmbZWuPvR/WoZKW4uodyfvo+v94VFJdQ/89o/++hWyTMmQydTVWTvU0l1Dk/vY/8AvoVVkuYuf3qf99CtopmbIZPu1VmqaS4i2/6xP++hVWWeP/nov5it4mbIJKpzdDVmSZP76/nVSWRSDhl/Ot4mbK0v9Kqy9/rVmRl9R09arSEc/Wt4mRUl6/jVaTv9Ksy9R9aryKeeO1bxM2VJKqS/dNXJI2/un8qrSROQcI35VtEzZSk71Vk7fSr0lvKc4jc/8BNVntZjjEUnT+6a2RBQk6GmVZks58H9xJ/3waZ9juP+eEn/AHwa3urGdmQ0VN9juP8AnhJ/3waPsdx/zwk/74NO6CzIaKm+x3H/ADwk/wC+DR9juP8AnhJ/3waLoLMhoqb7Hcf88JP++DR9juP+eEn/AHwaLoLMhoqb7Hcf88JP++DR9juP+eEn/fBougsyGipvsdx/zwk/74NH2O4/54Sf98Gi6CzIaKm+x3H/ADwk/wC+DR9juP8AnhJ/3waLoLMhoqb7Hcf88JP++DR9juP+eEn/AHwaLoLMhoqb7Hcf88JP++DR9juP+eEn/fBougsyGipvsdx/zwk/74NH2O4/54Sf98Gi6CzIaKm+x3H/ADwk/wC+DR9juP8AnhJ/3waLoLMhoqb7Hcf88JP++DR9juP+eEn/AHwaLoLMhoqb7Hcf88JP++DR9juP+eEn/fBougsyGipvsdx/zwk/74NH2O4/54Sf98Gi6CzIaKm+x3H/ADwk/wC+DR9juP8AnhJ/3waLoLMhoqb7Hcf88JP++DR9juP+eEn/AHwaLoLMhoqb7Hcf88JP++DR9juP+eEn/fBougsyGipvsdx/zwk/74NH2O4/54Sf98Gi6CzIaKm+x3H/ADwk/wC+DR9juP8AnhJ/3waLoLM5jx1/yLsv++n861/2O/8Ak5jwD/1/N/6Kel1jwfrni63j0nRdJvNT1K6lRIbW2hZ3Y59AOgHJJ4ABJ4r7V/ZS/Yfs/hHdWPi7xdMuo+MYsvb2sD/6NYEgr1H+sfBPzfdGeAcbj8dnuJpUU4yerVkvvPdy2jOpZpaJnoOm6pqnjfxp478faJp41/8A4Rm0n8PeFrAzJHHdXa4a7k3MwUBplhh35GFhfru54T4U6pL8NfjB4pv/ABPoGtaQ8fgy31bxBq+omzkLSrc30090yW1xKdjfMkaIGZViC7QoUn6uor8uPsjx34za9H4803wt4D0a6Zv+E3YPdTQkxvHoyKsl1IM4KGRGWEZHWbpxXl/xFvNB0KD9oLwvrAtovEXiGK3i8PaWQqXGoxnT4obJLRMZkCXKyDCA7GDE9cn6yooA+UviJ8P5NL/tpNIvtU1PVrHRrrXdcsVnUwWsj28fmwQukYl8+9MLL80jbIzMyhGaLPrv7Pnjmfxx4S1IvcaPqNppeoHT7PUvD8DwWN5CLeCUNEjO+0I0rxEByN0LdPuj1Cq9h/x6p9W/maALFFFFABRRRQAUUUUAUtJ/49X/AOvif/0a9XaoaKgjsSgyQs8wG4kn/Wt1J5NX6ACiiigAooooAKKKKACiiigAooooAKKKKACiiigAooooAKKKKACiiigAooooAKKKKACvMPA//JePih/16aN/6LuK9PrzDwP/AMl4+KH/AF6aN/6LuK7cP/Drf4V/6XE56vx0/X/21no//MQH/XI/zFWKr/8AMQH/AFyP8xViuI6AooooAKKKKACiiigAooooArS/8fsH0b+lWarS/wDH7B9G/pVmgAooooAKKKKACiiigAooooArXP8Ax8W3+8f5VZqtc/8AHxbf7x/lVmgAooooAKKKKACiiigAooooArXn/LD/AK6r/WrNVrz/AJYf9dV/rVmgAooooAKKKKACiiigAooooAr33+pH+8v86sVXvv8AUj/eX+dWKACiiigAooooAKKKKACiiigCvff8ecv0qeoL7/jzl+lT0ALRRRQAUUUUAFFFFABRRRQBFdf8e0v+4f5UsH+pj/3R/Kkuv+PaX/cP8qWD/Ux/7o/lQBJRRRQAUUUUAFFFFABRRRQA2T/Vt9Kisv8Aj0i/3alk/wBW30qKy/49Iv8AdoAnooooAKKKKACiiigAooooAKr2H/Hqn1b+ZqxVew/49U+rfzNAFiiiigAooooAKKKKAKWk/wDHq/8A18T/APo16u1S0n/j1f8A6+J//Rr1doAKKKKACiiigAooooAKKKKACiiigAooooAKKKKACiiigAooooAKKKKACiiigAooooAK8w8D/wDJePih/wBemjf+i7ivT68w8D/8l4+KH/Xpo3/ou4rtw/8ADrf4V/6XE56vx0/X/wBtZ6P/AMxAf9cj/MVYqv8A8xAf9cj/ADFT5riOgWik3D1FJvX+8PzoAdRTfMX+8PzpPNT++v50APopnnJ/fX86POj/AL6/mKAH0VH9oi/56L/30KPtEX/PRP8AvoUARS/8fsH0b+lWapyTRm8hIkUgBsnI46VP9ph/56p/30KAJaKi+1Q/89o/++hR9qg/57R/99CmBLRUP2uD/ntH/wB9Cj7ZB/z3j/77FFmBNRUP2y3/AOe8f/fYo+2W/wDz3j/77FFmBNRUH223/wCe8X/fYo+22/8Az3i/77FFmA25/wCPi2/3j/KrNULi8gM9uRPGQGJPzjjirH262/5+Iv8AvsUagT0VB9utv+fiL/vsUfbrb/n4i/77FFmBPRUH262/5+Iv++xR9vtv+fiL/vsUWYE9FV/7Qtf+fmH/AL7FH9oWv/PzD/32KLMCxRVf+0LX/n5h/wC+xR/aFr/z8w/99iizAS8/5Yf9dV/rVmqN1eQSeTtmjbbIGOHBwPWpv7Qtf+fmH/vsUWYFiiq/9oWv/PzD/wB9ij+0LX/n5h/77FFmBYoqv/aFr/z8w/8AfYo/tC1/5+Yf++xRZgWKKr/2ha/8/MP/AH2KP7Qtf+fmH/vsUWYFiiq/9oWv/PzD/wB9ij+0LX/n5h/77FFmAX3+pH+8v86sVQvL23aEBZ4mO4Hhx61P/aFr/wA/MP8A32KLMCxRVf8AtC1/5+Yf++xR/aFr/wA/MP8A32KLMCxRVf8AtC1/5+Yf++xR/aFr/wA/MP8A32KLMCxRVf8AtC1/5+Yf++xR/aFr/wA/MP8A32KLMCxRVf8AtC1/5+Yf++xR/aFr/wA/MP8A32KLMAvv+POX6VPVK8vrdrWRVniLEYADjJqb+0Lb/n5h/wC+xRZgWKKr/wBoWv8Az8w/99ij+0LX/n5h/wC+xRZgWKKr/wBoWv8Az8w/99ij+0LX/n5h/wC+xRZgWKKZHNHMu6N1kXOMqcin0gCiiigCK6/49pf9w/ypYP8AUx/7o/lSXX/HtL/uH+VLB/qY/wDdH8qAJKKKKACiiigAooooAKKKKAGyf6tvpUVl/wAekX+7Usn+rb6VFZf8ekX+7QBPRRRQAUUUUAFFFFABRRRQAVXsP+PVPq38zViq9h/x6p9W/maALFFFFABRRRQAUUUUAUNFQR2JQZIWeYDcST/rW6k8mr9UtJ/49X/6+J//AEa9XaACiiigAooooAKKKKACiiigAoryHxR8ertfG154S8DeELvx1renAHUmju0s7SzJ5CPO4I34z8oHt1yB0vw78c+JfE95qFj4m8DXng+7tUSRHe7jvLa4DEjCSpgbhjkEA8igDuaKKKACiiigAoornPCOreItTuteTXtBj0aC2v5IdNlju1n+2Wo+5MQv3Cf7p5FAHR0UUUAFFFeNfF/9pCz+D3xA8N6BqOjPPpmpxCa71dbjathGZRFvaPYdyhmXJ3Dr3oA9lorg/iD8U18C+J/A+kDTft48T6gbETi42C3wobfjad/XpkfWsn4hfFzXfDPxE0jwd4d8JQ+JdR1DT5NQ3T6qLJURHCkcxPk8g9RQB6lRXnnwq+LMvxB1LxJouqaDN4a8S+HZoYtQ06S4W4RRKheJ0lUAMGUE9B29a9DoAK8v8EsF+O3xRJ/59NG/9F3FeoV5Z4N/5Lp8Uf8Ar00f/wBF3FduH/h1v8K/9Lic9X4qfr/7azuby+Iv8AceV/Wsy8upWzhGI+hq1ef8f4/65H+dS/8ALNPpWcUkW2zkryS4bOIpP++TWHeNc8/uZP8Avk13s3eqE3euqLXYxkeb3aXfP+jyn/gJrEuob1s4tpv++DXq03eqM33TXVGS7GEkzx+6tb45/wBFm/74NZF1Z35z/oc//fs17VN92qM3SuuM12MXHzPDbiw1A5xZ3B/7Zmsq403UecWVx/37Ne8T9apTda6oyXYxcX3Pn260vUvOX/Qrjof+WZrPuNJ1P/nwuP8Av2a9+uv9dH9DVabvXVGS7GLiz54uNI1Pn/QLk/8AbM1m3Gj6rz/xL7n/AL9mvouaqUnSumMl2MnF9z5vm0PVW66fc4/65GqM2h6r/wBA+5/79GvpGaqM3euiLXYyaZ83zaFqv/QPuf8Av0apTaFq3/QPucf9cjX0hNVGat42MXc+cZNB1X/oHXP/AH6NVZNB1X/oH3P/AH7NfRc1UJupreNjNtnz1JoeqrkCwuQCMH92earSaDqnewuB/wBszXvlx95apzfeNdEYRMnJnhD6Dqf/AD43GP8ArmahbQdS/wCfGf8A74Ne4S9TVGbvWypxIc2eMNoeo/8APlN/3waibQ9Q/wCfOb/vmvXpqoz1qqEX1M3VZ5Y2i34/5dJf++aT+xb7/n1k/wC+a9Hm+9+NVq2WFi+pLrNdDgf7Fvv+fWT/AL5o/sW+/wCfWT/vmu+oqvqse4vbvscD/Yt9/wA+sn/fNH9i33/PrJ/3zXfUUfVY9w9u+xwP9i33/PrJ/wB80f2Lff8APrJ/3zXfUUfVY9w9u+xwP9i33/PrJ/3zR/Yt9/z6yf8AfNd9RR9Vj3D277HA/wBi33/PrJ/3zR/Yt9/z6yf98131FH1WPcPbvscD/Yt9/wA+sn/fNH9i33/PrJ/3zXfUUfVY9w9u+xwP9i33/PrJ/wB80f2Lff8APrJ/3zXfUUfVY9w9u+xwP9i33/PrJ/3zR/Yt9/z6yf8AfNd9RR9Vj3D277HA/wBi33/PrJ/3zR/Yt9/z6yf98131FH1WPcPbvscD/Yt9/wA+sn/fNH9i33/PrJ/3zXfUUfVY9w9u+xwP9i33/PrJ/wB80f2Lff8APrJ/3zXfUUfVY9w9u+xwK6PfqwItpQRyCBR/Yt9/z6yf98131FL6rHuHt5djgf7Fvv8An1k/75o/sW+/59ZP++a76in9Vj3D277HA/2Lff8APrJ/3zWTqVy+nytAyFZ16hh93Iz/ACr1SvLfGn/IzXn/AAD/ANAWuPFUlRhzRZvRqOpKzP0q/wCCb7tJ+z3csxyTrlzz/wBs4a+qK+Ov2BfHPhvwL+zi1x4k8QaX4ft59euo4pdVvY7ZZGEUJKqXYAnHOBX0zqHxa8D6Ro+natf+M/D9lpeohjZX1xqkEcF1tOG8py+18d9pOK/JMd/vVT1Pt8N/Bj6HWUVU0rVrHXtNttQ028t9RsLlBJBdWsqyxSoejK6khgfUGobXxHpN7rV7o9vqlnPq1kiSXVhFcI08CuMozxg7lDDoSBntXAdJcuv+PaX/AHD/ACpYP9TH/uj+Vcc/xi8D33hfWdasPFmkavpmmoPtc+k3aXvlF+EUrCWYsx4VQMseACasaR8T/DWqaPot7bagzx6peNptpC1rMk73KFxJE0LIJEZPKkL7lGwIxbABNAHW0UUUAFFFFABRRRQAUUUUANk/1bfSorL/AI9Iv92pZP8AVt9Kisv+PSL/AHaAJ6KKKACiiigAooooAKKKKACq9h/x6p9W/masVXsP+PVPq38zQBYooooAKKKKACiiigClpP8Ax6v/ANfE/wD6NertUNFQR2JQZIWeYDcST/rW6k8mr9ABRRRQAUUUUAFFFFABRRRQB84/svyagvhH4mafYyWcXju38TXzXZ1JWdfNcjy5JQpDFDhsYPOGxXTfDX4qeLLn4leN/CnjdtAVfDtjbXpvdHgmiQrIpdt3mSNwFx6dDWz44/Z78OeMvFB8TW19rXhTxK6CObVvDl8bWadAAAsmQytwAPu5wBzwMWvh/wDAvw/8P7jXLtbvVvEGp63GsOoahrt4bmaeMAgITgDGCRwOnHagD5U8bQ6X/wAK9Xx54N8E+Jont722mg+Imsaugu7hjcpGzvEZPMdH3FRhQOQcAA19FzSKv7YloGYAt4FlCgnqf7QjOB+AP5VRuP2RPDF1oa6HJ4l8Wv4fhkEtpo7amptbRg+4GNTHk4OcBywG445wa7T4h/BnSfiFrmla42qax4f13TY3hg1PQ7oQT+U/3o2LKwZfbHc0AeW6Xo+p+KPi5+0vpWiaj/Zuq3dlo8FpdhiPKlNhIAcjleeMjkde1Q/AfTfDng/xP/wjF14MvPAPxKm0h4jevO11BqKDYZJ45A5V23qHwwDDpnk16L4W/Z48P+C4fFS6PquvWdx4kS3W8vUv/wDSVeLefNSXbuDuZGLFick8ADipfDnwF0zQ9dl1u88ReJPEWtGyksLfUNYv1kls4n+95OxECMf72CaAPH/g34d0f4U+OvDul+PfB93YeP7ieeKx8ZLdyXVtq0jK4bcwfKsUbAR17Z4OK6f4b6xp2g+C/j1f6tqF1pOnQ+LdXM99YttuIVMEA3RHBxIM/L/tYrtdE/Z/0zT/ABLpWt6p4m8UeK7jSXaWwh17UFnhtpCNu9VWNcsAeCxNa9n8GvD1voHjLRZxc3+neK9QuNS1CK5kHEkyorLGVVSqjy1Izkg96APmeHTbbw74v+FviPwx8Pda8E2mp+IbWzOvahqqSTanbzI5ZJ4RK77nC7stwMH1Fd/Z/CvQvid+0t8V08RxTahptnbaP/xLDO6W80j274kkVSNxQIQueBvJ64rsNP8A2YdDtdR8PXl34o8Way3h+6hutMh1LUUlitvLPCBRGAVICgk5bCgBhznvtD8A6foHjbxP4ot5rl9Q8QpaJdRyspiQW6MieWAoIyHOck9sYoA83/ZSkltfC/jXQPtE89h4c8Xalo2n/aJDI8dtEUKJuPXG81j/ABT8J6f47/aS0Xw/qsXnafqPg+/t5l7gGZcMPQg4IPYgV654D+Hem/Dv/hIv7Nmupv7c1m41u5+1OrbZ5tu9U2qMINowDk9eTS3nw802++I2neNJJroarY2EunRQq6+QY3cMSRt3bsjj5se1AHyVY+KtT/4Tb4TeAvEjs3ijwZ4oNhPI3/LzatEDbTjPOGQY/wCAg969V+Kel67q/wC1F4St/Duuw+HtR/4Ru7b7ZPYC8XYJlyvll05PHOeMV6H4r+A/hnxh8TvD3j27+1wa9ouBEbZ0WOcAkqJQVJbaWOMEdcHIo8ffBWy8eeLdO8SjxFr/AId1extHso59EuIoiYmbcwO+J+47YoA89+CMWr+Bfj1478KeJ54Ne8RazYw+IP8AhIoFMRubdH+zpE8OSI9hYhQD0zyeK+h64X4ffB/R/h7qmpavFe6nruv6iqx3Wsa1cie5eNfuxghVVVHoqjoM9BXdUAFeWeDf+S6fFH/r00f/ANF3Fep15Z4N/wCS6fFH/r00f/0XcV3Yf+HW/wAK/wDS4nPV+Kn6/wDtrOwvP+P8f9cj/Opf+WafSorz/j/H/XI/zp+9fLX5h09azWxT3Ks3eqE3ers0qc/Ov51Qmmj5+dfzFbxM2VJu9UZvumrU08fP7xf++hVGa4i2n96n/fQrqjcxZWm+7VGbpVqa4i2/61P++hVCa6hx/rY/++hXTFMxZVn61Sm61Ynuoc/66P8A76FUprqDP+uj/wC+hXXFMybKF1/ro/oarTd6kuruDzo/30fQ/wAQqtNeQc/vo/8AvsV0xTMGytNVKTpViW8g/wCe0f8A32KpSXkGP9dH/wB9iuqKZk2V5qozd6sTXkH/AD3j/wC+xVGa8g5/fx/99iumKZjJkE1UZqszXkH/AD2j/wC+xVGa7g/57R/99CuiKZg2V5qoTdTVqa7g/wCe0f8A30KoTXUOT+9j/wC+hXTFMykUrj7y1Tm+8asXFxFuX96n/fQqpNcRbj+8T/voV1RMWVZepqjN3q3JNHk/vF/MVRlmTn51/OumJkypNVGerk0i8/Mv51Smdf7w/OumJiynN978arVYmYbjyOtV66I7GbCiiirJCiiigAooooAKKKKACiiigAooooAKKKKACiiigAooooAKKKKACiiigAooooAKKKKACvLfGn/IzXn/AAD/ANAWvUqsfDb9mfxd+0D8QLuLSLdrDQ4XjW81y5jPkQ/ImVXp5kmDnYD3GSoOa8nM6kaVDnm7JP8AzO3BxlOpyxWp73+yKvhKP4I+G73xH48l+H2paf4g1K60zUhPawIzG3ghlQvdRSRE7JuFOGPzEZ2sR7FD4q03xB4N+H/ib4hfEOb4feLLS21J9N1by7azGo2xkEQnaK6gePfJEsEvlIA370lQAQF9h+C/we0T4G+BbbwvoLTy20btPNcXL7pJpmADOccDO0cDgAV3VfjmKqRrVp1I7Nn3tGLhTjF9Dxrwf8Xtbm+GehW+o2QvvilqWhXOpWOiNA1p9vMJ2o7F8JDv3RMyswI3nA4xXgGqaL4ltbn4o6SnhPxFF4l1P4fxXGp3M8lk013cNc30k0u23uZDtky8UcaZZQiptVQpP3JRXKbHzBrkPgr4zfEZLjw5rVm3g/T/AAXJFqWsaLPEsNjtu7e4skLbTHG8RglkCOPlUHKgNg8rH4n1b4V6lpXiSKWB11e2vL/RoPE0DNd3we6gMkMQjMKx3t2ZzLgRtsSOJBF8slfYl1/x7S/7h/lSwf6mP/dH8qAJKKKKACiiigAooooAKKKKAGyf6tvpUVl/x6Rf7tSyf6tvpUVl/wAekX+7QBPRRRQAUUUUAFFFFABRRRQAVXsP+PVPq38zViq9h/x6p9W/maALFFFFABRRRQAUUUUAUtJ/49X/AOvif/0a9XapaT/x6v8A9fE//o16u0AFFFFABRRRQAUUUUAFFFFABRRRQAUUUUAFFFFABRRRQAUUUUAFFFFABRRRQAUUUUAFeYeB/wDkvHxQ/wCvTRv/AEXcV6fXl/gfj48fFEn/AJ9NH/8ARdxXbh/4db/Cv/S4nPV+On6/+2s9GKqdQGQP9Ue3vU/lIeqL+VQxt512ZFBMYTbu7E57VZriOgj8iL/nmv8A3yKT7LD/AM8Y/wDvkVLRTuwIfsduesEZ/wCACk+w23/PvF/3wKnoouxFf+z7U9baE/8AbMUn9m2n/PrD/wB+x/hVmijmfcLIq/2XZf8APpB/36X/AApP7Jsf+fO3/wC/S/4Vbop8z7hZGXNpFj9sg/0K36N/yyX29qsf2PYHrY23/flf8KduFxdIyfMiAgt259KtUc0u4WXYpf2Lp/8Az4Wv/flf8KT+w9NPXT7X/vyv+FXqKOaXcOVdij/YWm/9A61/78L/AIUn9g6Z/wBA60/78L/hV+ijml3FyrsZ/wDwj+l/9A2z/wC/Cf4Uf8I/pf8A0DbP/vwn+FaFFPnl3DlXYz/+Ee0r/oGWf/gOn+FJ/wAI7pP/AEDLP/wHT/CtGijnl3DlXYxrjw7pX2i2/wCJZZ/eP/Lunp9Kn/4RvSP+gVZf+A6f4VYkbzrqIJ8wjJLN2HHSrVHPLuHKuxm/8I3pH/QKsv8AwHT/AAo/4RrSP+gVZf8AgOn+FaVFHPLuHKuxm/8ACNaR/wBAqy/8B0/wo/4RnR/+gVY/+Ayf4VpUUc8u4csexmf8Izo//QJsf/AZP8KP+EZ0f/oE2P8A4DJ/hWnRRzy7hyrsZn/CM6P/ANAmx/8AAZP8KP8AhGdH/wCgTY/+Ayf4Vp0Uc8u4cq7GJeeGtIHkY0qxH71f+XdPf2qx/wAIzo//AECbH/wGT/CrNw3nSxxp8xRwzegAq1Rzy7hyrsZn/CM6P/0CbH/wGT/Cj/hGdH/6BNj/AOAyf4Vp0Uc8u4cq7GZ/wjOj/wDQJsf/AAGT/Cj/AIRnR/8AoE2P/gMn+FadFHPLuHKuxmf8Izo//QJsf/AZP8KP+EZ0f/oE2P8A4DJ/hWnRRzy7hyrsZn/CM6P/ANAmx/8AAZP8KP8AhGdH/wCgTY/+Ayf4Vp0Uc8u4cq7GLfeGtIEIxpViPmX/AJd09fpU/wDwjOj/APQJsf8AwGT/AAqzdMJNsKfM+4E47DPerVHPLuHKuxmf8Izo/wD0CbH/AMBk/wAKP+EZ0f8A6BNj/wCAyf4Vp0Uc8u4cq7GZ/wAIzo//AECbH/wGT/Cj/hGdH/6BNj/4DJ/hWnRRzy7hyrsZn/CM6P8A9Amx/wDAZP8ACj/hGdH/AOgTY/8AgMn+FadFHPLuHKuxmf8ACM6P/wBAmx/8Bk/wo/4RnR/+gTY/+Ayf4Vp0Uc8u4cq7GLfeGdIFrIRpViDj/n3T/Cp/+EZ0f/oE2P8A4DJ/hVq8YNG0K/NIw4Udvc1Yo55dw5V2M3/hGdH/AOgTY/8AgMn+FH/CM6P/ANAmx/8AAZP8K06KOeXcOVdjM/4RnR/+gTY/+Ayf4VdtbOCxhEVtBHbxA5CRIFX8hU1FJyk92OyWwUUUVIwooooAiuv+PaX/AHD/ACpYP9TH/uj+VMu5B5TRj5pHUhVHWpIlKxop6gAUAPooooAKKKKACiiigAooooAbJ/q2+lRWX/HpF/u064mWNcHlm4CjqaLWMx28at94DmgCWiiigAooooAKKKKACiiigAqvYf8AHqn1b+ZqWWZYVyx+gHU+wplnG0duqsMHk4/GgCaiiigAooooAKKKKAKGioI7EoMkLPMBuJJ/1rdSeTV+qWk/8er/APXxP/6NertABRRRQAUUUUAFFFFABRRRQAUUUUAFFFFABRRRQAUUUUAFFFFABRRRQAUUUUAFFFFABXKaT4FXTfHXibxG120v9tR2kZtQmBGIEdQc55yZCfwFdXRVxnKKaXXR/en+aJcVJpvoIBgYAwKWiioKCiiigAooooAKKKKACopoTMwBbEfdR1P4+lS0UAIqhVAAwB0ApaKKACiiigAooooAKKKKACopo2mwu8qn8WOp9s1LRQA1UWNQqjAHYU6iigAooooAKKKKACiiigAqOZHkAVX2DuR1/CpKKAGRxrCoVBtUU+iigAooooAKKKKACiiigApkqu64RtnPLY5x7U+igBkUSwrtUYHU+pp9FFABRRRQAUUUUAFFFFABTJA7KQjBW9SM4p9FAEcMKwr8vJPVjyT9akoooAKKKKACiiigAooooAKbJuKnYQG7E06igCKGBYcn7znqx6mpaKKACiiigAooooAKKKKACkbO07eG7ZpaKAIobcRksTvkPVz/AJ6VLRRQAUUUUAFFFFABRRRQAUhz260tFAEMVvtbe58yT+8e3sKmoooAKKKKACiiigAooooApaT/AMer/wDXxP8A+jXq7VDRUEdiUGSFnmA3Ek/61upPJq/QAUUUUAFFFFABRRRQAUUUUAFFFFABRRRQAUUUUAFFFFABRRRQAUUUUAFFFZ/iDWIvD2g6lqsw3Q2NtJcuucZVELHntwKANCivlXS/DvjHxl8Cbv4ozeP/ABHYeLJrK41q0s7O8KadCibnjg+z42spRQCWBOW745+gvhd4ufx98OfDXiKWMQzalp8NzLGowqyMgLgc9N2ce2KAOoor590231b47fFLx7b3HirXvD3hvwzcx6VZ2nh++No8txs3TSySKMtg4AU8DuPXkB8avFvhj4N+L9GfU21Hxho/ig+E7HWLhVLyiRx5czj+Jwm/t/CpOeaAPrGivm7xzo+t/s/6l4G8Q2fjbxJ4hs73WrfR9ZsdcvjdRTpOGBljQ8RspGQFIHIHQHPM+C/HeqtdeBPFVz4x1B9e1jxPf2GteH578vaW1mhuc4gztiESRRNvwD82ScUAfW9FeUfC/VNW+J3ii88dy3V5ZeEhG1loGliVo0uo8/PeyoDhi5GIw33VGcZbNer0AFFFeBftZSePrTwPrepaB4hXw14e0zThczTWJZdQurgyFfLDjHlRqNjFlO4kkdKAPfaK8f8AiR8StR+Hf7Nf/CUWsguNbGlWaWz3B3s9xMI4w5B+8QXL4PXac1wfxK0HxN8AfDOgeNoPHfiPXr+1v7WHWrLVL5riyvI5WCS+XEQBFhj8u3GB6nmgD6copksyQRPLK6xxoCzOxwFA5JJ7CvmHwdofir41fCzU/iTceOfEeh6vfm7utH0/S74w2VnDE7rFG8IGJCTGdxbOQR0OaAPqGivlXwb8SvEX7RWq+A/Dv9uXnh2zfw22u67c6HN9nubiUTtbLEsigmIFlMhAxlW+lXP+Ew8V/CnW/ix4OttY1DxOul+Gm8Q6JdatN591bnaVdGkYZkCthgDz8uOpoA+nqK+XvAvxGtfhz4kS8vvGWp+IPDcvgqPW9R+3X5vmjvjNGiLESTsaTeyiIYBIGBXsPwg0vxKdNv8AxD4tublNZ12Rbn+x3mJg0uEAiKBE6Bwpy7AZZjznAoA9Aoorz74gfCvUPiBrcMzeOfEXh3SIbYRrp/h64Fm7TbmJleYAsw2lQEwANucnOKAPQaK+Xvhr8YvEXhf4BfEzWNV1F/EknhPU73TtL1i7Ybr1U2rEz92+dwcknIbHUVB428P+L/hf8G7L4mx+PfEepeJ7FLTUNRsb69L6dcrI6CWEW+NqKA+AVwfl9TwAfVFFQWN4moWNvdRBhFPGsq7hg4YAjP5185+AdF179obT/E3i258ceI/D0Talc2Wh2eiX5t7e2hiO1JJFUYmZmyTu4wMDrwAfSdFfIvgv4teKfjhD8NPBr63eaFeXlte3PiHUtLcQ3MyW0jRII2AzHvZQWYY5Jx0xXWWuueIvg78U/Efg+HXNU8VabdeFZte0ka1cG6uLe6iLKYvNblkbGec44HqSAfR1FfKPw5+Ig8I6l4E1y98dahrenax4UudY8Sw6hfG5is5UWFw6KTiEmSR4gi4BKgYJr2X4Pw+Ide/tHxp4jmvLR9c2nTtBkmbytOs1z5YaPO3znB3O2MjIXjBFAHpNFFedfFLwvFrl9YXGq/EDUfB+hxRsjWunXy6e1xKTnc1xndgAfdXHrntQB6LRXzh8GfiTq2hfDf4o6zd6xd+KvDXhy5upNC1fVJN0l7DFEW2+bx5g3AKG7ljjsBhat4d8aaV8BY/iofiB4iPjJbCPXpLQ3ZOmFGxJ9n+y4CBRG2PXIPOKAPqyisnwnrn/AAk3hXRtYEflDULKG78v+75kavj8M14d4X0vWP2gfEnjzVLrxlr/AIf0XSNYm0LSLXw7qBtU/cAB7iQqP3pZmBGTjAIxjFAH0PRXyH4X+LHjL4iaZ4H+HkmvzWGuXmt6lpmsa7ZFY7prWxVXLIcHY8gdV346qfU13Wlza78IPjxpPhKDXtY8VaB4k0m5ube1129NzNBdQAthJn5CsvGDwCc9qAPoKivkj4V/EK8tL74Z+JdS8bX94/iC31W48TWd7fmW1tY4YpJFdYScW4R0VeAM5wcmvZvhHc67441TUfHuqT31jpGpRi30LQ5HZI47INuW5ljzgzS8MCclUIAPJoA9RoorivjB8QP+Fb+BbzVIIfterTMtlpdmBk3N5KdsMYH+9yfZTQB2tFfNP7NniHxF4ZtfizH4v1+/8R3Hhy6VpZL26aQKVgZ5Vj3HCJuBwBwBisvS/DvjHxl8Cbv4ozeP/Edh4smsrjWrSzs7wpp0KJueOD7PjaylFAJYE5bvjkA+qqK5f4XeLn8ffDnw14iljEM2pafDcyxqMKsjIC4HPTdnHtivJdNt9W+O3xS8e29x4q17w94b8M3MelWdp4fvjaPLcbN00skijLYOAFPA7j1APoKivkCz+LPjK80y1+GH/CQXC+JW8ZT+G5PEihftJsIgJGlHH+t2tt3Y4wOcnNd68GrfBL42eBdJh8U694h8N+LFurO4tdevWvJLe4ijDpLG7cgHOCucdTjpgA+gqK+SPBfjvVWuvAniq58Y6g+vax4nv7DWvD89+XtLazQ3OcQZ2xCJIom34B+bJOK9g+F+qat8TvFF547luryy8JCNrLQNLErRpdR5+e9lQHDFyMRhvuqM4y2aAPV6KK8D/ay8QPodv4BiuPE2qeFNEvNdEOp6hpV49rIsPkucF05x3xyOOnFAHvlFeQfA2Pwgseqap4b+JWteN7cRhLhdZ1xrxbUDJ3bGAMeeeSOQPavPfB2h+KvjV8LNT+JNx458R6Hq9+bu60fT9LvjDZWcMTusUbwgYkJMZ3Fs5BHQ5oA+oaK4P4E+Orv4lfCLwx4kv1Vb6+tc3GxdqtIjMjsB2BKk47ZrgrxdW+M/xu8X+HT4m1fQPC3hG3tIjH4fvTaTXd3OhkLPKo3bUUbdmRzj3oA95or5Bm+K/jTw3pviH4aw+IZbzxFH4ts/Dmm6/egPdR2t0rOJX4+d0VCC+P4x6Cu18QafrHwI+JXw9ex8XeIvEOieI9Q/sbULHxBfNefO65jmjZh+7IIOQOCB0oA+iaK+TLXxprU/iSDX5fFOpW/iA/ET+wJfD39oFrVNPEuxk+zA7flj+fzcZ4znFes+A9b1P4sePZ/FlrfXVr4E0nzbLSIIZDHHq033JrqQA/PEpBWMHjILcHFAHrVFFeUftF/ELUfA/hXSLLRb630vW/EOqwaRbahdAGOzWQkyTnPGEVT19R1oA9XoryD4UeHvDMevC60T4r6x42vbeFlurObxGl/CxOAXaEZ2YJ427QMgVxfgHRde/aG0/wATeLbnxx4j8PRNqVzZaHZ6Jfm3t7aGI7UkkVRiZmbJO7jAwOvAB9J0V5h+zb8QNR+JPwf0XV9YYSawhls7yRVAEkkUjJv4/vBQTwOSeK5jxRdav8VPj1feB4fEOq+HfDnh/Sor29OiXRtrm6uZm+RTKo3KgTnAPJ/QA92or5C8Q/Fjxb8JI/iL4Ch1271rVbW+0228P6vqjCa4jS9HIkYj940eDgkEk5J4GK6zxzo+t/s/6l4G8Q2fjbxJ4hs73WrfR9ZsdcvjdRTpOGBljQ8RspGQFIHIHQHIB9I0V8meLPGetNqvjXX18WanY+JtF8Z2mj6X4dhvWFtcWhe3UKbYHDmRZJX3EE/LwRivWNA1zUfi18TJNR02/ubPwL4Zmkt0a1naNdZvwCrklT88EXTH3Wf1C0Aet0UVzfjzwSvj3RY9OfW9b0AJOs/2rQb5rSc4VhsLgcqd2SPUD0oA6Sivl+y8G6hpH7SfhrwxoPjvxpqlppdo+sa8ura7Lcw+WTtgh2cAlm5IOflIOOK2fC+l6x+0D4k8eapdeMtf8P6LpGsTaFpFr4d1A2qfuAA9xIVH70szAjJxgEYxigD6Horyb9mfxvrPjb4czr4guPtusaNqdzo9xebQpuDCwAkI9SrLn1IJrK+Ieoav4/8AjlpXw5sNevvD+iWmivrmq3Gj3HkXcxMvlRQCUAmMZ+Y4wSD16UAe3UV8k+KPip4l/Z/vviZ4YTXL3xItnpVrqegXOtS/aLmGSeZLcxs7cyhWfeAc8Ifetr4laD4m+APhnQPG0HjvxHr1/a39rDrVlql81xZXkcrBJfLiIAiwx+XbjA9TzQB9OUV8m/FzxlrcevfFfUl8UanomseFJtNTQNItdQKQ3AkRGJeAHE/mszD5gcdOor1f+3dS+KnxTWy0W/urHwd4TuQdSvLOUx/2jqC9LQMp+aKMEGQdGYhSCBQB63RRXnn7QeueIvDfwa8Uan4VWU65b26tC0EXmPGpkUSuq9ysZdh/u0Aeh0V8p+H9cjtPiN8OE+HnxH1/x3/artLrVnqWpNewJZbfmmdCP9HcNnC8c8Y9eq0231b47fFLx7b3HirXvD3hvwzcx6VZ2nh++No8txs3TSySKMtg4AU8DuPUA+gqK8f/AGb/ABdrOs6P4q8PeIL+TV9T8K65caR/aUwAe6hUgxu/q+CQfoOpyaqfF7WtY8TfFrwd8N9K1m98PWd/a3Gq6rfaZKI7owR/Kkcb4ym585Yc+lAHtdFfK3ir4h63+zb4v8XaK2u6n4n0iTwu2t6UdduTcz2t0svk+WZW5aMlg2Dk8ADuSvjbw/4v+F/wbsvibH498R6l4nsUtNQ1Gxvr0vp1ysjoJYRb42ooD4BXB+X1PAB9UUV8rfFnxpe6t4h+JV0/i/VPCo8N+HLLUvD1rZ3xtlupZI5ZGaSMHExLrHFtbIGenNd5D4o1v4ueKdF8PadeXWlabokVtfeKL+ylaB5Loorrp6MpDLyd0uDkLheCTQB7bRRRQAUUUUAUtJ/49X/6+J//AEa9XapaT/x6v/18T/8Ao16u0AFFFFABRRRQAUUUUAFFFFABRRRQAUUUUAFFFFABRRRQAUUUUAFFFFABWT4u0U+JfCutaQGVDqFlNaBmzgeZGy5OPrWtRQB8jeF/jZpnhb9nGbwBfRXkPxHs9OuNETw6trIbmSY7442TC4KkFW3dMA+2fXfCfiGz+B/hP4VeBdagvJtX1SCPTI2tUV4o50iVpN7bhhckgEA9Pxr1yigD5q8LeONG+AHxc+Jun+NLltF0/XtQTWtL1CSGRoboSJ+9RWVT86sANv1x2zxGqeB/EPiT4LeMPHVvpF4by98ZL4rsNLkjIuHs4XCp8mMhim9sEfdAx1GfsyigD5m+I3xK0P8AaGvvAfhbwRdTatJ/btrqmqSRwOi2FrBl3EpZQFcnAC56jHcZ3fHPhTRfih8ULnwlomj2FnBCqT+MNetLVI7maNvmSw85QGLS8M/PCcd8V75RQB8Zpa6fb/ETybKM2/xPh+IXlwxAOsy6IsmFXaOBa/Z8dOPxr7MoooAK8D/bA+JHhnQ/hP4n8LX2sW9t4g1DTRLa2D58yVTJgEcY6o3ftXvlFAHzT42u9O+OP7KN7YeC72PXdW0eysZDDbZLLPB5cjR4wNzFVcADqcYqj8Vvi3o37QngzQvBPg6a4vNd1vULNtQs1gkU6ZCkiyym4JUBQhQD3I4zX1JRQBxk3xB0fVviNf8Aw5ktr06mNHOpSzeWBbmBnERUPu3b8t/dxjPPavAfhZ8ZtM+C/wAGLvwF4ha5svHegG8sbbS47aRpr5jI7QSQYUhlbeBkE/dz0Ir6xooA+Ofhzosn7MPirwFrXi6KSw0TUvCTaVf32x3SxvftBuQsu0Hb8rhPTIJyQCa9M+FGoD4ofHnxd4/04TS+FIdIt9BsLyeJkS8IkMsjRBgMorcZ6HdxnnHvVFAHzdY+DtP+JGua3rPhTQ7HSfCHh8znS49NtY4F1nWI1cC6IUAOkLEqhOQX3HPFcx+z2ujHx38O38ItMdSPh65/4TcZfd9qxDs+0bv+WvnebjPO32r64ooAK+cv2nfj/beE9Wsvh7aazF4cvtWh36jr1xG7DTrRsgmIKpLSuAwXH3evHUfRtFAHzhJY+Bvib+zP4r8CfCi9j1WHTrAIkSRyK7zbvNXcWVdzyNG3PTJ7Cub8efGPTPi18CbPwB4c+03Xj3WYbPTJ9HNtIkli4aPz2mJXCIoVuSe4Prj6zooA4lfiBpPhzx5oPw6MN9JqlzpbXcFwI18jyovkIZt2Qx29ApHuM14f8IPinoX7PXh7xN4I8YSTadrOl6reTafa/Z5GOpW8jb4mgIU7ixJHtkZ74+pqKAPirwF4d1H4Cal8LvHfi21uLPTb2x1C11mbymkOmtcTPPCZQBlQdyg8ZBDA9hXq3gjWYPi/+0hL4z0FpbrwloWgHTItS8tkiurqWbewj3AFlVBgkdwPUZ9/ooA+f9P8GaB8UPiheR6NoWm6b4I8PXofUZ7GzSEa5qiHIjcqo8yKBuWzkM+ByBXm/wACxaN42+Gj6UZB473an/wm4cyedja+PtWeM+Zs2Z9scZr7IooAK8s+L3jj4baRqVlonxH061ks5IftVrd6vpn2my35ZCiuVYJIAM844YYPOK9TooA+S/hj4Ll8b6F8bdJ8JJdw/DbVrb7P4bhvN8cRujAwkeEPgrF5uPQEbfQ4jv8A436drn7NcXgCyjvW+I9xpEfh5/Dq2sguUm2iCRmBUBU2gtnOADjOa+uKKAPOtK8Yad8ONT+Hvw1vI7q41fUNNMFvcwRg24+ywAuXYkEZCnGFPbOK8p+HHxG0H9nnXviL4V8ZTyaL5uv3Gs6TI8EjrfW1wFZViKqQzqVwRnOWx2NfTdFAHxR4Z0PV/hrc/D/4teINOvLewu9e1i81dGjd5rK3v1CwyyIASANpdsA/fUcE4r1PR/E1p8bP2jfDWu+F55NQ8LeE9Lu/O1QRutvJc3ACeVGWA3MFAJxx8v5/QlFAHgGseDtC+KvxSv8AQ9G0PT7Hw3pc6yeKtTtLVIn1a6yskdizqAXVSFklyTzsU4NeZeAksv8AhMvBpsjOvxYXxdejxGp3+d/Z264DeaOnleWLfZ2z92vsyigArxz4reAfHniL4neF/EXh4eHL3StBtpHgsNcuJ4sXshKtMRHE4bbHtC5IwSxr2OigD5O+COj+MfE3jD436PqUGhwW+pXU1rqclvPOxjuHt2VPJyg3R/NyWw3oKr+F/jZpnhb9nGbwBfRXkPxHs9OuNETw6trIbmSY7442TC4KkFW3dMA+2frmigDyPwn4hs/gf4T+FXgXWoLybV9Ugj0yNrVFeKOdIlaTe24YXJIBAPT8a4bwt440b4AfFz4m6f40uW0XT9e1BNa0vUJIZGhuhIn71FZVPzqwA2/XHbP0rRQB8SR6DrGltpfxnu9Kvo9Nfxzc6tLaGFmuINLmRYVnaMDIwEyRjoVI4Oa9RvPGGmfHr45/DyXwfcyatoHhcXep6lqkUbrAsjxiOGEMyjL55IHQE+hx9FUUAeB+OfCmi/FD4oXPhLRNHsLOCFUn8Ya9aWqR3M0bfMlh5ygMWl4Z+eE474ry9LXT7f4ieTZRm3+J8PxC8uGIB1mXRFkwq7RwLX7Pjpx+NfZlFABXKePPiV4W+G6WE3ijUo9LiuHf7PPNDI6BlHOXVSEOG7kZycZ5rq6KAPmzwOul/FL9pLVvFnhK1f8A4Q8eHW0zUtVjhaCHUrqSXdhMgGQquMvj+H/dJwfhZ8ZtM+C/wYu/AXiFrmy8d6AbyxttLjtpGmvmMjtBJBhSGVt4GQT93PQivrGigDw74a61D+z78IfhZ4Z8SWl42p6tcQ6WkdrGr+Rc3DtJiUkjAUvgkZPBwD1rDh8XaV8Bf2gviDceLJW0fw/4shstQ0/VJY3aAyxRmOaIsoOGJJYA44A9RX0bRQB8T61ous69/bfxotdJvriwh8bafq1tavEy3E+mWsZhaVYyM4YMpHGQEJxjmvSPFXj7Sfj98SvhrpXgm8k1nT9G1Ya9qt9FDIkFssKERo5ZR87FioXqM847fSFFAHhXxS0HTPiB8Rk8H+H9KsrXW54Fn8TeJre2jW6tNPYFRbiYLu8ycAqBnhAxxg14/wCKdJ0fR/EHirTraGSz+Jtn4n0+Dwnbx7xJHpq/ZgiwgceSI/P3dv73NfatFABXg/7W3h1NQ8P+Dtdu9NbWNG8P+ILa91WxSDzi1mcrK2zncBkZXHIJ6Yr3iigD5ds7zwl8R/2gvh7qXwutYDaaLDdya5q2l2RgthC8e2KBztUMxbdhcZAOexxH8IPinoX7PXh7xN4I8YSTadrOl6reTafa/Z5GOpW8jb4mgIU7ixJHtkZ74+pqKAPnv4U68P2ef2ffDF34wsdQF9q+pfvbW2jV5YZbuZ3jDhmXGF27u4JIxniotf8AEVj8E/2mNb8R+JpG0/wx4p0a3jj1YxO0MV1AQvlOQDtJTkduR74+iaKAPifx54e1b4rH4i/FHQNOu7zTLTU9Jn0aIxMsl/DZg+fJGhAYqd5K8cgN3GK7/wCI3xK0P9oa+8B+FvBF1Nq0n9u2uqapJHA6LYWsGXcSllAVycALnqMdxn6ZooA8R+Mmn2Pirxtp3hTw9penx+NdSh8y/wDEa2aNdaRpoO15Fl27hI/McYz1yeMV4t8U/Dfh/wAKa5480OG3ksvE+nwaTb+AYU3iZVEcYf7LjqTN5m89zktX2vRQAyHzPJj87b5u0b9mdu7HOM9s1V1vWLXw9o1/qt9J5NjY28l1PJjO2NFLMfwANXaKAPEf2W9HvNT8P658RdXiMWs+Nr5tQ8tusFmhKW0X0CZI9mFcl8OPiNoP7POvfEXwr4ynk0XzdfuNZ0mR4JHW+trgKyrEVUhnUrgjOctjsa+m6KAPnL4W+Lj8D/gPq3jnxjp+pRjWtcuNYexhiD3Ua3UwWMMrFQCQAxyejevFW/iBrFr8If2lNP8AG+tiS18Ka34ebR7jU/LZ47W6jm8xDJtB2hlwo6DOT2NfQVFAHxf8TPD2oftDXXxP8ZeFre5vtKsdHsrDRZ3idRfyQ3K3MxhUgFlADqPUuMZ7dZ8Vvi3o37QngzQvBPg6a4vNd1vULNtQs1gkU6ZCkiyym4JUBQhQD3I4zX1JRQB438bls9T8QaJoGg6Pp1z8RdUU/ZNZmtI5JtGs0Yebd+YVLLtzhACMuwx0NeI/E7wb4S8B6p4x8ParHcQTWPhi2TwRuZzI94fOMrwles7XHllj97k9q+0qKAMrwr9v/wCEX0f+1cnU/scP2vPXztg3/wDj2a88/af1TxJpHwh1Gfwz9sS5M8KXc+nKWuYbUuPOePHIYL3HIBJ4xkesUUAfG/nfD+Dxn4B/4UVc3EniU6nDDqiWK3HkzafkmZr7eOo65Pzct7Y7Pwt440b4AfFz4m6f40uW0XT9e1BNa0vUJIZGhuhIn71FZVPzqwA2/XHbP0rRQB86fCjxR/wrn4b/ABG+KniLTtRt9N1nXJ9XgsliH2n7GWSKE7GK4J5OCR8uDTvidr0Hg/4y/Dv4p3kVxF4Su9Im0y+vPJZzZCQebC0oUHaCWxkdMH2r6JooA+P/AIlaPJ+094o8Zat4RWW/0DS/CbadZ33lskd9fNOJ/Li3AFgFj2kjjdt7Hm748+MemfFr4E2fgDw59puvHusw2emT6ObaRJLFw0fntMSuERQrck9wfXH1nRQB438ZotN02y8N6DpmhaXrvj69AstDn1CzjmeyVAPMu2YqSiRDDcdWKjvXkHxL8CeD/hz4g/sHxO8kujxeEJpdJvLwvm61t55GmmUr965bMRHU4IA4FfYdFAHK/Coasvwx8JjXi51oaVa/bPMzv83yl3bs/wAWc59811VFFABRRRQBQ0VBHYlBkhZ5gNxJP+tbqTyav1S0n/j1f/r4n/8ARr1doAKKKKACiiigAooooAKKKKACiiigAooooAKKKKACiiigAooooAKKKKACiiigAooooAKKKKACiiigAooooAKKKKACiiigAooooAKKKKACiiigAooooAKKKKACiiigAooooAKKKKACiiigAooooAKKKKACiiigAooooAKKKKACiiigAooooAKKKKACiiigAooooAKKKKACiiigAooooAKKKKACiiigAooooAKKKKACiiigAooooAKKKKACiiigAooooAKKKKACiiigAooooAKKKKACiiigAooooAKKKKACiiigAooooA//2Q==)"
      ],
      "metadata": {
        "id": "ZpwNXmBc1s9k"
      }
    }
  ]
}